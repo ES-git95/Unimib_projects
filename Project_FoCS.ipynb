{
  "nbformat": 4,
  "nbformat_minor": 0,
  "metadata": {
    "colab": {
      "name": "Untitled2.ipynb",
      "provenance": [],
      "collapsed_sections": [],
      "toc_visible": true
    },
    "kernelspec": {
      "name": "python3",
      "display_name": "Python 3"
    }
  },
  "cells": [
    {
      "cell_type": "markdown",
      "metadata": {
        "id": "H0Jvp0VxEV0N",
        "colab_type": "text"
      },
      "source": [
        "# **FOUNDATION OF COMPUTER SCIENCE PROJECT**\n",
        "\n",
        "Il progetto riguarda lo studio del dataset [Kiva](https://drive.google.com/file/d/1-tJtnIbo1Rt-F1XfoWGVkmBXiI-ciuRx/view?usp=sharing). In particolare la ricerca di soluzioni ottimali alle richieste consultabili alla [pagina](http://gianluca.dellavedova.org/foundationsCS/2019-project) del corso di Foundation of Computer Science presso Università degli Studi di Milano - Bicocca.\n",
        "\n",
        "---\n",
        "\n",
        "**1.** Normalize the loan_lenders table. In the normalized table, each row must have one loan_id and one lender."
      ]
    },
    {
      "cell_type": "code",
      "metadata": {
        "id": "4W36nn8fI5-4",
        "colab_type": "code",
        "colab": {}
      },
      "source": [
        "import pandas as pd\n",
        "import itertools as it\n",
        "loans_lenders=pd.read_csv('/content/drive/My Drive/loans_lenders.csv')"
      ],
      "execution_count": 1,
      "outputs": []
    },
    {
      "cell_type": "code",
      "metadata": {
        "colab_type": "code",
        "id": "SVFwuNUbJAz1",
        "colab": {
          "base_uri": "https://localhost:8080/",
          "height": 50
        },
        "outputId": "99347b84-c66d-4e9e-9fe4-19a645df44a1"
      },
      "source": [
        "%%time\n",
        "flatten = lambda l: [item for sublist in l for item in sublist]\n",
        "\n",
        "l=[]\n",
        "l1=[]\n",
        "for i in range(0,len(loans_lenders)):\n",
        "    x=loans_lenders.iloc[i,1].split(', ')\n",
        "    l.append(x)\n",
        "    k=len(x)\n",
        "    l1.append(list(it.repeat(loans_lenders.iloc[i,0],k)))\n",
        "    \n",
        "df1=pd.DataFrame({'loan': flatten(l1),'lender':flatten(l)})"
      ],
      "execution_count": 2,
      "outputs": [
        {
          "output_type": "stream",
          "text": [
            "CPU times: user 48.2 s, sys: 3.72 s, total: 51.9 s\n",
            "Wall time: 51.9 s\n"
          ],
          "name": "stdout"
        }
      ]
    },
    {
      "cell_type": "code",
      "metadata": {
        "id": "46oDOcjGGQb-",
        "colab_type": "code",
        "colab": {
          "base_uri": "https://localhost:8080/",
          "height": 402
        },
        "outputId": "151357ec-0925-43bb-f251-6d3c67d77690"
      },
      "source": [
        "df1"
      ],
      "execution_count": 3,
      "outputs": [
        {
          "output_type": "execute_result",
          "data": {
            "text/html": [
              "<div>\n",
              "<style scoped>\n",
              "    .dataframe tbody tr th:only-of-type {\n",
              "        vertical-align: middle;\n",
              "    }\n",
              "\n",
              "    .dataframe tbody tr th {\n",
              "        vertical-align: top;\n",
              "    }\n",
              "\n",
              "    .dataframe thead th {\n",
              "        text-align: right;\n",
              "    }\n",
              "</style>\n",
              "<table border=\"1\" class=\"dataframe\">\n",
              "  <thead>\n",
              "    <tr style=\"text-align: right;\">\n",
              "      <th></th>\n",
              "      <th>loan</th>\n",
              "      <th>lender</th>\n",
              "    </tr>\n",
              "  </thead>\n",
              "  <tbody>\n",
              "    <tr>\n",
              "      <th>0</th>\n",
              "      <td>483693</td>\n",
              "      <td>muc888</td>\n",
              "    </tr>\n",
              "    <tr>\n",
              "      <th>1</th>\n",
              "      <td>483693</td>\n",
              "      <td>sam4326</td>\n",
              "    </tr>\n",
              "    <tr>\n",
              "      <th>2</th>\n",
              "      <td>483693</td>\n",
              "      <td>camaran3922</td>\n",
              "    </tr>\n",
              "    <tr>\n",
              "      <th>3</th>\n",
              "      <td>483693</td>\n",
              "      <td>lachheb1865</td>\n",
              "    </tr>\n",
              "    <tr>\n",
              "      <th>4</th>\n",
              "      <td>483693</td>\n",
              "      <td>rebecca3499</td>\n",
              "    </tr>\n",
              "    <tr>\n",
              "      <th>...</th>\n",
              "      <td>...</td>\n",
              "      <td>...</td>\n",
              "    </tr>\n",
              "    <tr>\n",
              "      <th>28293926</th>\n",
              "      <td>1206425</td>\n",
              "      <td>trogdorfamily7622</td>\n",
              "    </tr>\n",
              "    <tr>\n",
              "      <th>28293927</th>\n",
              "      <td>1206425</td>\n",
              "      <td>danny6470</td>\n",
              "    </tr>\n",
              "    <tr>\n",
              "      <th>28293928</th>\n",
              "      <td>1206425</td>\n",
              "      <td>don6118</td>\n",
              "    </tr>\n",
              "    <tr>\n",
              "      <th>28293929</th>\n",
              "      <td>1206486</td>\n",
              "      <td>alan5175</td>\n",
              "    </tr>\n",
              "    <tr>\n",
              "      <th>28293930</th>\n",
              "      <td>1206486</td>\n",
              "      <td>amy38101311</td>\n",
              "    </tr>\n",
              "  </tbody>\n",
              "</table>\n",
              "<p>28293931 rows × 2 columns</p>\n",
              "</div>"
            ],
            "text/plain": [
              "             loan             lender\n",
              "0          483693             muc888\n",
              "1          483693            sam4326\n",
              "2          483693        camaran3922\n",
              "3          483693        lachheb1865\n",
              "4          483693        rebecca3499\n",
              "...           ...                ...\n",
              "28293926  1206425  trogdorfamily7622\n",
              "28293927  1206425          danny6470\n",
              "28293928  1206425            don6118\n",
              "28293929  1206486           alan5175\n",
              "28293930  1206486        amy38101311\n",
              "\n",
              "[28293931 rows x 2 columns]"
            ]
          },
          "metadata": {
            "tags": []
          },
          "execution_count": 3
        }
      ]
    },
    {
      "cell_type": "markdown",
      "metadata": {
        "id": "RfL5h__xJ8r6",
        "colab_type": "text"
      },
      "source": [
        "**2.** For each loan, add a column duration corresponding to the number of days between the disburse time and the planned expiration time. If any of those two dates is missing, also the duration must be missing."
      ]
    },
    {
      "cell_type": "code",
      "metadata": {
        "id": "-aAfeIegL2wc",
        "colab_type": "code",
        "colab": {}
      },
      "source": [
        "loans=pd.read_csv('/content/drive/My Drive/loans.csv')"
      ],
      "execution_count": 4,
      "outputs": []
    },
    {
      "cell_type": "code",
      "metadata": {
        "id": "-KKN5b9vKDJT",
        "colab_type": "code",
        "colab": {
          "base_uri": "https://localhost:8080/",
          "height": 50
        },
        "outputId": "30f15836-55ae-44c6-da10-2b6f8553c241"
      },
      "source": [
        "%%time\n",
        "time_delta=pd.to_datetime(loans['planned_expiration_time'])-pd.to_datetime(loans['disburse_time'])\n",
        "loans['duration']=time_delta.dt.days\n",
        "df2=loans[['loan_id','disburse_time','planned_expiration_time','duration']]"
      ],
      "execution_count": 5,
      "outputs": [
        {
          "output_type": "stream",
          "text": [
            "CPU times: user 1 s, sys: 4.74 ms, total: 1.01 s\n",
            "Wall time: 1.03 s\n"
          ],
          "name": "stdout"
        }
      ]
    },
    {
      "cell_type": "code",
      "metadata": {
        "id": "8hHF_1g0KnLc",
        "colab_type": "code",
        "colab": {
          "base_uri": "https://localhost:8080/",
          "height": 402
        },
        "outputId": "09a36721-a381-4a45-b7d6-bd8d6a12e148"
      },
      "source": [
        "df2"
      ],
      "execution_count": 6,
      "outputs": [
        {
          "output_type": "execute_result",
          "data": {
            "text/html": [
              "<div>\n",
              "<style scoped>\n",
              "    .dataframe tbody tr th:only-of-type {\n",
              "        vertical-align: middle;\n",
              "    }\n",
              "\n",
              "    .dataframe tbody tr th {\n",
              "        vertical-align: top;\n",
              "    }\n",
              "\n",
              "    .dataframe thead th {\n",
              "        text-align: right;\n",
              "    }\n",
              "</style>\n",
              "<table border=\"1\" class=\"dataframe\">\n",
              "  <thead>\n",
              "    <tr style=\"text-align: right;\">\n",
              "      <th></th>\n",
              "      <th>loan_id</th>\n",
              "      <th>disburse_time</th>\n",
              "      <th>planned_expiration_time</th>\n",
              "      <th>duration</th>\n",
              "    </tr>\n",
              "  </thead>\n",
              "  <tbody>\n",
              "    <tr>\n",
              "      <th>0</th>\n",
              "      <td>657307</td>\n",
              "      <td>2013-12-22 08:00:00.000 +0000</td>\n",
              "      <td>2014-02-14 03:30:06.000 +0000</td>\n",
              "      <td>53.0</td>\n",
              "    </tr>\n",
              "    <tr>\n",
              "      <th>1</th>\n",
              "      <td>657259</td>\n",
              "      <td>2013-12-20 08:00:00.000 +0000</td>\n",
              "      <td>2014-03-26 22:25:07.000 +0000</td>\n",
              "      <td>96.0</td>\n",
              "    </tr>\n",
              "    <tr>\n",
              "      <th>2</th>\n",
              "      <td>658010</td>\n",
              "      <td>2014-01-09 08:00:00.000 +0000</td>\n",
              "      <td>2014-02-15 21:10:05.000 +0000</td>\n",
              "      <td>37.0</td>\n",
              "    </tr>\n",
              "    <tr>\n",
              "      <th>3</th>\n",
              "      <td>659347</td>\n",
              "      <td>2014-01-17 08:00:00.000 +0000</td>\n",
              "      <td>2014-02-21 03:10:02.000 +0000</td>\n",
              "      <td>34.0</td>\n",
              "    </tr>\n",
              "    <tr>\n",
              "      <th>4</th>\n",
              "      <td>656933</td>\n",
              "      <td>2013-12-17 08:00:00.000 +0000</td>\n",
              "      <td>2014-02-13 06:10:02.000 +0000</td>\n",
              "      <td>57.0</td>\n",
              "    </tr>\n",
              "    <tr>\n",
              "      <th>...</th>\n",
              "      <td>...</td>\n",
              "      <td>...</td>\n",
              "      <td>...</td>\n",
              "      <td>...</td>\n",
              "    </tr>\n",
              "    <tr>\n",
              "      <th>1419602</th>\n",
              "      <td>988180</td>\n",
              "      <td>2015-11-23 08:00:00.000 +0000</td>\n",
              "      <td>2016-01-02 01:00:03.000 +0000</td>\n",
              "      <td>39.0</td>\n",
              "    </tr>\n",
              "    <tr>\n",
              "      <th>1419603</th>\n",
              "      <td>988213</td>\n",
              "      <td>2015-11-24 08:00:00.000 +0000</td>\n",
              "      <td>2016-01-02 16:40:07.000 +0000</td>\n",
              "      <td>39.0</td>\n",
              "    </tr>\n",
              "    <tr>\n",
              "      <th>1419604</th>\n",
              "      <td>989109</td>\n",
              "      <td>2015-11-13 08:00:00.000 +0000</td>\n",
              "      <td>2016-01-03 22:20:04.000 +0000</td>\n",
              "      <td>51.0</td>\n",
              "    </tr>\n",
              "    <tr>\n",
              "      <th>1419605</th>\n",
              "      <td>989143</td>\n",
              "      <td>2015-11-03 08:00:00.000 +0000</td>\n",
              "      <td>2016-01-05 08:50:02.000 +0000</td>\n",
              "      <td>63.0</td>\n",
              "    </tr>\n",
              "    <tr>\n",
              "      <th>1419606</th>\n",
              "      <td>989240</td>\n",
              "      <td>2015-11-03 08:00:00.000 +0000</td>\n",
              "      <td>2016-01-03 20:50:06.000 +0000</td>\n",
              "      <td>61.0</td>\n",
              "    </tr>\n",
              "  </tbody>\n",
              "</table>\n",
              "<p>1419607 rows × 4 columns</p>\n",
              "</div>"
            ],
            "text/plain": [
              "         loan_id  ... duration\n",
              "0         657307  ...     53.0\n",
              "1         657259  ...     96.0\n",
              "2         658010  ...     37.0\n",
              "3         659347  ...     34.0\n",
              "4         656933  ...     57.0\n",
              "...          ...  ...      ...\n",
              "1419602   988180  ...     39.0\n",
              "1419603   988213  ...     39.0\n",
              "1419604   989109  ...     51.0\n",
              "1419605   989143  ...     63.0\n",
              "1419606   989240  ...     61.0\n",
              "\n",
              "[1419607 rows x 4 columns]"
            ]
          },
          "metadata": {
            "tags": []
          },
          "execution_count": 6
        }
      ]
    },
    {
      "cell_type": "markdown",
      "metadata": {
        "id": "mtCyCG7QKtJf",
        "colab_type": "text"
      },
      "source": [
        "**3.** Find the lenders that have funded at least twice."
      ]
    },
    {
      "cell_type": "code",
      "metadata": {
        "id": "O-VOaX-8KwyL",
        "colab_type": "code",
        "colab": {
          "base_uri": "https://localhost:8080/",
          "height": 50
        },
        "outputId": "f4445909-b669-46c1-8419-561f2287fbdc"
      },
      "source": [
        "%%time\n",
        "df1_dup=df1.groupby('lender').count()\n",
        "df3=df1_dup.loc[df1_dup['loan']>1,:]"
      ],
      "execution_count": 7,
      "outputs": [
        {
          "output_type": "stream",
          "text": [
            "CPU times: user 14.6 s, sys: 629 ms, total: 15.2 s\n",
            "Wall time: 15.2 s\n"
          ],
          "name": "stdout"
        }
      ]
    },
    {
      "cell_type": "code",
      "metadata": {
        "id": "iSNng_neK55B",
        "colab_type": "code",
        "colab": {
          "base_uri": "https://localhost:8080/",
          "height": 431
        },
        "outputId": "6a090734-1daa-4085-a146-84c4a3102a07"
      },
      "source": [
        "df3.sort_values(by=['loan'],ascending=True)"
      ],
      "execution_count": 8,
      "outputs": [
        {
          "output_type": "execute_result",
          "data": {
            "text/html": [
              "<div>\n",
              "<style scoped>\n",
              "    .dataframe tbody tr th:only-of-type {\n",
              "        vertical-align: middle;\n",
              "    }\n",
              "\n",
              "    .dataframe tbody tr th {\n",
              "        vertical-align: top;\n",
              "    }\n",
              "\n",
              "    .dataframe thead th {\n",
              "        text-align: right;\n",
              "    }\n",
              "</style>\n",
              "<table border=\"1\" class=\"dataframe\">\n",
              "  <thead>\n",
              "    <tr style=\"text-align: right;\">\n",
              "      <th></th>\n",
              "      <th>loan</th>\n",
              "    </tr>\n",
              "    <tr>\n",
              "      <th>lender</th>\n",
              "      <th></th>\n",
              "    </tr>\n",
              "  </thead>\n",
              "  <tbody>\n",
              "    <tr>\n",
              "      <th>jennifer27158118</th>\n",
              "      <td>2</td>\n",
              "    </tr>\n",
              "    <tr>\n",
              "      <th>stacey2336</th>\n",
              "      <td>2</td>\n",
              "    </tr>\n",
              "    <tr>\n",
              "      <th>laura8785</th>\n",
              "      <td>2</td>\n",
              "    </tr>\n",
              "    <tr>\n",
              "      <th>laura87813242</th>\n",
              "      <td>2</td>\n",
              "    </tr>\n",
              "    <tr>\n",
              "      <th>laura8777</th>\n",
              "      <td>2</td>\n",
              "    </tr>\n",
              "    <tr>\n",
              "      <th>...</th>\n",
              "      <td>...</td>\n",
              "    </tr>\n",
              "    <tr>\n",
              "      <th>themissionbeltco</th>\n",
              "      <td>81434</td>\n",
              "    </tr>\n",
              "    <tr>\n",
              "      <th>nms</th>\n",
              "      <td>104314</td>\n",
              "    </tr>\n",
              "    <tr>\n",
              "      <th>gmct</th>\n",
              "      <td>128159</td>\n",
              "    </tr>\n",
              "    <tr>\n",
              "      <th>trolltech4460</th>\n",
              "      <td>150762</td>\n",
              "    </tr>\n",
              "    <tr>\n",
              "      <th>gooddogg1</th>\n",
              "      <td>177645</td>\n",
              "    </tr>\n",
              "  </tbody>\n",
              "</table>\n",
              "<p>901811 rows × 1 columns</p>\n",
              "</div>"
            ],
            "text/plain": [
              "                    loan\n",
              "lender                  \n",
              "jennifer27158118       2\n",
              "stacey2336             2\n",
              "laura8785              2\n",
              "laura87813242          2\n",
              "laura8777              2\n",
              "...                  ...\n",
              "themissionbeltco   81434\n",
              "nms               104314\n",
              "gmct              128159\n",
              "trolltech4460     150762\n",
              "gooddogg1         177645\n",
              "\n",
              "[901811 rows x 1 columns]"
            ]
          },
          "metadata": {
            "tags": []
          },
          "execution_count": 8
        }
      ]
    },
    {
      "cell_type": "markdown",
      "metadata": {
        "id": "LrR04hVtK81n",
        "colab_type": "text"
      },
      "source": [
        "**4.** For each country, compute how many loans have involved that country as borrowers"
      ]
    },
    {
      "cell_type": "code",
      "metadata": {
        "id": "d8QDD2g8K9GD",
        "colab_type": "code",
        "colab": {
          "base_uri": "https://localhost:8080/",
          "height": 50
        },
        "outputId": "f1dfaeff-ee87-4b45-9352-8cc33c32c4c7"
      },
      "source": [
        "%%time\n",
        "df4=loans.groupby('country_name')['loan_id'].count()"
      ],
      "execution_count": 9,
      "outputs": [
        {
          "output_type": "stream",
          "text": [
            "CPU times: user 94.5 ms, sys: 2.95 ms, total: 97.4 ms\n",
            "Wall time: 97.8 ms\n"
          ],
          "name": "stdout"
        }
      ]
    },
    {
      "cell_type": "code",
      "metadata": {
        "id": "Xuu7YNT3LKi6",
        "colab_type": "code",
        "colab": {
          "base_uri": "https://localhost:8080/",
          "height": 431
        },
        "outputId": "33409362-e894-4b45-a0ef-3eda561bc544"
      },
      "source": [
        "df4.to_frame()"
      ],
      "execution_count": 10,
      "outputs": [
        {
          "output_type": "execute_result",
          "data": {
            "text/html": [
              "<div>\n",
              "<style scoped>\n",
              "    .dataframe tbody tr th:only-of-type {\n",
              "        vertical-align: middle;\n",
              "    }\n",
              "\n",
              "    .dataframe tbody tr th {\n",
              "        vertical-align: top;\n",
              "    }\n",
              "\n",
              "    .dataframe thead th {\n",
              "        text-align: right;\n",
              "    }\n",
              "</style>\n",
              "<table border=\"1\" class=\"dataframe\">\n",
              "  <thead>\n",
              "    <tr style=\"text-align: right;\">\n",
              "      <th></th>\n",
              "      <th>loan_id</th>\n",
              "    </tr>\n",
              "    <tr>\n",
              "      <th>country_name</th>\n",
              "      <th></th>\n",
              "    </tr>\n",
              "  </thead>\n",
              "  <tbody>\n",
              "    <tr>\n",
              "      <th>Afghanistan</th>\n",
              "      <td>2337</td>\n",
              "    </tr>\n",
              "    <tr>\n",
              "      <th>Albania</th>\n",
              "      <td>3075</td>\n",
              "    </tr>\n",
              "    <tr>\n",
              "      <th>Armenia</th>\n",
              "      <td>13952</td>\n",
              "    </tr>\n",
              "    <tr>\n",
              "      <th>Azerbaijan</th>\n",
              "      <td>10172</td>\n",
              "    </tr>\n",
              "    <tr>\n",
              "      <th>Belize</th>\n",
              "      <td>218</td>\n",
              "    </tr>\n",
              "    <tr>\n",
              "      <th>...</th>\n",
              "      <td>...</td>\n",
              "    </tr>\n",
              "    <tr>\n",
              "      <th>Vietnam</th>\n",
              "      <td>21839</td>\n",
              "    </tr>\n",
              "    <tr>\n",
              "      <th>Virgin Islands</th>\n",
              "      <td>2</td>\n",
              "    </tr>\n",
              "    <tr>\n",
              "      <th>Yemen</th>\n",
              "      <td>4206</td>\n",
              "    </tr>\n",
              "    <tr>\n",
              "      <th>Zambia</th>\n",
              "      <td>1277</td>\n",
              "    </tr>\n",
              "    <tr>\n",
              "      <th>Zimbabwe</th>\n",
              "      <td>5513</td>\n",
              "    </tr>\n",
              "  </tbody>\n",
              "</table>\n",
              "<p>96 rows × 1 columns</p>\n",
              "</div>"
            ],
            "text/plain": [
              "                loan_id\n",
              "country_name           \n",
              "Afghanistan        2337\n",
              "Albania            3075\n",
              "Armenia           13952\n",
              "Azerbaijan        10172\n",
              "Belize              218\n",
              "...                 ...\n",
              "Vietnam           21839\n",
              "Virgin Islands        2\n",
              "Yemen              4206\n",
              "Zambia             1277\n",
              "Zimbabwe           5513\n",
              "\n",
              "[96 rows x 1 columns]"
            ]
          },
          "metadata": {
            "tags": []
          },
          "execution_count": 10
        }
      ]
    },
    {
      "cell_type": "markdown",
      "metadata": {
        "id": "GQN6JVoDLOvq",
        "colab_type": "text"
      },
      "source": [
        "**5.** For each country, compute the overall amount of money borrowed."
      ]
    },
    {
      "cell_type": "code",
      "metadata": {
        "id": "g_fm6qQ5LRmX",
        "colab_type": "code",
        "colab": {
          "base_uri": "https://localhost:8080/",
          "height": 50
        },
        "outputId": "1083fb61-c5a3-4303-91af-e60cc748c760"
      },
      "source": [
        "%%time\n",
        "df5=loans.groupby('country_name')['loan_amount'].sum().sort_values(ascending=False)"
      ],
      "execution_count": 11,
      "outputs": [
        {
          "output_type": "stream",
          "text": [
            "CPU times: user 87.9 ms, sys: 2.14 ms, total: 90.1 ms\n",
            "Wall time: 101 ms\n"
          ],
          "name": "stdout"
        }
      ]
    },
    {
      "cell_type": "code",
      "metadata": {
        "id": "qIKx-1KyLvCA",
        "colab_type": "code",
        "colab": {
          "base_uri": "https://localhost:8080/",
          "height": 431
        },
        "outputId": "088600e2-9702-4d89-de1e-aec941a456a1"
      },
      "source": [
        "df5.to_frame()"
      ],
      "execution_count": 12,
      "outputs": [
        {
          "output_type": "execute_result",
          "data": {
            "text/html": [
              "<div>\n",
              "<style scoped>\n",
              "    .dataframe tbody tr th:only-of-type {\n",
              "        vertical-align: middle;\n",
              "    }\n",
              "\n",
              "    .dataframe tbody tr th {\n",
              "        vertical-align: top;\n",
              "    }\n",
              "\n",
              "    .dataframe thead th {\n",
              "        text-align: right;\n",
              "    }\n",
              "</style>\n",
              "<table border=\"1\" class=\"dataframe\">\n",
              "  <thead>\n",
              "    <tr style=\"text-align: right;\">\n",
              "      <th></th>\n",
              "      <th>loan_amount</th>\n",
              "    </tr>\n",
              "    <tr>\n",
              "      <th>country_name</th>\n",
              "      <th></th>\n",
              "    </tr>\n",
              "  </thead>\n",
              "  <tbody>\n",
              "    <tr>\n",
              "      <th>Philippines</th>\n",
              "      <td>97984600.0</td>\n",
              "    </tr>\n",
              "    <tr>\n",
              "      <th>Peru</th>\n",
              "      <td>79437775.0</td>\n",
              "    </tr>\n",
              "    <tr>\n",
              "      <th>Kenya</th>\n",
              "      <td>66735975.0</td>\n",
              "    </tr>\n",
              "    <tr>\n",
              "      <th>Paraguay</th>\n",
              "      <td>53964700.0</td>\n",
              "    </tr>\n",
              "    <tr>\n",
              "      <th>Cambodia</th>\n",
              "      <td>51613525.0</td>\n",
              "    </tr>\n",
              "    <tr>\n",
              "      <th>...</th>\n",
              "      <td>...</td>\n",
              "    </tr>\n",
              "    <tr>\n",
              "      <th>Virgin Islands</th>\n",
              "      <td>10000.0</td>\n",
              "    </tr>\n",
              "    <tr>\n",
              "      <th>Vanuatu</th>\n",
              "      <td>9250.0</td>\n",
              "    </tr>\n",
              "    <tr>\n",
              "      <th>Botswana</th>\n",
              "      <td>8000.0</td>\n",
              "    </tr>\n",
              "    <tr>\n",
              "      <th>Uruguay</th>\n",
              "      <td>8000.0</td>\n",
              "    </tr>\n",
              "    <tr>\n",
              "      <th>Gaza</th>\n",
              "      <td>5000.0</td>\n",
              "    </tr>\n",
              "  </tbody>\n",
              "</table>\n",
              "<p>96 rows × 1 columns</p>\n",
              "</div>"
            ],
            "text/plain": [
              "                loan_amount\n",
              "country_name               \n",
              "Philippines      97984600.0\n",
              "Peru             79437775.0\n",
              "Kenya            66735975.0\n",
              "Paraguay         53964700.0\n",
              "Cambodia         51613525.0\n",
              "...                     ...\n",
              "Virgin Islands      10000.0\n",
              "Vanuatu              9250.0\n",
              "Botswana             8000.0\n",
              "Uruguay              8000.0\n",
              "Gaza                 5000.0\n",
              "\n",
              "[96 rows x 1 columns]"
            ]
          },
          "metadata": {
            "tags": []
          },
          "execution_count": 12
        }
      ]
    },
    {
      "cell_type": "markdown",
      "metadata": {
        "id": "HJaPSXXcLYox",
        "colab_type": "text"
      },
      "source": [
        "**6.** Like the previous point, but expressed as a percentage of the overall amount lent."
      ]
    },
    {
      "cell_type": "code",
      "metadata": {
        "id": "6GaHEez6Lbyf",
        "colab_type": "code",
        "colab": {
          "base_uri": "https://localhost:8080/",
          "height": 50
        },
        "outputId": "7802c09f-5a80-453b-aa1e-972fdc0d1a9f"
      },
      "source": [
        "%%time\n",
        "tot=loans['loan_amount'].sum()\n",
        "df6=loans.groupby('country_name')['loan_amount'].apply(lambda x: (x.sum()/tot)*100).sort_values(ascending=False)"
      ],
      "execution_count": 13,
      "outputs": [
        {
          "output_type": "stream",
          "text": [
            "CPU times: user 215 ms, sys: 5.95 ms, total: 221 ms\n",
            "Wall time: 230 ms\n"
          ],
          "name": "stdout"
        }
      ]
    },
    {
      "cell_type": "code",
      "metadata": {
        "id": "5Zmclk7RLwxo",
        "colab_type": "code",
        "colab": {
          "base_uri": "https://localhost:8080/",
          "height": 431
        },
        "outputId": "e9014ba9-1bf8-4832-f378-8d4a86bf42a4"
      },
      "source": [
        "df6.to_frame()"
      ],
      "execution_count": 14,
      "outputs": [
        {
          "output_type": "execute_result",
          "data": {
            "text/html": [
              "<div>\n",
              "<style scoped>\n",
              "    .dataframe tbody tr th:only-of-type {\n",
              "        vertical-align: middle;\n",
              "    }\n",
              "\n",
              "    .dataframe tbody tr th {\n",
              "        vertical-align: top;\n",
              "    }\n",
              "\n",
              "    .dataframe thead th {\n",
              "        text-align: right;\n",
              "    }\n",
              "</style>\n",
              "<table border=\"1\" class=\"dataframe\">\n",
              "  <thead>\n",
              "    <tr style=\"text-align: right;\">\n",
              "      <th></th>\n",
              "      <th>loan_amount</th>\n",
              "    </tr>\n",
              "    <tr>\n",
              "      <th>country_name</th>\n",
              "      <th></th>\n",
              "    </tr>\n",
              "  </thead>\n",
              "  <tbody>\n",
              "    <tr>\n",
              "      <th>Philippines</th>\n",
              "      <td>8.293678</td>\n",
              "    </tr>\n",
              "    <tr>\n",
              "      <th>Peru</th>\n",
              "      <td>6.723825</td>\n",
              "    </tr>\n",
              "    <tr>\n",
              "      <th>Kenya</th>\n",
              "      <td>5.648711</td>\n",
              "    </tr>\n",
              "    <tr>\n",
              "      <th>Paraguay</th>\n",
              "      <td>4.567716</td>\n",
              "    </tr>\n",
              "    <tr>\n",
              "      <th>Cambodia</th>\n",
              "      <td>4.368706</td>\n",
              "    </tr>\n",
              "    <tr>\n",
              "      <th>...</th>\n",
              "      <td>...</td>\n",
              "    </tr>\n",
              "    <tr>\n",
              "      <th>Virgin Islands</th>\n",
              "      <td>0.000846</td>\n",
              "    </tr>\n",
              "    <tr>\n",
              "      <th>Vanuatu</th>\n",
              "      <td>0.000783</td>\n",
              "    </tr>\n",
              "    <tr>\n",
              "      <th>Botswana</th>\n",
              "      <td>0.000677</td>\n",
              "    </tr>\n",
              "    <tr>\n",
              "      <th>Uruguay</th>\n",
              "      <td>0.000677</td>\n",
              "    </tr>\n",
              "    <tr>\n",
              "      <th>Gaza</th>\n",
              "      <td>0.000423</td>\n",
              "    </tr>\n",
              "  </tbody>\n",
              "</table>\n",
              "<p>96 rows × 1 columns</p>\n",
              "</div>"
            ],
            "text/plain": [
              "                loan_amount\n",
              "country_name               \n",
              "Philippines        8.293678\n",
              "Peru               6.723825\n",
              "Kenya              5.648711\n",
              "Paraguay           4.567716\n",
              "Cambodia           4.368706\n",
              "...                     ...\n",
              "Virgin Islands     0.000846\n",
              "Vanuatu            0.000783\n",
              "Botswana           0.000677\n",
              "Uruguay            0.000677\n",
              "Gaza               0.000423\n",
              "\n",
              "[96 rows x 1 columns]"
            ]
          },
          "metadata": {
            "tags": []
          },
          "execution_count": 14
        }
      ]
    },
    {
      "cell_type": "markdown",
      "metadata": {
        "id": "R0sCmyGALjxu",
        "colab_type": "text"
      },
      "source": [
        "**7.** Like the three previous points, but split for each year (with respect to disburse time)."
      ]
    },
    {
      "cell_type": "code",
      "metadata": {
        "id": "femFyWnwLmxE",
        "colab_type": "code",
        "colab": {
          "base_uri": "https://localhost:8080/",
          "height": 50
        },
        "outputId": "8d4e8e53-bde2-4198-eb1e-04dd57589a91"
      },
      "source": [
        "%%time\n",
        "loans['year']=pd.to_datetime(loans['disburse_time']).dt.year\n",
        "df7=(loans.groupby(['year','country_name'])['loan_amount'].sum()/loans.groupby(['year'])['loan_amount'].sum())*100"
      ],
      "execution_count": 15,
      "outputs": [
        {
          "output_type": "stream",
          "text": [
            "CPU times: user 666 ms, sys: 8.72 ms, total: 675 ms\n",
            "Wall time: 707 ms\n"
          ],
          "name": "stdout"
        }
      ]
    },
    {
      "cell_type": "code",
      "metadata": {
        "id": "D5K_hd71LyDf",
        "colab_type": "code",
        "colab": {
          "base_uri": "https://localhost:8080/",
          "height": 431
        },
        "outputId": "bb26f4b0-e17e-4851-aa4c-a6e0ab890523"
      },
      "source": [
        "df7.to_frame()"
      ],
      "execution_count": 16,
      "outputs": [
        {
          "output_type": "execute_result",
          "data": {
            "text/html": [
              "<div>\n",
              "<style scoped>\n",
              "    .dataframe tbody tr th:only-of-type {\n",
              "        vertical-align: middle;\n",
              "    }\n",
              "\n",
              "    .dataframe tbody tr th {\n",
              "        vertical-align: top;\n",
              "    }\n",
              "\n",
              "    .dataframe thead th {\n",
              "        text-align: right;\n",
              "    }\n",
              "</style>\n",
              "<table border=\"1\" class=\"dataframe\">\n",
              "  <thead>\n",
              "    <tr style=\"text-align: right;\">\n",
              "      <th></th>\n",
              "      <th></th>\n",
              "      <th>loan_amount</th>\n",
              "    </tr>\n",
              "    <tr>\n",
              "      <th>year</th>\n",
              "      <th>country_name</th>\n",
              "      <th></th>\n",
              "    </tr>\n",
              "  </thead>\n",
              "  <tbody>\n",
              "    <tr>\n",
              "      <th rowspan=\"5\" valign=\"top\">2005.0</th>\n",
              "      <th>Bulgaria</th>\n",
              "      <td>1.798736</td>\n",
              "    </tr>\n",
              "    <tr>\n",
              "      <th>Cambodia</th>\n",
              "      <td>1.579971</td>\n",
              "    </tr>\n",
              "    <tr>\n",
              "      <th>Ecuador</th>\n",
              "      <td>4.861449</td>\n",
              "    </tr>\n",
              "    <tr>\n",
              "      <th>Gaza</th>\n",
              "      <td>4.861449</td>\n",
              "    </tr>\n",
              "    <tr>\n",
              "      <th>Honduras</th>\n",
              "      <td>32.377248</td>\n",
              "    </tr>\n",
              "    <tr>\n",
              "      <th>...</th>\n",
              "      <th>...</th>\n",
              "      <td>...</td>\n",
              "    </tr>\n",
              "    <tr>\n",
              "      <th rowspan=\"5\" valign=\"top\">2018.0</th>\n",
              "      <th>Tanzania</th>\n",
              "      <td>1.444408</td>\n",
              "    </tr>\n",
              "    <tr>\n",
              "      <th>Thailand</th>\n",
              "      <td>2.676700</td>\n",
              "    </tr>\n",
              "    <tr>\n",
              "      <th>Uganda</th>\n",
              "      <td>2.196914</td>\n",
              "    </tr>\n",
              "    <tr>\n",
              "      <th>Uruguay</th>\n",
              "      <td>0.808060</td>\n",
              "    </tr>\n",
              "    <tr>\n",
              "      <th>Zambia</th>\n",
              "      <td>1.411581</td>\n",
              "    </tr>\n",
              "  </tbody>\n",
              "</table>\n",
              "<p>748 rows × 1 columns</p>\n",
              "</div>"
            ],
            "text/plain": [
              "                     loan_amount\n",
              "year   country_name             \n",
              "2005.0 Bulgaria         1.798736\n",
              "       Cambodia         1.579971\n",
              "       Ecuador          4.861449\n",
              "       Gaza             4.861449\n",
              "       Honduras        32.377248\n",
              "...                          ...\n",
              "2018.0 Tanzania         1.444408\n",
              "       Thailand         2.676700\n",
              "       Uganda           2.196914\n",
              "       Uruguay          0.808060\n",
              "       Zambia           1.411581\n",
              "\n",
              "[748 rows x 1 columns]"
            ]
          },
          "metadata": {
            "tags": []
          },
          "execution_count": 16
        }
      ]
    },
    {
      "cell_type": "markdown",
      "metadata": {
        "id": "8IUNxk3iHb7U",
        "colab_type": "text"
      },
      "source": [
        "**8.** For each lender, compute the overall amount of money lent. For each loan that has more than one lender, you must assume that all lenders contributed the same amount."
      ]
    },
    {
      "cell_type": "code",
      "metadata": {
        "id": "9U2DDC0_Hgtn",
        "colab_type": "code",
        "colab": {
          "base_uri": "https://localhost:8080/",
          "height": 50
        },
        "outputId": "b6093ce9-0d18-4916-8ed9-90dff0eeb597"
      },
      "source": [
        "%%time\n",
        "df1_loan=df1.groupby('loan').count()\n",
        "df1_loan=df1_loan.reset_index()\n",
        "\n",
        "loans_ridotto=loans[['loan_id','loan_amount']]\n",
        "loans_merge=pd.merge(df1_loan,loans_ridotto,left_on='loan',right_on='loan_id')[['loan','lender','loan_amount']]\n",
        "loans_merge['amount']=round(loans_merge['loan_amount']/loans_merge['lender'],2)\n",
        "\n",
        "df8_merge=pd.merge(df1,loans_merge[['loan','amount']])\n",
        "df8=df8_merge.groupby('lender').sum()['amount']"
      ],
      "execution_count": 17,
      "outputs": [
        {
          "output_type": "stream",
          "text": [
            "CPU times: user 22.1 s, sys: 917 ms, total: 23 s\n",
            "Wall time: 23.1 s\n"
          ],
          "name": "stdout"
        }
      ]
    },
    {
      "cell_type": "code",
      "metadata": {
        "id": "eNVB0ojAMIVk",
        "colab_type": "code",
        "colab": {
          "base_uri": "https://localhost:8080/",
          "height": 431
        },
        "outputId": "8a180a21-5ec5-4486-d4f8-36f72cc04641"
      },
      "source": [
        "df8.to_frame()"
      ],
      "execution_count": 18,
      "outputs": [
        {
          "output_type": "execute_result",
          "data": {
            "text/html": [
              "<div>\n",
              "<style scoped>\n",
              "    .dataframe tbody tr th:only-of-type {\n",
              "        vertical-align: middle;\n",
              "    }\n",
              "\n",
              "    .dataframe tbody tr th {\n",
              "        vertical-align: top;\n",
              "    }\n",
              "\n",
              "    .dataframe thead th {\n",
              "        text-align: right;\n",
              "    }\n",
              "</style>\n",
              "<table border=\"1\" class=\"dataframe\">\n",
              "  <thead>\n",
              "    <tr style=\"text-align: right;\">\n",
              "      <th></th>\n",
              "      <th>amount</th>\n",
              "    </tr>\n",
              "    <tr>\n",
              "      <th>lender</th>\n",
              "      <th></th>\n",
              "    </tr>\n",
              "  </thead>\n",
              "  <tbody>\n",
              "    <tr>\n",
              "      <th>000</th>\n",
              "      <td>1764.26</td>\n",
              "    </tr>\n",
              "    <tr>\n",
              "      <th>00000</th>\n",
              "      <td>1380.68</td>\n",
              "    </tr>\n",
              "    <tr>\n",
              "      <th>0002</th>\n",
              "      <td>2472.54</td>\n",
              "    </tr>\n",
              "    <tr>\n",
              "      <th>00mike00</th>\n",
              "      <td>52.63</td>\n",
              "    </tr>\n",
              "    <tr>\n",
              "      <th>0101craign0101</th>\n",
              "      <td>2623.50</td>\n",
              "    </tr>\n",
              "    <tr>\n",
              "      <th>...</th>\n",
              "      <td>...</td>\n",
              "    </tr>\n",
              "    <tr>\n",
              "      <th>zzmcfate</th>\n",
              "      <td>66113.04</td>\n",
              "    </tr>\n",
              "    <tr>\n",
              "      <th>zzpaghetti9994</th>\n",
              "      <td>51.02</td>\n",
              "    </tr>\n",
              "    <tr>\n",
              "      <th>zzrvmf8538</th>\n",
              "      <td>576.97</td>\n",
              "    </tr>\n",
              "    <tr>\n",
              "      <th>zzzsai</th>\n",
              "      <td>267.67</td>\n",
              "    </tr>\n",
              "    <tr>\n",
              "      <th>zzzworld</th>\n",
              "      <td>27.52</td>\n",
              "    </tr>\n",
              "  </tbody>\n",
              "</table>\n",
              "<p>1383799 rows × 1 columns</p>\n",
              "</div>"
            ],
            "text/plain": [
              "                  amount\n",
              "lender                  \n",
              "000              1764.26\n",
              "00000            1380.68\n",
              "0002             2472.54\n",
              "00mike00           52.63\n",
              "0101craign0101   2623.50\n",
              "...                  ...\n",
              "zzmcfate        66113.04\n",
              "zzpaghetti9994     51.02\n",
              "zzrvmf8538        576.97\n",
              "zzzsai            267.67\n",
              "zzzworld           27.52\n",
              "\n",
              "[1383799 rows x 1 columns]"
            ]
          },
          "metadata": {
            "tags": []
          },
          "execution_count": 18
        }
      ]
    },
    {
      "cell_type": "markdown",
      "metadata": {
        "id": "M3aRUPnmMJaQ",
        "colab_type": "text"
      },
      "source": [
        "**9.** For each country, compute the difference between the overall amount of money lent and the overall amount of money borrowed. Since the country of the lender is often unknown, you can assume that the true distribution among the countries is the same as the one computed from the rows where the country is known."
      ]
    },
    {
      "cell_type": "code",
      "metadata": {
        "id": "JVH410FQMTTF",
        "colab_type": "code",
        "colab": {}
      },
      "source": [
        "lenders=pd.read_csv('/content/drive/My Drive/lenders.csv')\n",
        "country_stats=pd.read_csv('/content/drive/My Drive/country_stats.csv')"
      ],
      "execution_count": 19,
      "outputs": []
    },
    {
      "cell_type": "code",
      "metadata": {
        "id": "FA4_aHgUMNLO",
        "colab_type": "code",
        "colab": {
          "base_uri": "https://localhost:8080/",
          "height": 50
        },
        "outputId": "3f97e143-705f-4f73-e740-4939646a04ff"
      },
      "source": [
        "%%time\n",
        "lenders_1=lenders[['permanent_name','country_code']].dropna()\n",
        "lenders_merge=pd.merge(country_stats[['country_code','country_name']],lenders_1,on='country_code')\n",
        "df8_1=pd.DataFrame(df8).reset_index()\n",
        "lenders_merge_1=pd.merge(lenders_merge,df8_1,left_on='permanent_name',right_on='lender')\n",
        "group_1=lenders_merge_1[['country_name','amount']].groupby('country_name').sum()\n",
        "\n",
        "loans_1=df8_merge[['loan','amount']].groupby('loan').sum()\n",
        "loans_merge=pd.merge(loans_1,loans[['loan_id','country_name']],left_on='loan',right_on='loan_id')\n",
        "group_2=loans_merge[['country_name','amount']].groupby('country_name').sum()\n",
        "\n",
        "df9 = group_1.merge(group_2, left_index=True, right_index=True)\n",
        "df9['amount_difference']=df9['amount_y']-df9['amount_x']"
      ],
      "execution_count": 20,
      "outputs": [
        {
          "output_type": "stream",
          "text": [
            "CPU times: user 5.59 s, sys: 515 ms, total: 6.1 s\n",
            "Wall time: 6.11 s\n"
          ],
          "name": "stdout"
        }
      ]
    },
    {
      "cell_type": "code",
      "metadata": {
        "id": "8eBGJi_v-f8f",
        "colab_type": "code",
        "colab": {
          "base_uri": "https://localhost:8080/",
          "height": 225
        },
        "outputId": "f4104ae4-d67b-4194-864d-e428977bea86"
      },
      "source": [
        "#step_1\n",
        "group_1.head()"
      ],
      "execution_count": 21,
      "outputs": [
        {
          "output_type": "execute_result",
          "data": {
            "text/html": [
              "<div>\n",
              "<style scoped>\n",
              "    .dataframe tbody tr th:only-of-type {\n",
              "        vertical-align: middle;\n",
              "    }\n",
              "\n",
              "    .dataframe tbody tr th {\n",
              "        vertical-align: top;\n",
              "    }\n",
              "\n",
              "    .dataframe thead th {\n",
              "        text-align: right;\n",
              "    }\n",
              "</style>\n",
              "<table border=\"1\" class=\"dataframe\">\n",
              "  <thead>\n",
              "    <tr style=\"text-align: right;\">\n",
              "      <th></th>\n",
              "      <th>amount</th>\n",
              "    </tr>\n",
              "    <tr>\n",
              "      <th>country_name</th>\n",
              "      <th></th>\n",
              "    </tr>\n",
              "  </thead>\n",
              "  <tbody>\n",
              "    <tr>\n",
              "      <th>Afghanistan</th>\n",
              "      <td>107448.60</td>\n",
              "    </tr>\n",
              "    <tr>\n",
              "      <th>Albania</th>\n",
              "      <td>8033.27</td>\n",
              "    </tr>\n",
              "    <tr>\n",
              "      <th>Algeria</th>\n",
              "      <td>15315.87</td>\n",
              "    </tr>\n",
              "    <tr>\n",
              "      <th>Angola</th>\n",
              "      <td>34805.58</td>\n",
              "    </tr>\n",
              "    <tr>\n",
              "      <th>Argentina</th>\n",
              "      <td>295252.01</td>\n",
              "    </tr>\n",
              "  </tbody>\n",
              "</table>\n",
              "</div>"
            ],
            "text/plain": [
              "                 amount\n",
              "country_name           \n",
              "Afghanistan   107448.60\n",
              "Albania         8033.27\n",
              "Algeria        15315.87\n",
              "Angola         34805.58\n",
              "Argentina     295252.01"
            ]
          },
          "metadata": {
            "tags": []
          },
          "execution_count": 21
        }
      ]
    },
    {
      "cell_type": "code",
      "metadata": {
        "id": "Mg1xKHPo_Z0l",
        "colab_type": "code",
        "colab": {
          "base_uri": "https://localhost:8080/",
          "height": 225
        },
        "outputId": "ae0f9cfd-d1b0-409c-a4c1-b7292f23f217"
      },
      "source": [
        "#step_2\n",
        "group_2.head()"
      ],
      "execution_count": 22,
      "outputs": [
        {
          "output_type": "execute_result",
          "data": {
            "text/html": [
              "<div>\n",
              "<style scoped>\n",
              "    .dataframe tbody tr th:only-of-type {\n",
              "        vertical-align: middle;\n",
              "    }\n",
              "\n",
              "    .dataframe tbody tr th {\n",
              "        vertical-align: top;\n",
              "    }\n",
              "\n",
              "    .dataframe thead th {\n",
              "        text-align: right;\n",
              "    }\n",
              "</style>\n",
              "<table border=\"1\" class=\"dataframe\">\n",
              "  <thead>\n",
              "    <tr style=\"text-align: right;\">\n",
              "      <th></th>\n",
              "      <th>amount</th>\n",
              "    </tr>\n",
              "    <tr>\n",
              "      <th>country_name</th>\n",
              "      <th></th>\n",
              "    </tr>\n",
              "  </thead>\n",
              "  <tbody>\n",
              "    <tr>\n",
              "      <th>Afghanistan</th>\n",
              "      <td>1966915.50</td>\n",
              "    </tr>\n",
              "    <tr>\n",
              "      <th>Albania</th>\n",
              "      <td>4283756.54</td>\n",
              "    </tr>\n",
              "    <tr>\n",
              "      <th>Armenia</th>\n",
              "      <td>22901005.77</td>\n",
              "    </tr>\n",
              "    <tr>\n",
              "      <th>Azerbaijan</th>\n",
              "      <td>14749023.59</td>\n",
              "    </tr>\n",
              "    <tr>\n",
              "      <th>Belize</th>\n",
              "      <td>150175.35</td>\n",
              "    </tr>\n",
              "  </tbody>\n",
              "</table>\n",
              "</div>"
            ],
            "text/plain": [
              "                   amount\n",
              "country_name             \n",
              "Afghanistan    1966915.50\n",
              "Albania        4283756.54\n",
              "Armenia       22901005.77\n",
              "Azerbaijan    14749023.59\n",
              "Belize          150175.35"
            ]
          },
          "metadata": {
            "tags": []
          },
          "execution_count": 22
        }
      ]
    },
    {
      "cell_type": "code",
      "metadata": {
        "id": "Qs79tPlxMWy6",
        "colab_type": "code",
        "colab": {
          "base_uri": "https://localhost:8080/",
          "height": 431
        },
        "outputId": "2be63cce-befe-48be-dae4-02ae6d1796bc"
      },
      "source": [
        "#risultato finale\n",
        "df9['amount_difference'].to_frame()"
      ],
      "execution_count": 23,
      "outputs": [
        {
          "output_type": "execute_result",
          "data": {
            "text/html": [
              "<div>\n",
              "<style scoped>\n",
              "    .dataframe tbody tr th:only-of-type {\n",
              "        vertical-align: middle;\n",
              "    }\n",
              "\n",
              "    .dataframe tbody tr th {\n",
              "        vertical-align: top;\n",
              "    }\n",
              "\n",
              "    .dataframe thead th {\n",
              "        text-align: right;\n",
              "    }\n",
              "</style>\n",
              "<table border=\"1\" class=\"dataframe\">\n",
              "  <thead>\n",
              "    <tr style=\"text-align: right;\">\n",
              "      <th></th>\n",
              "      <th>amount_difference</th>\n",
              "    </tr>\n",
              "    <tr>\n",
              "      <th>country_name</th>\n",
              "      <th></th>\n",
              "    </tr>\n",
              "  </thead>\n",
              "  <tbody>\n",
              "    <tr>\n",
              "      <th>Afghanistan</th>\n",
              "      <td>1.859467e+06</td>\n",
              "    </tr>\n",
              "    <tr>\n",
              "      <th>Albania</th>\n",
              "      <td>4.275723e+06</td>\n",
              "    </tr>\n",
              "    <tr>\n",
              "      <th>Armenia</th>\n",
              "      <td>2.287729e+07</td>\n",
              "    </tr>\n",
              "    <tr>\n",
              "      <th>Azerbaijan</th>\n",
              "      <td>1.474031e+07</td>\n",
              "    </tr>\n",
              "    <tr>\n",
              "      <th>Belize</th>\n",
              "      <td>1.279613e+05</td>\n",
              "    </tr>\n",
              "    <tr>\n",
              "      <th>...</th>\n",
              "      <td>...</td>\n",
              "    </tr>\n",
              "    <tr>\n",
              "      <th>United States</th>\n",
              "      <td>-5.149399e+08</td>\n",
              "    </tr>\n",
              "    <tr>\n",
              "      <th>Uruguay</th>\n",
              "      <td>-8.840313e+04</td>\n",
              "    </tr>\n",
              "    <tr>\n",
              "      <th>Yemen</th>\n",
              "      <td>3.423545e+06</td>\n",
              "    </tr>\n",
              "    <tr>\n",
              "      <th>Zambia</th>\n",
              "      <td>1.941908e+06</td>\n",
              "    </tr>\n",
              "    <tr>\n",
              "      <th>Zimbabwe</th>\n",
              "      <td>5.840167e+06</td>\n",
              "    </tr>\n",
              "  </tbody>\n",
              "</table>\n",
              "<p>83 rows × 1 columns</p>\n",
              "</div>"
            ],
            "text/plain": [
              "               amount_difference\n",
              "country_name                    \n",
              "Afghanistan         1.859467e+06\n",
              "Albania             4.275723e+06\n",
              "Armenia             2.287729e+07\n",
              "Azerbaijan          1.474031e+07\n",
              "Belize              1.279613e+05\n",
              "...                          ...\n",
              "United States      -5.149399e+08\n",
              "Uruguay            -8.840313e+04\n",
              "Yemen               3.423545e+06\n",
              "Zambia              1.941908e+06\n",
              "Zimbabwe            5.840167e+06\n",
              "\n",
              "[83 rows x 1 columns]"
            ]
          },
          "metadata": {
            "tags": []
          },
          "execution_count": 23
        }
      ]
    },
    {
      "cell_type": "markdown",
      "metadata": {
        "id": "41L_NAx6MXlo",
        "colab_type": "text"
      },
      "source": [
        "**10.** Which country has the highest ratio between the difference computed at the previous point and the population?"
      ]
    },
    {
      "cell_type": "code",
      "metadata": {
        "id": "gJDNOXvwOKvf",
        "colab_type": "code",
        "colab": {
          "base_uri": "https://localhost:8080/",
          "height": 50
        },
        "outputId": "e1d98a92-d18f-4109-d12c-9803effaadee"
      },
      "source": [
        "%%time\n",
        "df10=pd.merge(df9,country_stats,left_index=True,right_on='country_name')[['country_name','amount_difference','population']]\n",
        "df10['ratio']=df10['amount_difference']/df10['population']\n",
        "df10_max=df10[df10['ratio']==max(df10['ratio'])]"
      ],
      "execution_count": 24,
      "outputs": [
        {
          "output_type": "stream",
          "text": [
            "CPU times: user 11.8 ms, sys: 1.99 ms, total: 13.8 ms\n",
            "Wall time: 13.9 ms\n"
          ],
          "name": "stdout"
        }
      ]
    },
    {
      "cell_type": "code",
      "metadata": {
        "id": "Rk4wewz-OcVf",
        "colab_type": "code",
        "colab": {
          "base_uri": "https://localhost:8080/",
          "height": 195
        },
        "outputId": "927544b9-7ccd-4207-f390-4be6b3821fda"
      },
      "source": [
        "df10_sorted=df10.sort_values(by=['ratio'],ascending=False)\n",
        "df10_sorted.head()"
      ],
      "execution_count": 25,
      "outputs": [
        {
          "output_type": "execute_result",
          "data": {
            "text/html": [
              "<div>\n",
              "<style scoped>\n",
              "    .dataframe tbody tr th:only-of-type {\n",
              "        vertical-align: middle;\n",
              "    }\n",
              "\n",
              "    .dataframe tbody tr th {\n",
              "        vertical-align: top;\n",
              "    }\n",
              "\n",
              "    .dataframe thead th {\n",
              "        text-align: right;\n",
              "    }\n",
              "</style>\n",
              "<table border=\"1\" class=\"dataframe\">\n",
              "  <thead>\n",
              "    <tr style=\"text-align: right;\">\n",
              "      <th></th>\n",
              "      <th>country_name</th>\n",
              "      <th>amount_difference</th>\n",
              "      <th>population</th>\n",
              "      <th>ratio</th>\n",
              "    </tr>\n",
              "  </thead>\n",
              "  <tbody>\n",
              "    <tr>\n",
              "      <th>171</th>\n",
              "      <td>Samoa</td>\n",
              "      <td>1.218253e+07</td>\n",
              "      <td>196440</td>\n",
              "      <td>62.016565</td>\n",
              "    </tr>\n",
              "    <tr>\n",
              "      <th>109</th>\n",
              "      <td>Armenia</td>\n",
              "      <td>2.287729e+07</td>\n",
              "      <td>2930450</td>\n",
              "      <td>7.806750</td>\n",
              "    </tr>\n",
              "    <tr>\n",
              "      <th>93</th>\n",
              "      <td>Paraguay</td>\n",
              "      <td>5.303712e+07</td>\n",
              "      <td>6811297</td>\n",
              "      <td>7.786640</td>\n",
              "    </tr>\n",
              "    <tr>\n",
              "      <th>82</th>\n",
              "      <td>El Salvador</td>\n",
              "      <td>4.146874e+07</td>\n",
              "      <td>6377853</td>\n",
              "      <td>6.501990</td>\n",
              "    </tr>\n",
              "    <tr>\n",
              "      <th>119</th>\n",
              "      <td>Mongolia</td>\n",
              "      <td>1.527825e+07</td>\n",
              "      <td>3075647</td>\n",
              "      <td>4.967491</td>\n",
              "    </tr>\n",
              "  </tbody>\n",
              "</table>\n",
              "</div>"
            ],
            "text/plain": [
              "    country_name  amount_difference  population      ratio\n",
              "171        Samoa       1.218253e+07      196440  62.016565\n",
              "109      Armenia       2.287729e+07     2930450   7.806750\n",
              "93      Paraguay       5.303712e+07     6811297   7.786640\n",
              "82   El Salvador       4.146874e+07     6377853   6.501990\n",
              "119     Mongolia       1.527825e+07     3075647   4.967491"
            ]
          },
          "metadata": {
            "tags": []
          },
          "execution_count": 25
        }
      ]
    },
    {
      "cell_type": "markdown",
      "metadata": {
        "id": "GTY_IpZxOry4",
        "colab_type": "text"
      },
      "source": [
        "**11.** Which country has the highest ratio between the difference computed at point 9 and the population that is not below the poverty line?"
      ]
    },
    {
      "cell_type": "code",
      "metadata": {
        "id": "BBnuLs3bOq1W",
        "colab_type": "code",
        "colab": {
          "base_uri": "https://localhost:8080/",
          "height": 50
        },
        "outputId": "cbaef2a7-6831-4ea1-f541-c9b5c70dac9b"
      },
      "source": [
        "%%time\n",
        "country_stats['population_over_poverty_line']=(1-(country_stats['population_below_poverty_line']/100))*country_stats['population']\n",
        "country_stats_poverty=country_stats[['country_name','population_over_poverty_line']]\n",
        "df11=pd.merge(df9,country_stats_poverty,left_index=True,right_on='country_name')[['country_name','amount_difference','population_over_poverty_line']]\n",
        "df11['ratio_over_poverty']=df11['amount_difference']/df11['population_over_poverty_line']"
      ],
      "execution_count": 26,
      "outputs": [
        {
          "output_type": "stream",
          "text": [
            "CPU times: user 10.6 ms, sys: 1.9 ms, total: 12.5 ms\n",
            "Wall time: 13.3 ms\n"
          ],
          "name": "stdout"
        }
      ]
    },
    {
      "cell_type": "code",
      "metadata": {
        "id": "RAzRkmZNPaHI",
        "colab_type": "code",
        "colab": {
          "base_uri": "https://localhost:8080/",
          "height": 101
        },
        "outputId": "002ecb9c-24ab-4322-c73f-2aed0d5ffc27"
      },
      "source": [
        "df11.loc[df11['ratio_over_poverty'].idxmax()]"
      ],
      "execution_count": 27,
      "outputs": [
        {
          "output_type": "execute_result",
          "data": {
            "text/plain": [
              "country_name                        Armenia\n",
              "amount_difference               2.28773e+07\n",
              "population_over_poverty_line    1.99271e+06\n",
              "ratio_over_poverty                  11.4805\n",
              "Name: 109, dtype: object"
            ]
          },
          "metadata": {
            "tags": []
          },
          "execution_count": 27
        }
      ]
    },
    {
      "cell_type": "markdown",
      "metadata": {
        "id": "GQjR-I70ky7T",
        "colab_type": "text"
      },
      "source": [
        "**12.**For each year, compute the total amount of loans. Each loan that has planned expiration time and disburse time in different years must have its amount distributed proportionally to the number of days in each year. \n",
        "For example, a loan with disburse time December 1st, 2016, planned expiration time January 30th 2018, and amount 5000USD has an amount of 5000USD * 31 / (31+365+30) = 363.85 for 2016, 5000USD * 365 / (31+365+30) = 4284.04 for 2017, and 5000USD * 30 / (31+365+30) = 352.11 for 2018."
      ]
    },
    {
      "cell_type": "code",
      "metadata": {
        "id": "XTmNUiUtlHS6",
        "colab_type": "code",
        "colab": {
          "base_uri": "https://localhost:8080/",
          "height": 756
        },
        "outputId": "539800b9-7515-4945-823c-bc637d09f7a1"
      },
      "source": [
        "%%time\n",
        "loans_ridotto_2=loans[['loan_id','loan_amount','disburse_time','planned_expiration_time']]\n",
        "loans_ridotto_2['diff_days']=(pd.to_datetime(loans_ridotto_2['planned_expiration_time'])-pd.to_datetime(loans_ridotto_2['disburse_time'])).astype('timedelta64[D]')\n",
        "\n",
        "loans_ridotto_2['disburse_time']=pd.to_datetime(loans_ridotto_2['disburse_time'])\n",
        "loans_ridotto_2['planned_expiration_time']=pd.to_datetime(loans_ridotto_2['planned_expiration_time'])\n",
        "\n",
        "from pandas.tseries import offsets\n",
        "loans_ridotto_2['x']=loans_ridotto_2['disburse_time'] + offsets.YearEnd()\n",
        "loans_ridotto_2['y']=loans_ridotto_2['planned_expiration_time'] - offsets.YearBegin()\n",
        "loans_ridotto_2['diff_year']=(loans_ridotto_2.y-loans_ridotto_2.x).astype('timedelta64[Y]')\n",
        "\n",
        "subset_1=loans_ridotto_2[loans_ridotto_2['diff_year']<0]\n",
        "subset_1['year']=subset_1['disburse_time'].dt.year\n",
        "sub_group_1=subset_1[['year','loan_amount']].groupby('year').sum()\n",
        "sub_group_1=sub_group_1.reset_index()\n",
        "\n",
        "subset_2=loans_ridotto_2[loans_ridotto_2['diff_year']>=0]\n",
        "\n",
        "ls_year=[]\n",
        "ls_amount=[]\n",
        "for i in range(0,len(subset_2)):\n",
        "    diff_y=subset_2.iloc[i,4]\n",
        "    amount=(subset_2.iloc[i,1])/diff_y\n",
        "    exp=subset_2.iloc[i,3]\n",
        "    disb=subset_2.iloc[i,2]\n",
        "    \n",
        "    ls_year.append(disb.year)\n",
        "    ls_amount.append(amount*(subset_2.iloc[i,5]-disb).days)\n",
        "    \n",
        "    ls_year.append(exp.year)\n",
        "    ls_amount.append(amount*(exp-subset_2.iloc[i,6]).days)\n",
        "    \n",
        "    while diff_y != 0:\n",
        "            ls_year.append(exp.year-diff_y)\n",
        "            ls_amount.append(amount*365)\n",
        "            diff_y -= 1\n",
        "\n",
        "year_amount=pd.DataFrame({'year':ls_year,'loan_amount':ls_amount})\n",
        "sub_group_2=year_amount.groupby('year').sum()\n",
        "final=pd.merge(sub_group_1,sub_group_2,on='year').set_index('year').sum(axis=1)"
      ],
      "execution_count": 28,
      "outputs": [
        {
          "output_type": "stream",
          "text": [
            "/usr/local/lib/python3.6/dist-packages/ipykernel_launcher.py:2: SettingWithCopyWarning: \n",
            "A value is trying to be set on a copy of a slice from a DataFrame.\n",
            "Try using .loc[row_indexer,col_indexer] = value instead\n",
            "\n",
            "See the caveats in the documentation: https://pandas.pydata.org/pandas-docs/stable/user_guide/indexing.html#returning-a-view-versus-a-copy\n",
            "  \n",
            "/usr/local/lib/python3.6/dist-packages/ipykernel_launcher.py:4: SettingWithCopyWarning: \n",
            "A value is trying to be set on a copy of a slice from a DataFrame.\n",
            "Try using .loc[row_indexer,col_indexer] = value instead\n",
            "\n",
            "See the caveats in the documentation: https://pandas.pydata.org/pandas-docs/stable/user_guide/indexing.html#returning-a-view-versus-a-copy\n",
            "  after removing the cwd from sys.path.\n",
            "/usr/local/lib/python3.6/dist-packages/ipykernel_launcher.py:5: SettingWithCopyWarning: \n",
            "A value is trying to be set on a copy of a slice from a DataFrame.\n",
            "Try using .loc[row_indexer,col_indexer] = value instead\n",
            "\n",
            "See the caveats in the documentation: https://pandas.pydata.org/pandas-docs/stable/user_guide/indexing.html#returning-a-view-versus-a-copy\n",
            "  \"\"\"\n",
            "/usr/local/lib/python3.6/dist-packages/ipykernel_launcher.py:8: SettingWithCopyWarning: \n",
            "A value is trying to be set on a copy of a slice from a DataFrame.\n",
            "Try using .loc[row_indexer,col_indexer] = value instead\n",
            "\n",
            "See the caveats in the documentation: https://pandas.pydata.org/pandas-docs/stable/user_guide/indexing.html#returning-a-view-versus-a-copy\n",
            "  \n",
            "/usr/local/lib/python3.6/dist-packages/ipykernel_launcher.py:9: SettingWithCopyWarning: \n",
            "A value is trying to be set on a copy of a slice from a DataFrame.\n",
            "Try using .loc[row_indexer,col_indexer] = value instead\n",
            "\n",
            "See the caveats in the documentation: https://pandas.pydata.org/pandas-docs/stable/user_guide/indexing.html#returning-a-view-versus-a-copy\n",
            "  if __name__ == '__main__':\n",
            "/usr/local/lib/python3.6/dist-packages/ipykernel_launcher.py:10: SettingWithCopyWarning: \n",
            "A value is trying to be set on a copy of a slice from a DataFrame.\n",
            "Try using .loc[row_indexer,col_indexer] = value instead\n",
            "\n",
            "See the caveats in the documentation: https://pandas.pydata.org/pandas-docs/stable/user_guide/indexing.html#returning-a-view-versus-a-copy\n",
            "  # Remove the CWD from sys.path while we load stuff.\n",
            "/usr/local/lib/python3.6/dist-packages/ipykernel_launcher.py:13: SettingWithCopyWarning: \n",
            "A value is trying to be set on a copy of a slice from a DataFrame.\n",
            "Try using .loc[row_indexer,col_indexer] = value instead\n",
            "\n",
            "See the caveats in the documentation: https://pandas.pydata.org/pandas-docs/stable/user_guide/indexing.html#returning-a-view-versus-a-copy\n",
            "  del sys.path[0]\n"
          ],
          "name": "stderr"
        },
        {
          "output_type": "stream",
          "text": [
            "CPU times: user 34.3 s, sys: 472 ms, total: 34.8 s\n",
            "Wall time: 34.8 s\n"
          ],
          "name": "stdout"
        }
      ]
    },
    {
      "cell_type": "code",
      "metadata": {
        "id": "OyBHz61olMxl",
        "colab_type": "code",
        "colab": {
          "base_uri": "https://localhost:8080/",
          "height": 314
        },
        "outputId": "a27a13a5-ef30-4c47-9784-fc236612fa31"
      },
      "source": [
        "pd.DataFrame({'total_amount':final})"
      ],
      "execution_count": 29,
      "outputs": [
        {
          "output_type": "execute_result",
          "data": {
            "text/html": [
              "<div>\n",
              "<style scoped>\n",
              "    .dataframe tbody tr th:only-of-type {\n",
              "        vertical-align: middle;\n",
              "    }\n",
              "\n",
              "    .dataframe tbody tr th {\n",
              "        vertical-align: top;\n",
              "    }\n",
              "\n",
              "    .dataframe thead th {\n",
              "        text-align: right;\n",
              "    }\n",
              "</style>\n",
              "<table border=\"1\" class=\"dataframe\">\n",
              "  <thead>\n",
              "    <tr style=\"text-align: right;\">\n",
              "      <th></th>\n",
              "      <th>total_amount</th>\n",
              "    </tr>\n",
              "    <tr>\n",
              "      <th>year</th>\n",
              "      <th></th>\n",
              "    </tr>\n",
              "  </thead>\n",
              "  <tbody>\n",
              "    <tr>\n",
              "      <th>2011</th>\n",
              "      <td>8.490949e+08</td>\n",
              "    </tr>\n",
              "    <tr>\n",
              "      <th>2012</th>\n",
              "      <td>9.478558e+08</td>\n",
              "    </tr>\n",
              "    <tr>\n",
              "      <th>2013</th>\n",
              "      <td>8.537651e+08</td>\n",
              "    </tr>\n",
              "    <tr>\n",
              "      <th>2014</th>\n",
              "      <td>7.285327e+08</td>\n",
              "    </tr>\n",
              "    <tr>\n",
              "      <th>2015</th>\n",
              "      <td>5.692740e+08</td>\n",
              "    </tr>\n",
              "    <tr>\n",
              "      <th>2016</th>\n",
              "      <td>4.275082e+08</td>\n",
              "    </tr>\n",
              "    <tr>\n",
              "      <th>2017</th>\n",
              "      <td>2.800620e+08</td>\n",
              "    </tr>\n",
              "    <tr>\n",
              "      <th>2018</th>\n",
              "      <td>5.608753e+06</td>\n",
              "    </tr>\n",
              "  </tbody>\n",
              "</table>\n",
              "</div>"
            ],
            "text/plain": [
              "      total_amount\n",
              "year              \n",
              "2011  8.490949e+08\n",
              "2012  9.478558e+08\n",
              "2013  8.537651e+08\n",
              "2014  7.285327e+08\n",
              "2015  5.692740e+08\n",
              "2016  4.275082e+08\n",
              "2017  2.800620e+08\n",
              "2018  5.608753e+06"
            ]
          },
          "metadata": {
            "tags": []
          },
          "execution_count": 29
        }
      ]
    }
  ]
}