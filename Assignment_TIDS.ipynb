{
 "cells": [
  {
   "cell_type": "markdown",
   "metadata": {},
   "source": [
    "# **TECHNOLOGICAL INFRASTRUCTURES FOR DS ASSIGNMENT**"
   ]
  },
  {
   "cell_type": "markdown",
   "metadata": {},
   "source": [
    "**Importazione delle librerie**"
   ]
  },
  {
   "cell_type": "code",
   "execution_count": 1,
   "metadata": {},
   "outputs": [],
   "source": [
    "import pyspark\n",
    "import pandas as pd\n",
    "import databricks.koalas as ks\n",
    "import seaborn as sns\n",
    "import matplotlib.pyplot as plt\n",
    "import numpy as np\n",
    "import scipy.stats as stats\n",
    "import pyspark.sql.functions as f\n",
    "\n",
    "from pyspark.sql import SparkSession, DataFrame\n",
    "from pyspark.sql.functions import col\n",
    "from pyspark.sql.types import StringType\n",
    "from functools import reduce  \n",
    "from pyspark.ml.feature import StringIndexer\n",
    "from pyspark.ml import Pipeline\n",
    "from pyspark.ml.feature import StringIndexer, OneHotEncoder\n",
    "from pyspark.ml.feature import VectorAssembler\n",
    "from pyspark.ml.regression import LinearRegression"
   ]
  },
  {
   "cell_type": "markdown",
   "metadata": {},
   "source": [
    "**1. Carry out a descriptive statistical analysis of the table data**"
   ]
  },
  {
   "cell_type": "code",
   "execution_count": 2,
   "metadata": {},
   "outputs": [],
   "source": [
    "#creiamo una sessione Spark nominata Assignment_Spark\n",
    "spark=SparkSession.builder.appName(\"Assignment_Spark\").getOrCreate()"
   ]
  },
  {
   "cell_type": "code",
   "execution_count": 3,
   "metadata": {
    "scrolled": true
   },
   "outputs": [],
   "source": [
    "#importiamo i dataset in Pandas e li convertiamo in Spark\n",
    "pdf0 = pd.read_excel('C:/Users/Eric/Desktop/assignment_TIDS/risultati_A_zaini_piccoli_9-11.xlsx', sheet_name='detailed results',inferSchema=True)\n",
    "dfA = spark.createDataFrame(pdf0)\n",
    "pdf1 = pd.read_excel('C:/Users/Eric/Desktop/assignment_TIDS/risultati_B_piccole_45-55_1big_knapsack.xlsx', sheet_name='detailed results',inferSchema=True)\n",
    "dfB = spark.createDataFrame(pdf1)\n",
    "pdf2 = pd.read_excel('C:/Users/Eric/Desktop/assignment_TIDS/risultati_C_piccole_45-55.xlsx', sheet_name='detailed results',inferSchema=True)\n",
    "dfC = spark.createDataFrame(pdf2)\n",
    "pdf3 = pd.read_excel('C:/Users/Eric/Desktop/assignment_TIDS/risultati_D_con_più zaini.xlsx', sheet_name='più zaini',inferSchema=True)\n",
    "dfD = spark.createDataFrame(pdf3)\n",
    "pdf4 = pd.read_excel('C:/Users/Eric/Desktop/assignment_TIDS/risultati_E_con_più items.xlsx', sheet_name='più items',inferSchema=True)\n",
    "dfE = spark.createDataFrame(pdf4)\n",
    "pdf5 = pd.read_excel('C:/Users/Eric/Desktop/assignment_TIDS/risultati_F_zaini_piccoli_27-33.xlsx', sheet_name='detailed results',inferSchema=True)\n",
    "dfF = spark.createDataFrame(pdf5)"
   ]
  },
  {
   "cell_type": "code",
   "execution_count": 4,
   "metadata": {},
   "outputs": [],
   "source": [
    "#uniamo i dataset\n",
    "df=reduce(DataFrame.unionAll, [dfA,dfB,dfC,dfD,dfE,dfF])"
   ]
  },
  {
   "cell_type": "code",
   "execution_count": 5,
   "metadata": {
    "scrolled": true
   },
   "outputs": [
    {
     "name": "stdout",
     "output_type": "stream",
     "text": [
      "+---+---+---+---+---+--------+----------+----------+------+--------+------+------+---------+-----------+---------+\n",
      "| F1| F2| F3| F4|Rep|MODEL_OF|MODEL_OFUB|MODEL_TIME|CBC_OF|CBC_TIME|CBC_FC|CBC_PC|NEWCBC_OF|NEWCBC_TIME|NEWCBC_FC|\n",
      "+---+---+---+---+---+--------+----------+----------+------+--------+------+------+---------+-----------+---------+\n",
      "|  3|400|  9|  A|  1|     197|       197|      0.29|   197|    0.02|     0|     1|      197|      0.056|        0|\n",
      "|  3|400|  9|  A|  2|     162|       162|      0.24|   162|    0.02|     0|     0|      162|      0.016|        0|\n",
      "|  3|400|  9|  A|  3|     165|       165|      0.85|   165|    0.01|     0|     0|      165|      0.023|        0|\n",
      "|  3|400|  6|  A|  4|     178|       178|     0.311|   178|    0.02|     0|     1|      178|      0.012|        0|\n",
      "|  3|400|  9|  A|  5|     220|       220|      0.72|   220|    0.03|     0|     1|      220|      0.038|        0|\n",
      "+---+---+---+---+---+--------+----------+----------+------+--------+------+------+---------+-----------+---------+\n",
      "only showing top 5 rows\n",
      "\n"
     ]
    }
   ],
   "source": [
    "df.show(5)"
   ]
  },
  {
   "cell_type": "code",
   "execution_count": 6,
   "metadata": {},
   "outputs": [],
   "source": [
    "#convertiamo la variabile F1 da numerica a string\n",
    "df = df.withColumn(\"F1\",col(\"F1\").cast(StringType()))"
   ]
  },
  {
   "cell_type": "code",
   "execution_count": 7,
   "metadata": {},
   "outputs": [
    {
     "name": "stdout",
     "output_type": "stream",
     "text": [
      "root\n",
      " |-- F1: string (nullable = true)\n",
      " |-- F2: long (nullable = true)\n",
      " |-- F3: long (nullable = true)\n",
      " |-- F4: string (nullable = true)\n",
      " |-- Rep: long (nullable = true)\n",
      " |-- MODEL_OF: long (nullable = true)\n",
      " |-- MODEL_OFUB: long (nullable = true)\n",
      " |-- MODEL_TIME: double (nullable = true)\n",
      " |-- CBC_OF: long (nullable = true)\n",
      " |-- CBC_TIME: double (nullable = true)\n",
      " |-- CBC_FC: long (nullable = true)\n",
      " |-- CBC_PC: long (nullable = true)\n",
      " |-- NEWCBC_OF: long (nullable = true)\n",
      " |-- NEWCBC_TIME: double (nullable = true)\n",
      " |-- NEWCBC_FC: long (nullable = true)\n",
      "\n"
     ]
    }
   ],
   "source": [
    "df.printSchema()"
   ]
  },
  {
   "cell_type": "code",
   "execution_count": 8,
   "metadata": {},
   "outputs": [
    {
     "name": "stdout",
     "output_type": "stream",
     "text": [
      "+-------+-----------------+-----------------+-------------------+\n",
      "|summary|       MODEL_TIME|         CBC_TIME|        NEWCBC_TIME|\n",
      "+-------+-----------------+-----------------+-------------------+\n",
      "|  count|              400|              400|                400|\n",
      "|   mean|       293.390935|      254.8061825|0.19791249999999994|\n",
      "| stddev|880.5823451249038|775.7127981301821|0.23503598581988636|\n",
      "|    min|             0.08|             0.01|              0.011|\n",
      "|    max|           3600.0|           3600.0|              1.562|\n",
      "+-------+-----------------+-----------------+-------------------+\n",
      "\n",
      "+-------+------------------+------------------+-----------------+\n",
      "|summary|          MODEL_OF|            CBC_OF|        NEWCBC_OF|\n",
      "+-------+------------------+------------------+-----------------+\n",
      "|  count|               400|               400|              400|\n",
      "|   mean|          281.9075|          281.8625|           281.81|\n",
      "| stddev|102.20495867468581|102.18639214984306|102.0867678517939|\n",
      "|    min|                82|                82|               82|\n",
      "|    max|               658|               658|              658|\n",
      "+-------+------------------+------------------+-----------------+\n",
      "\n"
     ]
    }
   ],
   "source": [
    "#la funzione describe ci offre le statistiche essenziali. Si prende in considerazione le funzioni obiettivo e le variabili temporali\n",
    "df.describe('MODEL_TIME','CBC_TIME','NEWCBC_TIME').show()\n",
    "df.describe('MODEL_OF','CBC_OF','NEWCBC_OF').show()"
   ]
  },
  {
   "cell_type": "code",
   "execution_count": 9,
   "metadata": {},
   "outputs": [
    {
     "name": "stdout",
     "output_type": "stream",
     "text": [
      "+-----+---+---+---+---+---+---+\n",
      "|F1_F4|  A|  B|  C|  D|  E|  F|\n",
      "+-----+---+---+---+---+---+---+\n",
      "|   15|  0|  0|  0| 10|  0|  0|\n",
      "|    5| 30| 30| 30|  0|  0| 30|\n",
      "|   10| 30| 30| 30|  0| 20| 30|\n",
      "|   20|  0|  0|  0| 10|  0|  0|\n",
      "|    3| 30| 30| 30|  0|  0| 30|\n",
      "+-----+---+---+---+---+---+---+\n",
      "\n"
     ]
    }
   ],
   "source": [
    "#comprendiamo meglio la distribuzione della variabile categorica F1 rispetto alle tipologie proposte da F4\n",
    "#Si nota che la distribuzione delle tipologie 20 e 15 non risulta confrontabile con le altre\n",
    "df.stat.crosstab(\"F1\",\"F4\").show()"
   ]
  },
  {
   "cell_type": "code",
   "execution_count": 10,
   "metadata": {},
   "outputs": [],
   "source": [
    "#studiamo i subset rispetto alla variabile categorica F1\n",
    "sub_3=df.filter(df.F1==3)\n",
    "sub_5=df.filter(df.F1==5)\n",
    "sub_10=df.filter(df.F1==10)\n",
    "sub_15=df.filter(df.F1==15)\n",
    "sub_20=df.filter(df.F1==20)"
   ]
  },
  {
   "cell_type": "code",
   "execution_count": 11,
   "metadata": {},
   "outputs": [
    {
     "name": "stdout",
     "output_type": "stream",
     "text": [
      "+-------+------------------+------------------+--------------------+\n",
      "|summary|        MODEL_TIME|          CBC_TIME|         NEWCBC_TIME|\n",
      "+-------+------------------+------------------+--------------------+\n",
      "|  count|               120|               120|                 120|\n",
      "|   mean|2.0632083333333333|0.8206416666666667|0.055166666666666676|\n",
      "| stddev|2.1089815690881464|1.1373099826206694| 0.03928870373143352|\n",
      "|    min|              0.08|              0.01|               0.011|\n",
      "|    max|             9.894|             4.633|               0.163|\n",
      "+-------+------------------+------------------+--------------------+\n",
      "\n",
      "+-------+-----------------+------------------+-------------------+\n",
      "|summary|       MODEL_TIME|          CBC_TIME|        NEWCBC_TIME|\n",
      "+-------+-----------------+------------------+-------------------+\n",
      "|  count|              120|               120|                120|\n",
      "|   mean|11.23695833333333|         10.335625|0.10926666666666665|\n",
      "| stddev|42.51692476554787|29.884357514168904|0.07492974113422905|\n",
      "|    min|             0.08|              0.01|              0.013|\n",
      "|    max|          453.185|           258.359|              0.476|\n",
      "+-------+-----------------+------------------+-------------------+\n",
      "\n",
      "+-------+------------------+------------------+-------------------+\n",
      "|summary|        MODEL_TIME|          CBC_TIME|        NEWCBC_TIME|\n",
      "+-------+------------------+------------------+-------------------+\n",
      "|  count|               140|               140|                140|\n",
      "|   mean| 646.8110357142857| 562.7534285714286|0.31864285714285717|\n",
      "| stddev|1229.5402403990554|1079.0917206371155|0.23655516555655728|\n",
      "|    min|              0.21|              0.01|              0.017|\n",
      "|    max|            3600.0|            3600.0|              1.309|\n",
      "+-------+------------------+------------------+-------------------+\n",
      "\n",
      "+-------+------------------+------------------+-------------------+\n",
      "|summary|        MODEL_TIME|          CBC_TIME|        NEWCBC_TIME|\n",
      "+-------+------------------+------------------+-------------------+\n",
      "|  count|                10|                10|                 10|\n",
      "|   mean|          917.5517| 735.7923000000001|             0.5631|\n",
      "| stddev|1447.4572658269897|1078.8032711353044|0.27107499987190914|\n",
      "|    min|            31.528|            32.093|               0.14|\n",
      "|    max|            3600.0|            3600.0|              1.005|\n",
      "+-------+------------------+------------------+-------------------+\n",
      "\n",
      "+-------+------------------+------------------+-------------------+\n",
      "|summary|        MODEL_TIME|          CBC_TIME|        NEWCBC_TIME|\n",
      "+-------+------------------+------------------+-------------------+\n",
      "|  count|                10|                10|                 10|\n",
      "|   mean|1603.1291999999999|         1444.0318|             0.9192|\n",
      "| stddev|1560.3519002237783|1598.8611397013394|0.29537990603439646|\n",
      "|    min|           112.446|            94.761|              0.574|\n",
      "|    max|            3600.0|            3600.0|              1.562|\n",
      "+-------+------------------+------------------+-------------------+\n",
      "\n"
     ]
    }
   ],
   "source": [
    "#TIME\n",
    "#la categoria 3 presenta range simili tra MODEL e CBC, con media e varianza più basse in CBC. NEWCBC ha range, media e varianza nettamente inferiori\n",
    "#le categorie 5 e 10 rimarcano questa differenza di MODEL e CBC rispetto a NEWCBC, presentando una distribuzione completamente diversa \n",
    "sub_3.describe('MODEL_TIME','CBC_TIME','NEWCBC_TIME').show()\n",
    "sub_5.describe('MODEL_TIME','CBC_TIME','NEWCBC_TIME').show()\n",
    "sub_10.describe('MODEL_TIME','CBC_TIME','NEWCBC_TIME').show()\n",
    "\n",
    "#le tipologie 15 e 20 non sono confrontabili per via della numerosità nettamente inferiore. Si osserva che il range dei valori è nettamente superiore in MODEL e CBC\n",
    "sub_15.describe('MODEL_TIME','CBC_TIME','NEWCBC_TIME').show()\n",
    "sub_20.describe('MODEL_TIME','CBC_TIME','NEWCBC_TIME').show()"
   ]
  },
  {
   "cell_type": "code",
   "execution_count": 12,
   "metadata": {
    "scrolled": true
   },
   "outputs": [
    {
     "name": "stdout",
     "output_type": "stream",
     "text": [
      "+-------+------------------+------------------+-----------------+\n",
      "|summary|          MODEL_OF|            CBC_OF|        NEWCBC_OF|\n",
      "+-------+------------------+------------------+-----------------+\n",
      "|  count|               120|               120|              120|\n",
      "|   mean|279.59166666666664|279.59166666666664|279.4916666666667|\n",
      "| stddev| 92.69680366098706| 92.69680366098706|92.57111695706102|\n",
      "|    min|               108|               108|              108|\n",
      "|    max|               658|               658|              658|\n",
      "+-------+------------------+------------------+-----------------+\n",
      "\n",
      "+-------+------------------+------------------+------------------+\n",
      "|summary|          MODEL_OF|            CBC_OF|         NEWCBC_OF|\n",
      "+-------+------------------+------------------+------------------+\n",
      "|  count|               120|               120|               120|\n",
      "|   mean|            279.65|            279.65|            279.65|\n",
      "| stddev|114.01648487622046|114.01648487622046|114.01648487622046|\n",
      "|    min|                98|                98|                98|\n",
      "|    max|               658|               658|               658|\n",
      "+-------+------------------+------------------+------------------+\n",
      "\n",
      "+-------+------------------+------------------+------------------+\n",
      "|summary|          MODEL_OF|            CBC_OF|         NEWCBC_OF|\n",
      "+-------+------------------+------------------+------------------+\n",
      "|  count|               140|               140|               140|\n",
      "|   mean| 279.7857142857143|279.90714285714284|279.62142857142857|\n",
      "| stddev|102.79404468055667|102.80867866597738|102.57374731495516|\n",
      "|    min|                82|                82|                82|\n",
      "|    max|               588|               588|               588|\n",
      "+-------+------------------+------------------+------------------+\n",
      "\n",
      "+-------+-----------------+-----------------+-----------------+\n",
      "|summary|         MODEL_OF|           CBC_OF|        NEWCBC_OF|\n",
      "+-------+-----------------+-----------------+-----------------+\n",
      "|  count|               10|               10|               10|\n",
      "|   mean|            339.1|            339.1|            338.7|\n",
      "| stddev|66.07478927531876|66.07478927531876|65.84502005973319|\n",
      "|    min|              252|              252|              252|\n",
      "|    max|              470|              470|              470|\n",
      "+-------+-----------------+-----------------+-----------------+\n",
      "\n",
      "+-------+-----------------+-----------------+-----------------+\n",
      "|summary|         MODEL_OF|           CBC_OF|        NEWCBC_OF|\n",
      "+-------+-----------------+-----------------+-----------------+\n",
      "|  count|               10|               10|               10|\n",
      "|   mean|            309.3|            305.8|            309.3|\n",
      "| stddev|73.21361439878059|73.16313582976363|73.21361439878059|\n",
      "|    min|              223|              223|              223|\n",
      "|    max|              436|              436|              436|\n",
      "+-------+-----------------+-----------------+-----------------+\n",
      "\n"
     ]
    }
   ],
   "source": [
    "#Lo studio della funzione obiettivo ci mostra che non vi è pressocchè alcuna differenza tra le tipologie di algoritmo rispetto alle varie classi\n",
    "sub_3.describe('MODEL_OF','CBC_OF','NEWCBC_OF').show()\n",
    "sub_5.describe('MODEL_OF','CBC_OF','NEWCBC_OF').show()\n",
    "sub_10.describe('MODEL_OF','CBC_OF','NEWCBC_OF').show()\n",
    "sub_15.describe('MODEL_OF','CBC_OF','NEWCBC_OF').show()\n",
    "sub_20.describe('MODEL_OF','CBC_OF','NEWCBC_OF').show()"
   ]
  },
  {
   "cell_type": "code",
   "execution_count": 13,
   "metadata": {},
   "outputs": [],
   "source": [
    "#convertiamo il dataframe pyspark in koalas, facilitando lo studio di correlazione\n",
    "kdf=df.to_koalas()"
   ]
  },
  {
   "cell_type": "code",
   "execution_count": 14,
   "metadata": {
    "scrolled": true
   },
   "outputs": [
    {
     "data": {
      "text/html": [
       "<div>\n",
       "<style scoped>\n",
       "    .dataframe tbody tr th:only-of-type {\n",
       "        vertical-align: middle;\n",
       "    }\n",
       "\n",
       "    .dataframe tbody tr th {\n",
       "        vertical-align: top;\n",
       "    }\n",
       "\n",
       "    .dataframe thead th {\n",
       "        text-align: right;\n",
       "    }\n",
       "</style>\n",
       "<table border=\"1\" class=\"dataframe\">\n",
       "  <thead>\n",
       "    <tr style=\"text-align: right;\">\n",
       "      <th></th>\n",
       "      <th>F2</th>\n",
       "      <th>F3</th>\n",
       "      <th>Rep</th>\n",
       "      <th>MODEL_OF</th>\n",
       "      <th>MODEL_OFUB</th>\n",
       "      <th>MODEL_TIME</th>\n",
       "      <th>CBC_OF</th>\n",
       "      <th>CBC_TIME</th>\n",
       "      <th>CBC_FC</th>\n",
       "      <th>CBC_PC</th>\n",
       "      <th>NEWCBC_OF</th>\n",
       "      <th>NEWCBC_TIME</th>\n",
       "      <th>NEWCBC_FC</th>\n",
       "    </tr>\n",
       "  </thead>\n",
       "  <tbody>\n",
       "    <tr>\n",
       "      <th>F2</th>\n",
       "      <td>1.000000</td>\n",
       "      <td>0.867809</td>\n",
       "      <td>-0.277702</td>\n",
       "      <td>0.540895</td>\n",
       "      <td>0.572436</td>\n",
       "      <td>0.583499</td>\n",
       "      <td>0.540677</td>\n",
       "      <td>0.584216</td>\n",
       "      <td>0.297691</td>\n",
       "      <td>0.444480</td>\n",
       "      <td>0.539737</td>\n",
       "      <td>0.534790</td>\n",
       "      <td>NaN</td>\n",
       "    </tr>\n",
       "    <tr>\n",
       "      <th>F3</th>\n",
       "      <td>0.867809</td>\n",
       "      <td>1.000000</td>\n",
       "      <td>-0.251664</td>\n",
       "      <td>0.628034</td>\n",
       "      <td>0.659081</td>\n",
       "      <td>0.577608</td>\n",
       "      <td>0.627819</td>\n",
       "      <td>0.583315</td>\n",
       "      <td>0.346445</td>\n",
       "      <td>0.451041</td>\n",
       "      <td>0.627523</td>\n",
       "      <td>0.524556</td>\n",
       "      <td>NaN</td>\n",
       "    </tr>\n",
       "    <tr>\n",
       "      <th>Rep</th>\n",
       "      <td>-0.277702</td>\n",
       "      <td>-0.251664</td>\n",
       "      <td>1.000000</td>\n",
       "      <td>-0.168373</td>\n",
       "      <td>-0.183636</td>\n",
       "      <td>-0.269951</td>\n",
       "      <td>-0.166947</td>\n",
       "      <td>-0.281157</td>\n",
       "      <td>-0.167943</td>\n",
       "      <td>-0.219248</td>\n",
       "      <td>-0.168601</td>\n",
       "      <td>-0.293570</td>\n",
       "      <td>NaN</td>\n",
       "    </tr>\n",
       "    <tr>\n",
       "      <th>MODEL_OF</th>\n",
       "      <td>0.540895</td>\n",
       "      <td>0.628034</td>\n",
       "      <td>-0.168373</td>\n",
       "      <td>1.000000</td>\n",
       "      <td>0.994146</td>\n",
       "      <td>0.325523</td>\n",
       "      <td>0.999880</td>\n",
       "      <td>0.338148</td>\n",
       "      <td>0.164382</td>\n",
       "      <td>0.223505</td>\n",
       "      <td>0.999926</td>\n",
       "      <td>0.314580</td>\n",
       "      <td>NaN</td>\n",
       "    </tr>\n",
       "    <tr>\n",
       "      <th>MODEL_OFUB</th>\n",
       "      <td>0.572436</td>\n",
       "      <td>0.659081</td>\n",
       "      <td>-0.183636</td>\n",
       "      <td>0.994146</td>\n",
       "      <td>1.000000</td>\n",
       "      <td>0.396773</td>\n",
       "      <td>0.994122</td>\n",
       "      <td>0.405273</td>\n",
       "      <td>0.195137</td>\n",
       "      <td>0.279649</td>\n",
       "      <td>0.994249</td>\n",
       "      <td>0.358121</td>\n",
       "      <td>NaN</td>\n",
       "    </tr>\n",
       "    <tr>\n",
       "      <th>MODEL_TIME</th>\n",
       "      <td>0.583499</td>\n",
       "      <td>0.577608</td>\n",
       "      <td>-0.269951</td>\n",
       "      <td>0.325523</td>\n",
       "      <td>0.396773</td>\n",
       "      <td>1.000000</td>\n",
       "      <td>0.326282</td>\n",
       "      <td>0.835306</td>\n",
       "      <td>0.395717</td>\n",
       "      <td>0.567852</td>\n",
       "      <td>0.325179</td>\n",
       "      <td>0.664052</td>\n",
       "      <td>NaN</td>\n",
       "    </tr>\n",
       "    <tr>\n",
       "      <th>CBC_OF</th>\n",
       "      <td>0.540677</td>\n",
       "      <td>0.627819</td>\n",
       "      <td>-0.166947</td>\n",
       "      <td>0.999880</td>\n",
       "      <td>0.994122</td>\n",
       "      <td>0.326282</td>\n",
       "      <td>1.000000</td>\n",
       "      <td>0.334941</td>\n",
       "      <td>0.165032</td>\n",
       "      <td>0.224688</td>\n",
       "      <td>0.999811</td>\n",
       "      <td>0.313120</td>\n",
       "      <td>NaN</td>\n",
       "    </tr>\n",
       "    <tr>\n",
       "      <th>CBC_TIME</th>\n",
       "      <td>0.584216</td>\n",
       "      <td>0.583315</td>\n",
       "      <td>-0.281157</td>\n",
       "      <td>0.338148</td>\n",
       "      <td>0.405273</td>\n",
       "      <td>0.835306</td>\n",
       "      <td>0.334941</td>\n",
       "      <td>1.000000</td>\n",
       "      <td>0.393352</td>\n",
       "      <td>0.569047</td>\n",
       "      <td>0.338573</td>\n",
       "      <td>0.677498</td>\n",
       "      <td>NaN</td>\n",
       "    </tr>\n",
       "    <tr>\n",
       "      <th>CBC_FC</th>\n",
       "      <td>0.297691</td>\n",
       "      <td>0.346445</td>\n",
       "      <td>-0.167943</td>\n",
       "      <td>0.164382</td>\n",
       "      <td>0.195137</td>\n",
       "      <td>0.395717</td>\n",
       "      <td>0.165032</td>\n",
       "      <td>0.393352</td>\n",
       "      <td>1.000000</td>\n",
       "      <td>0.737636</td>\n",
       "      <td>0.165286</td>\n",
       "      <td>0.434371</td>\n",
       "      <td>NaN</td>\n",
       "    </tr>\n",
       "    <tr>\n",
       "      <th>CBC_PC</th>\n",
       "      <td>0.444480</td>\n",
       "      <td>0.451041</td>\n",
       "      <td>-0.219248</td>\n",
       "      <td>0.223505</td>\n",
       "      <td>0.279649</td>\n",
       "      <td>0.567852</td>\n",
       "      <td>0.224688</td>\n",
       "      <td>0.569047</td>\n",
       "      <td>0.737636</td>\n",
       "      <td>1.000000</td>\n",
       "      <td>0.224475</td>\n",
       "      <td>0.510303</td>\n",
       "      <td>NaN</td>\n",
       "    </tr>\n",
       "    <tr>\n",
       "      <th>NEWCBC_OF</th>\n",
       "      <td>0.539737</td>\n",
       "      <td>0.627523</td>\n",
       "      <td>-0.168601</td>\n",
       "      <td>0.999926</td>\n",
       "      <td>0.994249</td>\n",
       "      <td>0.325179</td>\n",
       "      <td>0.999811</td>\n",
       "      <td>0.338573</td>\n",
       "      <td>0.165286</td>\n",
       "      <td>0.224475</td>\n",
       "      <td>1.000000</td>\n",
       "      <td>0.314859</td>\n",
       "      <td>NaN</td>\n",
       "    </tr>\n",
       "    <tr>\n",
       "      <th>NEWCBC_TIME</th>\n",
       "      <td>0.534790</td>\n",
       "      <td>0.524556</td>\n",
       "      <td>-0.293570</td>\n",
       "      <td>0.314580</td>\n",
       "      <td>0.358121</td>\n",
       "      <td>0.664052</td>\n",
       "      <td>0.313120</td>\n",
       "      <td>0.677498</td>\n",
       "      <td>0.434371</td>\n",
       "      <td>0.510303</td>\n",
       "      <td>0.314859</td>\n",
       "      <td>1.000000</td>\n",
       "      <td>NaN</td>\n",
       "    </tr>\n",
       "    <tr>\n",
       "      <th>NEWCBC_FC</th>\n",
       "      <td>NaN</td>\n",
       "      <td>NaN</td>\n",
       "      <td>NaN</td>\n",
       "      <td>NaN</td>\n",
       "      <td>NaN</td>\n",
       "      <td>NaN</td>\n",
       "      <td>NaN</td>\n",
       "      <td>NaN</td>\n",
       "      <td>NaN</td>\n",
       "      <td>NaN</td>\n",
       "      <td>NaN</td>\n",
       "      <td>NaN</td>\n",
       "      <td>1.0</td>\n",
       "    </tr>\n",
       "  </tbody>\n",
       "</table>\n",
       "</div>"
      ],
      "text/plain": [
       "                   F2        F3       Rep  MODEL_OF  MODEL_OFUB  MODEL_TIME    CBC_OF  CBC_TIME    CBC_FC    CBC_PC  NEWCBC_OF  NEWCBC_TIME  NEWCBC_FC\n",
       "F2           1.000000  0.867809 -0.277702  0.540895    0.572436    0.583499  0.540677  0.584216  0.297691  0.444480   0.539737     0.534790        NaN\n",
       "F3           0.867809  1.000000 -0.251664  0.628034    0.659081    0.577608  0.627819  0.583315  0.346445  0.451041   0.627523     0.524556        NaN\n",
       "Rep         -0.277702 -0.251664  1.000000 -0.168373   -0.183636   -0.269951 -0.166947 -0.281157 -0.167943 -0.219248  -0.168601    -0.293570        NaN\n",
       "MODEL_OF     0.540895  0.628034 -0.168373  1.000000    0.994146    0.325523  0.999880  0.338148  0.164382  0.223505   0.999926     0.314580        NaN\n",
       "MODEL_OFUB   0.572436  0.659081 -0.183636  0.994146    1.000000    0.396773  0.994122  0.405273  0.195137  0.279649   0.994249     0.358121        NaN\n",
       "MODEL_TIME   0.583499  0.577608 -0.269951  0.325523    0.396773    1.000000  0.326282  0.835306  0.395717  0.567852   0.325179     0.664052        NaN\n",
       "CBC_OF       0.540677  0.627819 -0.166947  0.999880    0.994122    0.326282  1.000000  0.334941  0.165032  0.224688   0.999811     0.313120        NaN\n",
       "CBC_TIME     0.584216  0.583315 -0.281157  0.338148    0.405273    0.835306  0.334941  1.000000  0.393352  0.569047   0.338573     0.677498        NaN\n",
       "CBC_FC       0.297691  0.346445 -0.167943  0.164382    0.195137    0.395717  0.165032  0.393352  1.000000  0.737636   0.165286     0.434371        NaN\n",
       "CBC_PC       0.444480  0.451041 -0.219248  0.223505    0.279649    0.567852  0.224688  0.569047  0.737636  1.000000   0.224475     0.510303        NaN\n",
       "NEWCBC_OF    0.539737  0.627523 -0.168601  0.999926    0.994249    0.325179  0.999811  0.338573  0.165286  0.224475   1.000000     0.314859        NaN\n",
       "NEWCBC_TIME  0.534790  0.524556 -0.293570  0.314580    0.358121    0.664052  0.313120  0.677498  0.434371  0.510303   0.314859     1.000000        NaN\n",
       "NEWCBC_FC         NaN       NaN       NaN       NaN         NaN         NaN       NaN       NaN       NaN       NaN        NaN          NaN        1.0"
      ]
     },
     "execution_count": 14,
     "metadata": {},
     "output_type": "execute_result"
    }
   ],
   "source": [
    "#come ci si aspettava vi è una correlazione pressocchè unitaria tra le funzioni obiettivo, e tra le variabili temporali di MODEL e CBC. Le altre variabili non presentano particolari correlazioni\n",
    "ks.DataFrame.corr(kdf)"
   ]
  },
  {
   "cell_type": "code",
   "execution_count": 15,
   "metadata": {},
   "outputs": [],
   "source": [
    "#per facilitare la realizzazione dei grafici si estraggono le variabili pyspark convertendole in lista\n",
    "x_MOD_TIME=df.select('MODEL_TIME').rdd.map(lambda row : row.MODEL_TIME).collect()\n",
    "x_CBC_TIME=df.select('CBC_TIME').rdd.map(lambda row : row.CBC_TIME).collect()\n",
    "x_NEWCBC_TIME=df.select('NEWCBC_TIME').rdd.map(lambda row : row.NEWCBC_TIME).collect()"
   ]
  },
  {
   "cell_type": "code",
   "execution_count": 16,
   "metadata": {},
   "outputs": [],
   "source": [
    "x_MOD_OF=df.select('MODEL_OF').rdd.map(lambda row : row.MODEL_OF).collect()\n",
    "x_CBC_OF=df.select('CBC_OF').rdd.map(lambda row : row.CBC_OF).collect()\n",
    "x_NEWCBC_OF=df.select('NEWCBC_OF').rdd.map(lambda row : row.NEWCBC_OF).collect()\n",
    "y=df.select('F1').rdd.map(lambda row : row.F1).collect()"
   ]
  },
  {
   "cell_type": "code",
   "execution_count": 17,
   "metadata": {},
   "outputs": [],
   "source": [
    "y_F4=df.select('F4').rdd.map(lambda row : row.F4).collect()"
   ]
  },
  {
   "cell_type": "code",
   "execution_count": 18,
   "metadata": {},
   "outputs": [
    {
     "data": {
      "image/png": "[encoded data removed]",
      "text/plain": [
       "<Figure size 1440x576 with 3 Axes>"
      ]
     },
     "metadata": {
      "needs_background": "light"
     },
     "output_type": "display_data"
    }
   ],
   "source": [
    "#come ci si aspettava, i boxplot delle funzioni obiettivo risultano identici rispetto alle varie classi\n",
    "fig, (ax1, ax2, ax3) = plt.subplots(1, 3, figsize=(20,8))\n",
    "sns.boxplot(x=y, y=x_MOD_OF,ax=ax1).set(title='MODEL',xlabel='classi',ylabel='valori OF')\n",
    "sns.boxplot(x=y, y=x_CBC_OF,ax=ax2).set(title='CBC',xlabel='classi',ylabel='valori OF')\n",
    "sns.boxplot(x=y, y=x_NEWCBC_OF,ax=ax3).set(title='NEWCBC',xlabel='classi',ylabel='valori OF')\n",
    "\n",
    "plt.show()"
   ]
  },
  {
   "cell_type": "code",
   "execution_count": 19,
   "metadata": {},
   "outputs": [
    {
     "data": {
      "image/png": "[encoded data removed]",
      "text/plain": [
       "<Figure size 1440x576 with 3 Axes>"
      ]
     },
     "metadata": {
      "needs_background": "light"
     },
     "output_type": "display_data"
    }
   ],
   "source": [
    "#i boxplot rispetto al tempo confermano le ipotesi precedenti per cui è evidente che le classi 15 e 20 presentano una distribuzione ben diversa dalle altre\n",
    "fig, (ax1, ax2, ax3) = plt.subplots(1, 3, figsize=(20,8))\n",
    "sns.boxplot(x=y, y=x_MOD_TIME,ax=ax1).set(title='MODEL',xlabel='classi',ylabel='valori TIME')\n",
    "sns.boxplot(x=y, y=x_CBC_TIME,ax=ax2).set(title='CBC',xlabel='classi',ylabel='valori TIME')\n",
    "sns.boxplot(x=y, y=x_NEWCBC_TIME,ax=ax3).set(title='NEWCBC',xlabel='classi',ylabel='valori TIME')\n",
    "\n",
    "plt.show()"
   ]
  },
  {
   "cell_type": "markdown",
   "metadata": {},
   "source": [
    "**2. Evaluate the effectiveness of the algorithms using the OF value to compare the algorithms.\n",
    "Use a statistical test (first verify that the conditions for the selected test holds) and\n",
    "appropriate visualizations.**"
   ]
  },
  {
   "cell_type": "code",
   "execution_count": 20,
   "metadata": {},
   "outputs": [],
   "source": [
    "#creo un dizionario dalle variabili estratte in precedenza\n",
    "dic={'x_MOD_OF':x_MOD_OF,'x_CBC_OF':x_CBC_OF,'x_NEWCBC_OF':x_NEWCBC_OF}"
   ]
  },
  {
   "cell_type": "code",
   "execution_count": 21,
   "metadata": {},
   "outputs": [
    {
     "data": {
      "image/png": "[encoded data removed]",
      "text/plain": [
       "<Figure size 1800x576 with 3 Axes>"
      ]
     },
     "metadata": {
      "needs_background": "light"
     },
     "output_type": "display_data"
    }
   ],
   "source": [
    "#le distribuzioni delle OF sono pressocchè identiche come previsto dalle statistiche descrittive. Data la curva di densità si può supporre normalità\n",
    "bins=np.arange(50,700,30)\n",
    "fig=plt.figure(figsize=(25,8))\n",
    "\n",
    "n=1\n",
    "for k,v in dic.items():\n",
    "\n",
    "    ax=fig.add_subplot(1,3,n)\n",
    "    ax.hist(v, bins=20,facecolor = '#2ab0ff', edgecolor='#169acf', linewidth=0.5,density=True)\n",
    "    \n",
    "    sns.kdeplot(v)\n",
    "    \n",
    "    plt.title(k)\n",
    "    plt.xlabel('values')\n",
    "    plt.ylabel('frequenza assoluta')\n",
    "    \n",
    "    n+= 1\n",
    "\n",
    "plt.show()"
   ]
  },
  {
   "cell_type": "code",
   "execution_count": 22,
   "metadata": {
    "scrolled": true
   },
   "outputs": [
    {
     "name": "stderr",
     "output_type": "stream",
     "text": [
      "C:\\Users\\Eric\\anaconda3\\lib\\site-packages\\databricks\\koalas\\generic.py:603: UserWarning: We recommend using `Series.to_numpy()` instead.\n",
      "  warnings.warn(\"We recommend using `{}.to_numpy()` instead.\".format(type(self).__name__))\n"
     ]
    },
    {
     "name": "stdout",
     "output_type": "stream",
     "text": [
      "KstestResult(statistic=0.056732976986455075, pvalue=0.1466042846478776)\n",
      "KstestResult(statistic=0.05655028376444238, pvalue=0.14907215558115136)\n",
      "KstestResult(statistic=0.05630385773371849, pvalue=0.15245393870965315)\n"
     ]
    }
   ],
   "source": [
    "#effettuiamo un test di normalità rispetto alle distribuzioni. Come si sospettava tutti i testi accettano l'ipotesi di normalità della distribuzione\n",
    "val_MOD=(kdf.MODEL_OF.values-np.mean(kdf.MODEL_OF.values))/np.std(kdf.MODEL_OF.values)\n",
    "print(stats.kstest(val_MOD,'norm'))\n",
    "\n",
    "val_CBC=(kdf.CBC_OF.values-np.mean(kdf.CBC_OF.values))/np.std(kdf.CBC_OF.values)\n",
    "print(stats.kstest(val_CBC,'norm'))\n",
    "\n",
    "val_NEWCBC=(kdf.NEWCBC_OF.values-np.mean(kdf.NEWCBC_OF.values))/np.std(kdf.NEWCBC_OF.values)\n",
    "print(stats.kstest(val_NEWCBC,'norm'))"
   ]
  },
  {
   "cell_type": "code",
   "execution_count": 28,
   "metadata": {},
   "outputs": [],
   "source": [
    "#data l'assunzione di normalità si è scelto di operare con il test One Way Anova, con H0: mean(MOD_OF)==mean(CBC_OF)==mean(NEWCBC_OF)\n",
    "def One_Way_Anova(x,y,z):\n",
    "    \"\"\"Questa funzione prende in input i nomi di 3 variabili del DataFrame Koalas kdf ed esegue il test Anova ad Una Via con alfa 0.05\"\"\"\n",
    "\n",
    "    concat=ks.concat([kdf[x],kdf[y],kdf[z]])\n",
    "    N=len(concat)\n",
    "    n=len(kdf[x]) # n== len(y) == len(z)\n",
    "    alf=len([x,y,z]) #numero di gruppi\n",
    "    \n",
    "    s=[]\n",
    "    for i in [x,y,z]:\n",
    "        s.append(kdf[i].sum())\n",
    "    \n",
    "    tot_sum=sum(s)\n",
    "    sum_2=sum(map(lambda x:x**2, s))\n",
    "    concat_2=concat.apply(lambda x:x**2).sum()\n",
    "    SSB=(sum_2/n)-(sum(s)/N) #Sum of Squares Between\n",
    "    SSW=(concat_2/n)-(sum_2/n) #Sum of Squares Within\n",
    "    \n",
    "    dfb=alf-1\n",
    "    dfw=N-alf\n",
    "    \n",
    "    F=((SSB/dfb)/(SSW/dfw)) #statistica test \n",
    "    Fisher=stats.f.ppf(0.95,dfb,dfw) #quantile della distribuzione al 95%\n",
    "    \n",
    "    if F>Fisher : result=str(\"rifiuto H0, quindi le medie sono diverse\")\n",
    "    if F<Fisher : result=str('accetto H0, quindi le medie sono uguali')\n",
    "    \n",
    "    return print(result)"
   ]
  },
  {
   "cell_type": "code",
   "execution_count": 29,
   "metadata": {},
   "outputs": [
    {
     "name": "stderr",
     "output_type": "stream",
     "text": [
      "C:\\Users\\Eric\\anaconda3\\lib\\site-packages\\pyspark\\sql\\pandas\\functions.py:386: UserWarning: In Python 3.6+ and Spark 3.0+, it is preferred to specify type hints for pandas UDF instead of specifying pandas UDF type which will be deprecated in the future releases. See SPARK-28264 for more details.\n",
      "  \"in the future releases. See SPARK-28264 for more details.\", UserWarning)\n"
     ]
    },
    {
     "name": "stdout",
     "output_type": "stream",
     "text": [
      "accetto H0, quindi le medie sono uguali\n"
     ]
    }
   ],
   "source": [
    "One_Way_Anova('MODEL_OF','CBC_OF','NEWCBC_OF')"
   ]
  },
  {
   "cell_type": "markdown",
   "metadata": {},
   "source": [
    "**3. Evaluate the efficiency of the algorithms using the TIME value to compare the algorithms.\n",
    "Use a statistical test (first verify that the conditions for the selected test holds) and\n",
    "appropriate visualizations.**"
   ]
  },
  {
   "cell_type": "code",
   "execution_count": 25,
   "metadata": {},
   "outputs": [
    {
     "data": {
      "image/png": "[encoded data removed]",
      "text/plain": [
       "<Figure size 1800x1800 with 3 Axes>"
      ]
     },
     "metadata": {
      "needs_background": "light"
     },
     "output_type": "display_data"
    }
   ],
   "source": [
    "#Rispetto alle variabili temporali si predilige una trasformata logaritmica per smorzare l'effetto dei valori alti. Tuttavia si può supporre normalità soltanto nel caso del modello NEWCBC\n",
    "x1=np.log(x_MOD_TIME)\n",
    "x2=np.log(x_CBC_TIME)\n",
    "x3=np.log(x_NEWCBC_TIME)\n",
    "\n",
    "dic={'x_MOD_TIME':x1,'x_CBC_TIME':x2,'x_NEWCBC_TIME':x3}\n",
    "\n",
    "bins_dc={'x_MOD_TIME':np.arange(0,50,0.25),'x_CBC_TIME':np.arange(0,48,0.25),'x_NEWCBC_TIME':np.arange(0,15,0.25)}\n",
    "fig=plt.figure(figsize=(25,25))\n",
    "\n",
    "n=1\n",
    "for k,v in dic.items():\n",
    "    \n",
    "    bins=list(bins_dc[k])\n",
    "    ax=fig.add_subplot(3,1,n)\n",
    "    ax.hist(v, bins=20,facecolor = '#61E75A', edgecolor='#169acf', linewidth=0.5,density=True)\n",
    "    \n",
    "    sns.kdeplot(v)\n",
    "    \n",
    "    plt.title(k)\n",
    "    plt.xlabel('values')\n",
    "    plt.ylabel('frequenza assoluta')\n",
    "    \n",
    "    n+= 1\n",
    "\n",
    "plt.show()"
   ]
  },
  {
   "cell_type": "code",
   "execution_count": 26,
   "metadata": {},
   "outputs": [
    {
     "name": "stderr",
     "output_type": "stream",
     "text": [
      "C:\\Users\\Eric\\anaconda3\\lib\\site-packages\\databricks\\koalas\\generic.py:603: UserWarning: We recommend using `Series.to_numpy()` instead.\n",
      "  warnings.warn(\"We recommend using `{}.to_numpy()` instead.\".format(type(self).__name__))\n"
     ]
    },
    {
     "name": "stdout",
     "output_type": "stream",
     "text": [
      "KstestResult(statistic=0.43254385843408105, pvalue=1.5548647892293087e-68)\n",
      "KstestResult(statistic=0.4173028767314126, pvalue=1.3127496347637022e-63)\n",
      "KstestResult(statistic=0.21294438927509368, pvalue=2.138962482527853e-16)\n"
     ]
    }
   ],
   "source": [
    "#per prima cosa verifichiamo l'assunzione di normalità per le tre distribuzioni\n",
    "val_MOD=(kdf.MODEL_TIME.values-np.mean(kdf.MODEL_TIME.values))/np.std(kdf.MODEL_TIME.values)\n",
    "print(stats.kstest(val_MOD,'norm'))\n",
    "\n",
    "val_CBC=(kdf.CBC_OF.values-np.mean(kdf.CBC_TIME.values))/np.std(kdf.CBC_TIME.values)\n",
    "print(stats.kstest(val_CBC,'norm'))\n",
    "\n",
    "val_NEWCBC=(kdf.NEWCBC_TIME.values-np.mean(kdf.NEWCBC_TIME.values))/np.std(kdf.NEWCBC_TIME.values)\n",
    "print(stats.kstest(val_NEWCBC,'norm'))"
   ]
  },
  {
   "cell_type": "code",
   "execution_count": 27,
   "metadata": {},
   "outputs": [
    {
     "name": "stdout",
     "output_type": "stream",
     "text": [
      "il test non rifiuta H0, quindi le medie di MODEL_TIME e di CBC_TIME sono uguali, il pvalue è 0.25513670517186926\n",
      "il test rifiuta H0, quindi MODEL_TIME è maggiore diNEWCBC_TIME, il pvalue è 1.301780905293981e-11\n",
      "il test non rifiuta H0, quindi le medie di CBC_TIME e di MODEL_TIME sono uguali, il pvalue è 0.7448632948281307\n",
      "il test rifiuta H0, quindi CBC_TIME è maggiore diNEWCBC_TIME, il pvalue è 2.470235127560727e-11\n"
     ]
    }
   ],
   "source": [
    "#Dato il rifiuto dell'assunzione di normalità per tutte e tre le distribuzioni si passa ad un test di differenza tra medie che non presuppone normalità di distribuzione\n",
    "#Il test preso in considerazione consente di confrontare soltanto due distribuzioni per volta, quindi verrà eseguito 3 volte\n",
    "\n",
    "#H0: differenza di medie MOD-CBC = 0\n",
    "#H1: MOD-CBC > 0\n",
    "\n",
    "norm=stats.norm.ppf(.95) #normale standard al 95%\n",
    "\n",
    "for i in ['MODEL_TIME','CBC_TIME']:\n",
    "    for j in ['MODEL_TIME','CBC_TIME','NEWCBC_TIME']:\n",
    "        if (i != j)|((i=='CBC_TIME')&(j=='MODEL_TIME')):\n",
    "            n=len(kdf[i])\n",
    "            Z=(np.mean(kdf[i].values)-np.mean(kdf[j].values))/np.sqrt((np.var(kdf[i].values)/n)+(np.var(kdf[j].values)/n))\n",
    "    \n",
    "            if Z>norm: result=str(\"il test rifiuta H0, quindi \"+i+\" è maggiore di \" + j )\n",
    "            if Z<norm: result=str(\"il test non rifiuta H0, quindi le medie di \"+i+ \" e di \"+j+\" sono uguali\")\n",
    "        \n",
    "            pvalue=1-stats.norm.cdf(Z)\n",
    "\n",
    "            print(\"{}, il pvalue è {}\".format(result,pvalue))"
   ]
  },
  {
   "cell_type": "code",
   "execution_count": null,
   "metadata": {},
   "outputs": [],
   "source": [
    "#N.B l'output ritorna un messaggio ridondante"
   ]
  },
  {
   "cell_type": "markdown",
   "metadata": {},
   "source": [
    "**4. Study the correlation between features and values of OF/Time, FC and PC. Which features\n",
    "have the greatest impact on the execution time of the two algorithms? Is it possible to\n",
    "predict the TIME or OF variable? (you can make them categorical).**"
   ]
  },
  {
   "cell_type": "code",
   "execution_count": 30,
   "metadata": {},
   "outputs": [],
   "source": [
    "corr=ks.DataFrame.corr(kdf)"
   ]
  },
  {
   "cell_type": "code",
   "execution_count": 31,
   "metadata": {},
   "outputs": [],
   "source": [
    "corr1=corr.drop(['F2','F3','Rep'],axis=1)"
   ]
  },
  {
   "cell_type": "code",
   "execution_count": 32,
   "metadata": {},
   "outputs": [],
   "source": [
    "corr2=corr1.iloc[0:3,:]"
   ]
  },
  {
   "cell_type": "code",
   "execution_count": 33,
   "metadata": {
    "scrolled": true
   },
   "outputs": [
    {
     "data": {
      "text/html": [
       "<div>\n",
       "<style scoped>\n",
       "    .dataframe tbody tr th:only-of-type {\n",
       "        vertical-align: middle;\n",
       "    }\n",
       "\n",
       "    .dataframe tbody tr th {\n",
       "        vertical-align: top;\n",
       "    }\n",
       "\n",
       "    .dataframe thead th {\n",
       "        text-align: right;\n",
       "    }\n",
       "</style>\n",
       "<table border=\"1\" class=\"dataframe\">\n",
       "  <thead>\n",
       "    <tr style=\"text-align: right;\">\n",
       "      <th></th>\n",
       "      <th>MODEL_OF</th>\n",
       "      <th>MODEL_OFUB</th>\n",
       "      <th>MODEL_TIME</th>\n",
       "      <th>CBC_OF</th>\n",
       "      <th>CBC_TIME</th>\n",
       "      <th>CBC_FC</th>\n",
       "      <th>CBC_PC</th>\n",
       "      <th>NEWCBC_OF</th>\n",
       "      <th>NEWCBC_TIME</th>\n",
       "      <th>NEWCBC_FC</th>\n",
       "    </tr>\n",
       "  </thead>\n",
       "  <tbody>\n",
       "    <tr>\n",
       "      <th>F2</th>\n",
       "      <td>0.540895</td>\n",
       "      <td>0.572436</td>\n",
       "      <td>0.583499</td>\n",
       "      <td>0.540677</td>\n",
       "      <td>0.584216</td>\n",
       "      <td>0.297691</td>\n",
       "      <td>0.444480</td>\n",
       "      <td>0.539737</td>\n",
       "      <td>0.534790</td>\n",
       "      <td>NaN</td>\n",
       "    </tr>\n",
       "    <tr>\n",
       "      <th>F3</th>\n",
       "      <td>0.628034</td>\n",
       "      <td>0.659081</td>\n",
       "      <td>0.577608</td>\n",
       "      <td>0.627819</td>\n",
       "      <td>0.583315</td>\n",
       "      <td>0.346445</td>\n",
       "      <td>0.451041</td>\n",
       "      <td>0.627523</td>\n",
       "      <td>0.524556</td>\n",
       "      <td>NaN</td>\n",
       "    </tr>\n",
       "    <tr>\n",
       "      <th>Rep</th>\n",
       "      <td>-0.168373</td>\n",
       "      <td>-0.183636</td>\n",
       "      <td>-0.269951</td>\n",
       "      <td>-0.166947</td>\n",
       "      <td>-0.281157</td>\n",
       "      <td>-0.167943</td>\n",
       "      <td>-0.219248</td>\n",
       "      <td>-0.168601</td>\n",
       "      <td>-0.293570</td>\n",
       "      <td>NaN</td>\n",
       "    </tr>\n",
       "  </tbody>\n",
       "</table>\n",
       "</div>"
      ],
      "text/plain": [
       "     MODEL_OF  MODEL_OFUB  MODEL_TIME    CBC_OF  CBC_TIME    CBC_FC    CBC_PC  NEWCBC_OF  NEWCBC_TIME  NEWCBC_FC\n",
       "F2   0.540895    0.572436    0.583499  0.540677  0.584216  0.297691  0.444480   0.539737     0.534790        NaN\n",
       "F3   0.628034    0.659081    0.577608  0.627819  0.583315  0.346445  0.451041   0.627523     0.524556        NaN\n",
       "Rep -0.168373   -0.183636   -0.269951 -0.166947 -0.281157 -0.167943 -0.219248  -0.168601    -0.293570        NaN"
      ]
     },
     "execution_count": 33,
     "metadata": {},
     "output_type": "execute_result"
    }
   ],
   "source": [
    "#dalla tabella delle correlazioni tra variabili di input non si trovano correlazioni particolarmente rilevanti\n",
    "corr2"
   ]
  },
  {
   "cell_type": "code",
   "execution_count": 34,
   "metadata": {},
   "outputs": [],
   "source": [
    "df_out=df.select([\n",
    " 'MODEL_TIME',\n",
    " 'CBC_TIME',\n",
    " 'NEWCBC_TIME'])"
   ]
  },
  {
   "cell_type": "code",
   "execution_count": 35,
   "metadata": {},
   "outputs": [
    {
     "name": "stdout",
     "output_type": "stream",
     "text": [
      "{'MODEL_TIME': {'q1': 1.02, 'q3': 20.808, 'lower': -28.662000000000003, 'upper': 50.49}, 'CBC_TIME': {'q1': 0.09, 'q3': 20.569, 'lower': -30.6285, 'upper': 51.287499999999994}, 'NEWCBC_TIME': {'q1': 0.047, 'q3': 0.26, 'lower': -0.2725, 'upper': 0.5795}}\n"
     ]
    }
   ],
   "source": [
    "#computiamo gli intervalli di confidenza rispetto alle variabili prese in considerazione\n",
    "bounds = {\n",
    "    c: dict(\n",
    "        zip([\"q1\", \"q3\"], df_out.approxQuantile(c, [0.25, 0.75], 0))\n",
    "    )\n",
    "    for c in df_out.columns\n",
    "}\n",
    "\n",
    "for c in bounds:\n",
    "    iqr = bounds[c]['q3'] - bounds[c]['q1']\n",
    "    bounds[c]['lower'] = bounds[c]['q1'] - (iqr * 1.5)\n",
    "    bounds[c]['upper'] = bounds[c]['q3'] + (iqr * 1.5)\n",
    "print(bounds)\n",
    "\n"
   ]
  },
  {
   "cell_type": "code",
   "execution_count": 36,
   "metadata": {},
   "outputs": [],
   "source": [
    "#in questo modo selezioniamo le osservazioni outlier rispetto alle sole variabili d'interesse. Lo scopo sarà quello di non essere costretti ad eliminare l'intera osservazione quando è outlier rispetto sono ad alcune delle variabili selezioante. Verrà invece eliminata solo per la variaible d'interesse\n",
    "df_out=df_out.select(\n",
    "    \"*\",\n",
    "    *[\n",
    "        f.when(\n",
    "            f.col(c).between(bounds[c]['lower'], bounds[c]['upper']),\n",
    "            0\n",
    "        ).otherwise(1).alias(c+\"_out\") \n",
    "        for c in df_out.columns\n",
    "    ]\n",
    ")"
   ]
  },
  {
   "cell_type": "code",
   "execution_count": 37,
   "metadata": {},
   "outputs": [],
   "source": [
    "kdf_new=df_out.to_koalas()"
   ]
  },
  {
   "cell_type": "code",
   "execution_count": 38,
   "metadata": {},
   "outputs": [],
   "source": [
    "#uniamo al dataset le variabili non considerate precedentemente\n",
    "new_df = kdf.merge(kdf_new, on=['MODEL_TIME', 'CBC_TIME', 'NEWCBC_TIME'], how='inner')"
   ]
  },
  {
   "cell_type": "code",
   "execution_count": 39,
   "metadata": {},
   "outputs": [
    {
     "data": {
      "text/html": [
       "<div>\n",
       "<style scoped>\n",
       "    .dataframe tbody tr th:only-of-type {\n",
       "        vertical-align: middle;\n",
       "    }\n",
       "\n",
       "    .dataframe tbody tr th {\n",
       "        vertical-align: top;\n",
       "    }\n",
       "\n",
       "    .dataframe thead th {\n",
       "        text-align: right;\n",
       "    }\n",
       "</style>\n",
       "<table border=\"1\" class=\"dataframe\">\n",
       "  <thead>\n",
       "    <tr style=\"text-align: right;\">\n",
       "      <th></th>\n",
       "      <th>F1</th>\n",
       "      <th>F2</th>\n",
       "      <th>F3</th>\n",
       "      <th>F4</th>\n",
       "      <th>Rep</th>\n",
       "      <th>MODEL_OF</th>\n",
       "      <th>MODEL_OFUB</th>\n",
       "      <th>MODEL_TIME</th>\n",
       "      <th>CBC_OF</th>\n",
       "      <th>CBC_TIME</th>\n",
       "      <th>CBC_FC</th>\n",
       "      <th>CBC_PC</th>\n",
       "      <th>NEWCBC_OF</th>\n",
       "      <th>NEWCBC_TIME</th>\n",
       "      <th>NEWCBC_FC</th>\n",
       "      <th>MODEL_TIME_out</th>\n",
       "      <th>CBC_TIME_out</th>\n",
       "      <th>NEWCBC_TIME_out</th>\n",
       "    </tr>\n",
       "  </thead>\n",
       "  <tbody>\n",
       "    <tr>\n",
       "      <th>0</th>\n",
       "      <td>20</td>\n",
       "      <td>600</td>\n",
       "      <td>9</td>\n",
       "      <td>D</td>\n",
       "      <td>1</td>\n",
       "      <td>251</td>\n",
       "      <td>261</td>\n",
       "      <td>3600.000</td>\n",
       "      <td>251</td>\n",
       "      <td>3600.000</td>\n",
       "      <td>1</td>\n",
       "      <td>1</td>\n",
       "      <td>251</td>\n",
       "      <td>1.073</td>\n",
       "      <td>0</td>\n",
       "      <td>1</td>\n",
       "      <td>1</td>\n",
       "      <td>1</td>\n",
       "    </tr>\n",
       "    <tr>\n",
       "      <th>1</th>\n",
       "      <td>10</td>\n",
       "      <td>400</td>\n",
       "      <td>7</td>\n",
       "      <td>C</td>\n",
       "      <td>2</td>\n",
       "      <td>195</td>\n",
       "      <td>195</td>\n",
       "      <td>0.240</td>\n",
       "      <td>195</td>\n",
       "      <td>0.030</td>\n",
       "      <td>0</td>\n",
       "      <td>0</td>\n",
       "      <td>195</td>\n",
       "      <td>0.048</td>\n",
       "      <td>0</td>\n",
       "      <td>0</td>\n",
       "      <td>0</td>\n",
       "      <td>0</td>\n",
       "    </tr>\n",
       "    <tr>\n",
       "      <th>2</th>\n",
       "      <td>3</td>\n",
       "      <td>400</td>\n",
       "      <td>7</td>\n",
       "      <td>C</td>\n",
       "      <td>4</td>\n",
       "      <td>187</td>\n",
       "      <td>187</td>\n",
       "      <td>0.860</td>\n",
       "      <td>187</td>\n",
       "      <td>0.010</td>\n",
       "      <td>0</td>\n",
       "      <td>0</td>\n",
       "      <td>187</td>\n",
       "      <td>0.022</td>\n",
       "      <td>0</td>\n",
       "      <td>0</td>\n",
       "      <td>0</td>\n",
       "      <td>0</td>\n",
       "    </tr>\n",
       "    <tr>\n",
       "      <th>3</th>\n",
       "      <td>3</td>\n",
       "      <td>600</td>\n",
       "      <td>9</td>\n",
       "      <td>F</td>\n",
       "      <td>2</td>\n",
       "      <td>264</td>\n",
       "      <td>264</td>\n",
       "      <td>2.040</td>\n",
       "      <td>264</td>\n",
       "      <td>1.680</td>\n",
       "      <td>0</td>\n",
       "      <td>1</td>\n",
       "      <td>264</td>\n",
       "      <td>0.021</td>\n",
       "      <td>0</td>\n",
       "      <td>0</td>\n",
       "      <td>0</td>\n",
       "      <td>0</td>\n",
       "    </tr>\n",
       "    <tr>\n",
       "      <th>4</th>\n",
       "      <td>3</td>\n",
       "      <td>600</td>\n",
       "      <td>12</td>\n",
       "      <td>F</td>\n",
       "      <td>8</td>\n",
       "      <td>340</td>\n",
       "      <td>340</td>\n",
       "      <td>4.850</td>\n",
       "      <td>340</td>\n",
       "      <td>0.300</td>\n",
       "      <td>0</td>\n",
       "      <td>1</td>\n",
       "      <td>340</td>\n",
       "      <td>0.120</td>\n",
       "      <td>0</td>\n",
       "      <td>0</td>\n",
       "      <td>0</td>\n",
       "      <td>0</td>\n",
       "    </tr>\n",
       "    <tr>\n",
       "      <th>5</th>\n",
       "      <td>3</td>\n",
       "      <td>600</td>\n",
       "      <td>12</td>\n",
       "      <td>C</td>\n",
       "      <td>9</td>\n",
       "      <td>475</td>\n",
       "      <td>475</td>\n",
       "      <td>7.437</td>\n",
       "      <td>475</td>\n",
       "      <td>3.009</td>\n",
       "      <td>0</td>\n",
       "      <td>3</td>\n",
       "      <td>475</td>\n",
       "      <td>0.159</td>\n",
       "      <td>0</td>\n",
       "      <td>0</td>\n",
       "      <td>0</td>\n",
       "      <td>0</td>\n",
       "    </tr>\n",
       "    <tr>\n",
       "      <th>6</th>\n",
       "      <td>5</td>\n",
       "      <td>500</td>\n",
       "      <td>10</td>\n",
       "      <td>B</td>\n",
       "      <td>10</td>\n",
       "      <td>438</td>\n",
       "      <td>438</td>\n",
       "      <td>6.990</td>\n",
       "      <td>438</td>\n",
       "      <td>4.596</td>\n",
       "      <td>0</td>\n",
       "      <td>1</td>\n",
       "      <td>438</td>\n",
       "      <td>0.172</td>\n",
       "      <td>0</td>\n",
       "      <td>0</td>\n",
       "      <td>0</td>\n",
       "      <td>0</td>\n",
       "    </tr>\n",
       "    <tr>\n",
       "      <th>7</th>\n",
       "      <td>10</td>\n",
       "      <td>500</td>\n",
       "      <td>8</td>\n",
       "      <td>F</td>\n",
       "      <td>2</td>\n",
       "      <td>232</td>\n",
       "      <td>232</td>\n",
       "      <td>28.775</td>\n",
       "      <td>232</td>\n",
       "      <td>20.759</td>\n",
       "      <td>0</td>\n",
       "      <td>7</td>\n",
       "      <td>232</td>\n",
       "      <td>0.223</td>\n",
       "      <td>0</td>\n",
       "      <td>0</td>\n",
       "      <td>0</td>\n",
       "      <td>0</td>\n",
       "    </tr>\n",
       "    <tr>\n",
       "      <th>8</th>\n",
       "      <td>10</td>\n",
       "      <td>600</td>\n",
       "      <td>10</td>\n",
       "      <td>B</td>\n",
       "      <td>9</td>\n",
       "      <td>337</td>\n",
       "      <td>337</td>\n",
       "      <td>512.083</td>\n",
       "      <td>337</td>\n",
       "      <td>2475.750</td>\n",
       "      <td>0</td>\n",
       "      <td>48</td>\n",
       "      <td>337</td>\n",
       "      <td>0.334</td>\n",
       "      <td>0</td>\n",
       "      <td>1</td>\n",
       "      <td>1</td>\n",
       "      <td>0</td>\n",
       "    </tr>\n",
       "    <tr>\n",
       "      <th>9</th>\n",
       "      <td>5</td>\n",
       "      <td>600</td>\n",
       "      <td>10</td>\n",
       "      <td>C</td>\n",
       "      <td>2</td>\n",
       "      <td>323</td>\n",
       "      <td>323</td>\n",
       "      <td>0.280</td>\n",
       "      <td>323</td>\n",
       "      <td>0.090</td>\n",
       "      <td>0</td>\n",
       "      <td>0</td>\n",
       "      <td>323</td>\n",
       "      <td>0.040</td>\n",
       "      <td>0</td>\n",
       "      <td>0</td>\n",
       "      <td>0</td>\n",
       "      <td>0</td>\n",
       "    </tr>\n",
       "  </tbody>\n",
       "</table>\n",
       "</div>"
      ],
      "text/plain": [
       "   F1   F2  F3 F4  Rep  MODEL_OF  MODEL_OFUB  MODEL_TIME  CBC_OF  CBC_TIME  CBC_FC  CBC_PC  NEWCBC_OF  NEWCBC_TIME  NEWCBC_FC  MODEL_TIME_out  CBC_TIME_out  NEWCBC_TIME_out\n",
       "0  20  600   9  D    1       251         261    3600.000     251  3600.000       1       1        251        1.073          0               1             1                1\n",
       "1  10  400   7  C    2       195         195       0.240     195     0.030       0       0        195        0.048          0               0             0                0\n",
       "2   3  400   7  C    4       187         187       0.860     187     0.010       0       0        187        0.022          0               0             0                0\n",
       "3   3  600   9  F    2       264         264       2.040     264     1.680       0       1        264        0.021          0               0             0                0\n",
       "4   3  600  12  F    8       340         340       4.850     340     0.300       0       1        340        0.120          0               0             0                0\n",
       "5   3  600  12  C    9       475         475       7.437     475     3.009       0       3        475        0.159          0               0             0                0\n",
       "6   5  500  10  B   10       438         438       6.990     438     4.596       0       1        438        0.172          0               0             0                0\n",
       "7  10  500   8  F    2       232         232      28.775     232    20.759       0       7        232        0.223          0               0             0                0\n",
       "8  10  600  10  B    9       337         337     512.083     337  2475.750       0      48        337        0.334          0               1             1                0\n",
       "9   5  600  10  C    2       323         323       0.280     323     0.090       0       0        323        0.040          0               0             0                0"
      ]
     },
     "execution_count": 39,
     "metadata": {},
     "output_type": "execute_result"
    }
   ],
   "source": [
    "#le nuove variaibli hanno indice 1 laddove l'osservazione è outlier rispetto alla variabile di riferimento\n",
    "new_df.head(10)"
   ]
  },
  {
   "cell_type": "code",
   "execution_count": 40,
   "metadata": {},
   "outputs": [],
   "source": [
    "#ora si provede alla selezione delle variabili utili alla regressione\n",
    "reg1=new_df.iloc[:,[0,1,2,3,4,7,15]]"
   ]
  },
  {
   "cell_type": "code",
   "execution_count": 41,
   "metadata": {},
   "outputs": [],
   "source": [
    "#si eliminano gli outliers relativi alla variabile target considerata nella regressione\n",
    "reg1=reg1[reg1.MODEL_TIME_out==0]"
   ]
  },
  {
   "cell_type": "code",
   "execution_count": 42,
   "metadata": {},
   "outputs": [
    {
     "data": {
      "text/html": [
       "<div>\n",
       "<style scoped>\n",
       "    .dataframe tbody tr th:only-of-type {\n",
       "        vertical-align: middle;\n",
       "    }\n",
       "\n",
       "    .dataframe tbody tr th {\n",
       "        vertical-align: top;\n",
       "    }\n",
       "\n",
       "    .dataframe thead th {\n",
       "        text-align: right;\n",
       "    }\n",
       "</style>\n",
       "<table border=\"1\" class=\"dataframe\">\n",
       "  <thead>\n",
       "    <tr style=\"text-align: right;\">\n",
       "      <th></th>\n",
       "      <th>F1</th>\n",
       "      <th>F2</th>\n",
       "      <th>F3</th>\n",
       "      <th>F4</th>\n",
       "      <th>Rep</th>\n",
       "      <th>MODEL_TIME</th>\n",
       "      <th>MODEL_TIME_out</th>\n",
       "    </tr>\n",
       "  </thead>\n",
       "  <tbody>\n",
       "    <tr>\n",
       "      <th>1</th>\n",
       "      <td>10</td>\n",
       "      <td>400</td>\n",
       "      <td>7</td>\n",
       "      <td>C</td>\n",
       "      <td>2</td>\n",
       "      <td>0.240</td>\n",
       "      <td>0</td>\n",
       "    </tr>\n",
       "    <tr>\n",
       "      <th>2</th>\n",
       "      <td>3</td>\n",
       "      <td>400</td>\n",
       "      <td>7</td>\n",
       "      <td>C</td>\n",
       "      <td>4</td>\n",
       "      <td>0.860</td>\n",
       "      <td>0</td>\n",
       "    </tr>\n",
       "    <tr>\n",
       "      <th>3</th>\n",
       "      <td>3</td>\n",
       "      <td>600</td>\n",
       "      <td>9</td>\n",
       "      <td>F</td>\n",
       "      <td>2</td>\n",
       "      <td>2.040</td>\n",
       "      <td>0</td>\n",
       "    </tr>\n",
       "    <tr>\n",
       "      <th>4</th>\n",
       "      <td>3</td>\n",
       "      <td>600</td>\n",
       "      <td>12</td>\n",
       "      <td>F</td>\n",
       "      <td>8</td>\n",
       "      <td>4.850</td>\n",
       "      <td>0</td>\n",
       "    </tr>\n",
       "    <tr>\n",
       "      <th>5</th>\n",
       "      <td>3</td>\n",
       "      <td>600</td>\n",
       "      <td>12</td>\n",
       "      <td>C</td>\n",
       "      <td>9</td>\n",
       "      <td>7.437</td>\n",
       "      <td>0</td>\n",
       "    </tr>\n",
       "  </tbody>\n",
       "</table>\n",
       "</div>"
      ],
      "text/plain": [
       "   F1   F2  F3 F4  Rep  MODEL_TIME  MODEL_TIME_out\n",
       "1  10  400   7  C    2       0.240               0\n",
       "2   3  400   7  C    4       0.860               0\n",
       "3   3  600   9  F    2       2.040               0\n",
       "4   3  600  12  F    8       4.850               0\n",
       "5   3  600  12  C    9       7.437               0"
      ]
     },
     "execution_count": 42,
     "metadata": {},
     "output_type": "execute_result"
    }
   ],
   "source": [
    "reg1.head()"
   ]
  },
  {
   "cell_type": "code",
   "execution_count": 43,
   "metadata": {},
   "outputs": [],
   "source": [
    "#si fa lo stesso per le altre variabili target\n",
    "reg2=new_df.iloc[:,[0,1,2,3,4,9,16]]\n",
    "reg2=reg2[reg2.CBC_TIME_out==0]\n",
    "\n",
    "reg3=new_df.iloc[:,[0,1,2,3,4,13,17]]\n",
    "reg3=reg3[reg3.NEWCBC_TIME_out==0]"
   ]
  },
  {
   "cell_type": "code",
   "execution_count": 44,
   "metadata": {},
   "outputs": [],
   "source": [
    "#si eliminano le variaibli non rilevanti allo scopo della regressione\n",
    "reg_1=reg1.drop('MODEL_TIME_out',axis=1)\n",
    "reg_2=reg2.drop('CBC_TIME_out',axis=1)\n",
    "reg_3=reg3.drop('NEWCBC_TIME_out',axis=1)"
   ]
  },
  {
   "cell_type": "code",
   "execution_count": 45,
   "metadata": {},
   "outputs": [],
   "source": [
    "#si applica il logaritmo alle variabili target per soddisfare la condizione di normalità\n",
    "reg_1['MODEL_TIME']=np.log(reg_1['MODEL_TIME'])\n",
    "reg_2['CBC_TIME']=np.log(reg_2['CBC_TIME'])\n",
    "reg_3['NEWCBC_TIME']=np.log(reg_3['NEWCBC_TIME'])"
   ]
  },
  {
   "cell_type": "code",
   "execution_count": 46,
   "metadata": {},
   "outputs": [],
   "source": [
    "#si convertono i DataFrame Koalas a DataFrame Spark\n",
    "reg_mod=reg_1.to_spark()\n",
    "reg_cbc=reg_2.to_spark()\n",
    "reg_new=reg_3.to_spark()"
   ]
  },
  {
   "cell_type": "code",
   "execution_count": 52,
   "metadata": {},
   "outputs": [],
   "source": [
    "#si procede alla creazione di variabili eseguendo one hot encoding rispetto alle variaibli categoriali F1 ed F4 d'interesse\n",
    "indexer = StringIndexer(inputCol=\"F1\", outputCol=\"F1_idx\")\n",
    "indexed = indexer.fit(reg_mod).transform(reg_mod)\n",
    "indexer = StringIndexer(inputCol=\"F4\", outputCol=\"F4_idx\")\n",
    "indexed = indexer.fit(indexed).transform(indexed)\n",
    "\n",
    "encoder = OneHotEncoder(inputCols=['F1_idx','F4_idx'], outputCols=[\"F1_category\", \"F4_category\"])\n",
    "new_df=encoder.fit(indexed).transform(indexed)"
   ]
  },
  {
   "cell_type": "code",
   "execution_count": 53,
   "metadata": {
    "scrolled": true
   },
   "outputs": [
    {
     "name": "stdout",
     "output_type": "stream",
     "text": [
      "Variabile Target: CBC_TIME\n",
      "Coefficients: [0.60243616 1.         1.26212785 1.00273882 1.         0.34807312\n",
      " 1.         1.02796895 1.056305   1.        ]\n",
      "Intercept: -0.12400249655009558\n",
      "RMSE: 1.253903\n",
      "r2: 0.359662\n",
      "\n",
      "\n"
     ]
    }
   ],
   "source": [
    "#si prepara l'input del modello\n",
    "vectorAssembler = VectorAssembler(inputCols = ['F1_category','F2','F3','F4_category','Rep'], outputCol = 'features')\n",
    "vhouse_df = vectorAssembler.transform(new_df)\n",
    "vhouse_df = vhouse_df.select(['features', 'MODEL_TIME'])\n",
    "\n",
    "#si esegue la regressione\n",
    "lr = LinearRegression(featuresCol = 'features', labelCol='MODEL_TIME', maxIter=13, regParam=0.3, elasticNetParam=0.8)\n",
    "lr_model = lr.fit(vhouse_df)\n",
    "    \n",
    "trainingSummary = lr_model.summary\n",
    "\n",
    "print(\"Variabile Target: \"+i)\n",
    "print(\"Coefficients: \" + str(np.exp(lr_model.coefficients)))\n",
    "print(\"Intercept: \" + str(lr_model.intercept))\n",
    "print(\"RMSE: %f\" % trainingSummary.rootMeanSquaredError)\n",
    "print(\"r2: %f\" % trainingSummary.r2)\n",
    "print(\"\")\n",
    "print(\"\")"
   ]
  },
  {
   "cell_type": "code",
   "execution_count": 54,
   "metadata": {},
   "outputs": [],
   "source": [
    "#si procede alla creazione di variabili eseguendo one hot encoding rispetto alle variaibli categoriali F1 ed F4 d'interesse\n",
    "indexer = StringIndexer(inputCol=\"F1\", outputCol=\"F1_idx\")\n",
    "indexed = indexer.fit(reg_cbc).transform(reg_cbc)\n",
    "indexer = StringIndexer(inputCol=\"F4\", outputCol=\"F4_idx\")\n",
    "indexed = indexer.fit(indexed).transform(indexed)\n",
    "\n",
    "encoder = OneHotEncoder(inputCols=['F1_idx','F4_idx'], outputCols=[\"F1_category\", \"F4_category\"])\n",
    "new_df=encoder.fit(indexed).transform(indexed)"
   ]
  },
  {
   "cell_type": "code",
   "execution_count": 55,
   "metadata": {},
   "outputs": [
    {
     "name": "stdout",
     "output_type": "stream",
     "text": [
      "Variabile Target: CBC_TIME\n",
      "Coefficients: [0.41337465 1.         1.         1.0030023  1.19434868 0.58851443\n",
      " 0.34538569 2.78893545 2.34354414 1.        ]\n",
      "Intercept: -3.4882656459772856\n",
      "RMSE: 1.793121\n",
      "r2: 0.409622\n",
      "\n",
      "\n"
     ]
    }
   ],
   "source": [
    "#si prepara l'input del modello\n",
    "vectorAssembler = VectorAssembler(inputCols = ['F1_category','F2','F3','F4_category','Rep'], outputCol = 'features')\n",
    "vhouse_df = vectorAssembler.transform(new_df)\n",
    "vhouse_df = vhouse_df.select(['features', 'CBC_TIME'])\n",
    "\n",
    "#si esegue la regressione\n",
    "lr = LinearRegression(featuresCol = 'features', labelCol='CBC_TIME', maxIter=13, regParam=0.3, elasticNetParam=0.8)\n",
    "lr_model = lr.fit(vhouse_df)\n",
    "    \n",
    "trainingSummary = lr_model.summary\n",
    "\n",
    "print(\"Variabile Target: \"+i)\n",
    "print(\"Coefficients: \" + str(np.exp(lr_model.coefficients)))\n",
    "print(\"Intercept: \" + str(lr_model.intercept))\n",
    "print(\"RMSE: %f\" % trainingSummary.rootMeanSquaredError)\n",
    "print(\"r2: %f\" % trainingSummary.r2)\n",
    "print(\"\")\n",
    "print(\"\")"
   ]
  },
  {
   "cell_type": "code",
   "execution_count": 56,
   "metadata": {},
   "outputs": [],
   "source": [
    "#si procede alla creazione di variabili eseguendo one hot encoding rispetto alle variaibli categoriali F1 ed F4 d'interesse\n",
    "indexer = StringIndexer(inputCol=\"F1\", outputCol=\"F1_idx\")\n",
    "indexed = indexer.fit(reg_new).transform(reg_new)\n",
    "indexer = StringIndexer(inputCol=\"F4\", outputCol=\"F4_idx\")\n",
    "indexed = indexer.fit(indexed).transform(indexed)\n",
    "\n",
    "encoder = OneHotEncoder(inputCols=['F1_idx','F4_idx'], outputCols=[\"F1_category\", \"F4_category\"])\n",
    "new_df=encoder.fit(indexed).transform(indexed)"
   ]
  },
  {
   "cell_type": "code",
   "execution_count": 57,
   "metadata": {},
   "outputs": [
    {
     "name": "stdout",
     "output_type": "stream",
     "text": [
      "Variabile Target: CBC_TIME\n",
      "Coefficients: [1.57231218 0.64889989 1.         1.         1.00042716 1.03813197\n",
      " 1.         1.         1.         1.         1.         1.        ]\n",
      "Intercept: -2.92033345531534\n",
      "RMSE: 0.745002\n",
      "r2: 0.426861\n",
      "\n",
      "\n"
     ]
    }
   ],
   "source": [
    "#si prepara l'input del modello\n",
    "vectorAssembler = VectorAssembler(inputCols = ['F1_category','F2','F3','F4_category','Rep'], outputCol = 'features')\n",
    "vhouse_df = vectorAssembler.transform(new_df)\n",
    "vhouse_df = vhouse_df.select(['features', 'NEWCBC_TIME'])\n",
    "\n",
    "#si esegue la regressione\n",
    "lr = LinearRegression(featuresCol = 'features', labelCol='NEWCBC_TIME', maxIter=13, regParam=0.3, elasticNetParam=0.8)\n",
    "lr_model = lr.fit(vhouse_df)\n",
    "    \n",
    "trainingSummary = lr_model.summary\n",
    "\n",
    "print(\"Variabile Target: \"+i)\n",
    "print(\"Coefficients: \" + str(np.exp(lr_model.coefficients)))\n",
    "print(\"Intercept: \" + str(lr_model.intercept))\n",
    "print(\"RMSE: %f\" % trainingSummary.rootMeanSquaredError)\n",
    "print(\"r2: %f\" % trainingSummary.r2)\n",
    "print(\"\")\n",
    "print(\"\")"
   ]
  },
  {
   "cell_type": "code",
   "execution_count": null,
   "metadata": {},
   "outputs": [],
   "source": [
    "#osservando i coefficienti si può constatare che la feature che ha maggiore impatto sul tempo è la F4 (A,B,C,D,E,F) , infatti osservando i dataset si osserva che al crescere della lettera aumenta chiaramente il tempo di esecuzione dei modelli "
   ]
  },
  {
   "cell_type": "code",
   "execution_count": 58,
   "metadata": {},
   "outputs": [],
   "source": [
    "#per le variabili OF se ne considera una soltanto per dimostrare la bontà dell'utilizzo della regressione a fini predittivi, dato il fatto che le distribuzioni delle altre variaibli OF sono pressocchè identiche\n",
    "kdf_OF=kdf.loc[:,[ 'F1','F2', 'F3','F4', 'Rep','NEWCBC_OF']]"
   ]
  },
  {
   "cell_type": "code",
   "execution_count": 59,
   "metadata": {},
   "outputs": [],
   "source": [
    "kdf_OFreg=kdf_OF.to_spark()"
   ]
  },
  {
   "cell_type": "code",
   "execution_count": 60,
   "metadata": {},
   "outputs": [
    {
     "name": "stdout",
     "output_type": "stream",
     "text": [
      "Coefficients: [-11.59335577077029,4.421710943076866,11.128259567569339,70.58261495798754,0.08205889373537686,26.26918438053088,-32.95812373055403,105.2604773488989,46.64494486799907,37.025043120078244,-7.782081658049279,-0.9655596525166312]\n",
      "Intercept: -43.178576443515226\n"
     ]
    }
   ],
   "source": [
    "indexer = StringIndexer(inputCol=\"F1\", outputCol=\"F1_idx\")\n",
    "indexed = indexer.fit(kdf_OFreg).transform(kdf_OFreg)\n",
    "indexer = StringIndexer(inputCol=\"F4\", outputCol=\"F4_idx\")\n",
    "indexed = indexer.fit(indexed).transform(indexed)\n",
    "\n",
    "encoder = OneHotEncoder(inputCols=['F1_idx','F4_idx'], outputCols=[\"F1_category\", \"F4_category\"])\n",
    "new_df=encoder.fit(indexed).transform(indexed)\n",
    "\n",
    "vectorAssembler = VectorAssembler(inputCols = ['F1_category','F2','F3','F4_category','Rep'], outputCol = 'features')\n",
    "vhouse_df = vectorAssembler.transform(new_df)\n",
    "vhouse_df = vhouse_df.select(['features', 'NEWCBC_OF'])\n",
    "\n",
    "splits = vhouse_df.randomSplit([0.7, 0.3])\n",
    "train_df = splits[0]\n",
    "test_df = splits[1]\n",
    "\n",
    "lr = LinearRegression(featuresCol = 'features', labelCol='NEWCBC_OF', maxIter=13, regParam=0.3, elasticNetParam=0.8)\n",
    "lr_model = lr.fit(train_df)\n",
    "print(\"Coefficients: \" + str(lr_model.coefficients))\n",
    "print(\"Intercept: \" + str(lr_model.intercept))"
   ]
  },
  {
   "cell_type": "code",
   "execution_count": 61,
   "metadata": {},
   "outputs": [
    {
     "name": "stdout",
     "output_type": "stream",
     "text": [
      "RMSE: 60.368103\n",
      "r2: 0.619074\n"
     ]
    }
   ],
   "source": [
    "#risulta un buon coefficiente R^2 del modello sul training\n",
    "trainingSummary = lr_model.summary\n",
    "print(\"RMSE: %f\" % trainingSummary.rootMeanSquaredError)\n",
    "print(\"r2: %f\" % trainingSummary.r2)"
   ]
  },
  {
   "cell_type": "code",
   "execution_count": 62,
   "metadata": {},
   "outputs": [
    {
     "name": "stdout",
     "output_type": "stream",
     "text": [
      "+------------------+---------+--------------------+\n",
      "|        prediction|NEWCBC_OF|            features|\n",
      "+------------------+---------+--------------------+\n",
      "| 192.7034294253531|      220|(12,[1,4,5,6,11],...|\n",
      "|178.50237302842646|      159|(12,[1,4,5,6,11],...|\n",
      "|228.14406283193836|      293|(12,[1,4,5,6,11],...|\n",
      "|225.24738387438845|      220|(12,[1,4,5,6,11],...|\n",
      "|224.28182422187183|      172|(12,[1,4,5,6,11],...|\n",
      "+------------------+---------+--------------------+\n",
      "only showing top 5 rows\n",
      "\n",
      "R Squared (R2) on test data = 0.626053\n"
     ]
    }
   ],
   "source": [
    "#l'R^2 sul test dimostra che il modello è in grado di fittare bene anche i dati di test\n",
    "lr_predictions = lr_model.transform(test_df)\n",
    "lr_predictions.select(\"prediction\",\"NEWCBC_OF\",\"features\").show(5)\n",
    "from pyspark.ml.evaluation import RegressionEvaluator\n",
    "lr_evaluator = RegressionEvaluator(predictionCol=\"prediction\", \\\n",
    "                 labelCol=\"NEWCBC_OF\",metricName=\"r2\")\n",
    "print(\"R Squared (R2) on test data = %g\" % lr_evaluator.evaluate(lr_predictions))"
   ]
  },
  {
   "cell_type": "code",
   "execution_count": 63,
   "metadata": {},
   "outputs": [
    {
     "name": "stdout",
     "output_type": "stream",
     "text": [
      "Root Mean Squared Error (RMSE) on test data = 67.7321\n"
     ]
    }
   ],
   "source": [
    "#il RMSE risulta molto simile a quello dei dati di train\n",
    "test_result = lr_model.evaluate(test_df)\n",
    "print(\"Root Mean Squared Error (RMSE) on test data = %g\" % test_result.rootMeanSquaredError)"
   ]
  },
  {
   "cell_type": "code",
   "execution_count": 64,
   "metadata": {},
   "outputs": [],
   "source": [
    "#per verificare la bontà delle predizioni rispetto alla variabile temporale si prende in considerazione il set di input solo rispetto alla variabile MODEL_TIME"
   ]
  },
  {
   "cell_type": "code",
   "execution_count": 65,
   "metadata": {},
   "outputs": [
    {
     "name": "stdout",
     "output_type": "stream",
     "text": [
      "Coefficients: [-0.5267512138787451,0.0,0.2250140804982706,0.002309798603077821,0.0,-1.0748354062690526,0.0,0.1192900058129144,0.01803706363571154,0.0]\n",
      "Intercept: 0.07536419881856342\n"
     ]
    }
   ],
   "source": [
    "indexer = StringIndexer(inputCol=\"F1\", outputCol=\"F1_idx\")\n",
    "indexed = indexer.fit(reg_mod).transform(reg_mod)\n",
    "indexer = StringIndexer(inputCol=\"F4\", outputCol=\"F4_idx\")\n",
    "indexed = indexer.fit(indexed).transform(indexed)\n",
    "\n",
    "encoder = OneHotEncoder(inputCols=['F1_idx','F4_idx'], outputCols=[\"F1_category\", \"F4_category\"])\n",
    "new_df=encoder.fit(indexed).transform(indexed)\n",
    "\n",
    "vectorAssembler = VectorAssembler(inputCols = ['F1_category','F2','F3','F4_category','Rep'], outputCol = 'features')\n",
    "vhouse_df = vectorAssembler.transform(new_df)\n",
    "vhouse_df = vhouse_df.select(['features', 'MODEL_TIME'])\n",
    "\n",
    "splits = vhouse_df.randomSplit([0.7, 0.3])\n",
    "train_df = splits[0]\n",
    "test_df = splits[1]\n",
    "\n",
    "lr = LinearRegression(featuresCol = 'features', labelCol='MODEL_TIME', maxIter=13, regParam=0.3, elasticNetParam=0.8)\n",
    "lr_model = lr.fit(train_df)\n",
    "print(\"Coefficients: \" + str(lr_model.coefficients))\n",
    "print(\"Intercept: \" + str(lr_model.intercept))"
   ]
  },
  {
   "cell_type": "code",
   "execution_count": 66,
   "metadata": {},
   "outputs": [
    {
     "name": "stdout",
     "output_type": "stream",
     "text": [
      "RMSE: 1.276424\n",
      "r2: 0.353440\n"
     ]
    }
   ],
   "source": [
    "trainingSummary = lr_model.summary\n",
    "print(\"RMSE: %f\" % trainingSummary.rootMeanSquaredError)\n",
    "print(\"r2: %f\" % trainingSummary.r2)"
   ]
  },
  {
   "cell_type": "code",
   "execution_count": 67,
   "metadata": {},
   "outputs": [
    {
     "name": "stdout",
     "output_type": "stream",
     "text": [
      "+------------------+------------------+--------------------+\n",
      "|        prediction|        MODEL_TIME|            features|\n",
      "+------------------+------------------+--------------------+\n",
      "|1.0537821525994253|1.0922588146959344|(10,[0,3,4,7,9],[...|\n",
      "|0.6114220348944739|-0.994252273343867|(10,[2,3,4,5,9],[...|\n",
      "| 0.822802292291643|0.9162907318741551|(10,[0,3,4,7,9],[...|\n",
      "|1.3495535061703883|1.8298577578267134|(10,[1,3,4,7,9],[...|\n",
      "|1.2483005639931852| 2.403696594362457|(10,[1,3,4,8,9],[...|\n",
      "+------------------+------------------+--------------------+\n",
      "only showing top 5 rows\n",
      "\n",
      "R Squared (R2) on test data = 0.373282\n"
     ]
    }
   ],
   "source": [
    "#se pur basso, l'R^2 sul test è molto simile a quello di train, ad indicare che il modello predice secondo le aspettative anche se il modello non è da considerarsi un buon modello\n",
    "lr_predictions = lr_model.transform(test_df)\n",
    "lr_predictions.select(\"prediction\",\"MODEL_TIME\",\"features\").show(5)\n",
    "from pyspark.ml.evaluation import RegressionEvaluator\n",
    "lr_evaluator = RegressionEvaluator(predictionCol=\"prediction\", \\\n",
    "                 labelCol=\"MODEL_TIME\",metricName=\"r2\")\n",
    "print(\"R Squared (R2) on test data = %g\" % lr_evaluator.evaluate(lr_predictions))"
   ]
  },
  {
   "cell_type": "code",
   "execution_count": 68,
   "metadata": {},
   "outputs": [
    {
     "name": "stdout",
     "output_type": "stream",
     "text": [
      "Root Mean Squared Error (RMSE) on test data = 1.20039\n"
     ]
    }
   ],
   "source": [
    "#anche in questo caso il RMSE del test è molto simile a quello di train\n",
    "test_result = lr_model.evaluate(test_df)\n",
    "print(\"Root Mean Squared Error (RMSE) on test data = %g\" % test_result.rootMeanSquaredError)"
   ]
  },
  {
   "cell_type": "code",
   "execution_count": null,
   "metadata": {},
   "outputs": [],
   "source": []
  }
 ],
 "metadata": {
  "kernelspec": {
   "display_name": "Python 3",
   "language": "python",
   "name": "python3"
  },
  "language_info": {
   "codemirror_mode": {
    "name": "ipython",
    "version": 3
   },
   "file_extension": ".py",
   "mimetype": "text/x-python",
   "name": "python",
   "nbconvert_exporter": "python",
   "pygments_lexer": "ipython3",
   "version": "3.7.6"
  }
 },
 "nbformat": 4,
 "nbformat_minor": 4
}
