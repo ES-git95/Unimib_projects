{
 "cells": [
  {
   "cell_type": "markdown",
   "metadata": {},
   "source": [
    "#### Valutazione Grafo"
   ]
  },
  {
   "cell_type": "code",
   "execution_count": 1,
   "metadata": {},
   "outputs": [],
   "source": [
    "import pandas as pd \n",
    "from sklearn.metrics import confusion_matrix\n",
    "import matplotlib.pyplot as plt\n",
    "import numpy as np\n",
    "from sklearn import metrics\n",
    "import networkx as nx\n",
    "import scipy.stats as stats\n",
    "import seaborn as sns\n",
    "import matplotlib.pyplot as plt\n",
    "import statistics"
   ]
  },
  {
   "cell_type": "code",
   "execution_count": 2,
   "metadata": {},
   "outputs": [],
   "source": [
    "nodes=pd.read_csv('nodes_definitivo.csv')\n",
    "edges=pd.read_csv('Edges_df6.csv')"
   ]
  },
  {
   "cell_type": "markdown",
   "metadata": {},
   "source": [
    "Creazione grafo Giant Component"
   ]
  },
  {
   "cell_type": "code",
   "execution_count": 3,
   "metadata": {},
   "outputs": [],
   "source": [
    "#ricreiamo la rete per il solo giant component\n",
    "g_nx=nx.from_pandas_edgelist(edges,source='Source',target='Target')\n",
    "component_subgraph_list = list(nx.connected_components(g_nx))\n",
    "largest_component = list(max(component_subgraph_list,key=len))\n",
    "nodes_list=list(nodes.Id)\n",
    "new_edges=edges[(edges['Source'].isin(largest_component)) & (edges['Target'].isin(largest_component))]"
   ]
  },
  {
   "cell_type": "code",
   "execution_count": 4,
   "metadata": {},
   "outputs": [],
   "source": [
    "#creazione grafo in networkx della Giant Component\n",
    "G_directed=nx.from_pandas_edgelist(new_edges,source='Source',target='Target',create_using=nx.DiGraph())\n",
    "G_nx=nx.from_pandas_edgelist(new_edges,source='Source',target='Target')"
   ]
  },
  {
   "cell_type": "code",
   "execution_count": 22,
   "metadata": {},
   "outputs": [
    {
     "data": {
      "text/plain": [
       "hashtags\n",
       "#NoGreenPass        1545\n",
       "#vaccinatevi        1205\n",
       "@CasaPoundItalia     297\n",
       "@EnricoLetta         975\n",
       "@matteosalvinimi    1168\n",
       "Name: gruppo, dtype: int64"
      ]
     },
     "execution_count": 22,
     "metadata": {},
     "output_type": "execute_result"
    }
   ],
   "source": [
    "#numerosità del grafo completo e giant component\n",
    "nodes.groupby(\"hashtags\")[\"gruppo\"].count()\n",
    "nodes[nodes[\"Giant_Component\"]==1].groupby(\"hashtags\")[\"gruppo\"].count()"
   ]
  },
  {
   "cell_type": "markdown",
   "metadata": {},
   "source": [
    "##### Assortativity"
   ]
  },
  {
   "cell_type": "code",
   "execution_count": null,
   "metadata": {},
   "outputs": [
    {
     "data": {
      "text/plain": [
       "-0.20792062392886407"
      ]
     },
     "metadata": {},
     "output_type": "display_data"
    }
   ],
   "source": [
    "#Assortativity per la sola giant component\n",
    "nx.degree_pearson_correlation_coefficient(G_directed)"
   ]
  },
  {
   "cell_type": "markdown",
   "metadata": {},
   "source": [
    "##### Altri indici"
   ]
  },
  {
   "cell_type": "code",
   "execution_count": 24,
   "metadata": {},
   "outputs": [
    {
     "name": "stdout",
     "output_type": "stream",
     "text": [
      "1\n"
     ]
    }
   ],
   "source": [
    "#Structural cohesion:\n",
    "# Connectivity measures the minimum number of elements (vertices or edges) that must be removed to \n",
    "# disconnect the graph\n",
    "# edge connectivity\n",
    "print(nx.edge_connectivity(G_nx))\n",
    "#print(nx.edge_connectivity(G_directed))"
   ]
  },
  {
   "cell_type": "code",
   "execution_count": 13,
   "metadata": {},
   "outputs": [
    {
     "name": "stdout",
     "output_type": "stream",
     "text": [
      "1\n"
     ]
    }
   ],
   "source": [
    "#node connectivity\n",
    "print(nx.node_connectivity(G_nx))\n",
    "#print(nx.node_connectivity(G_directed))"
   ]
  },
  {
   "cell_type": "code",
   "execution_count": 25,
   "metadata": {},
   "outputs": [
    {
     "name": "stdout",
     "output_type": "stream",
     "text": [
      "0.000270692672471892\n"
     ]
    }
   ],
   "source": [
    "#density\n",
    "#The density of a graph is a measure of how many ties between actors exist compared to how many \n",
    "#ties between actors are possible. A dense graph is a graph in which the number of edges is close \n",
    "#to the maximal number of edges. \n",
    "#NB: The density is 0 for a graph without edges and 1 for a complete graph\n",
    "\n",
    "#print(nx.density(G_nx))\n",
    "print(nx.density(G_directed))\n",
    "#il nostro grafo è sparso"
   ]
  },
  {
   "cell_type": "code",
   "execution_count": null,
   "metadata": {},
   "outputs": [],
   "source": [
    "#print(nx.eccentricity(g_nx)) grafo non connesso, non si può calcolare l'eccentricity\n",
    "# It is defined as the maximum distance of one vertex from other vertex. The maximum distance \n",
    "# between a vertex to all other vertices is considered as the eccentricity of the vertex.\n",
    "eccentricity=nx.eccentricity(G_nx)"
   ]
  },
  {
   "cell_type": "code",
   "execution_count": null,
   "metadata": {},
   "outputs": [
    {
     "data": {
      "text/plain": [
       "7"
      ]
     },
     "metadata": {},
     "output_type": "display_data"
    }
   ],
   "source": [
    "#The radius of G is the value of the smallest eccentricity.\n",
    "nx.radius(G_nx)\n",
    "#min(eccentricity.values())"
   ]
  },
  {
   "cell_type": "code",
   "execution_count": null,
   "metadata": {},
   "outputs": [
    {
     "data": {
      "text/plain": [
       "14"
      ]
     },
     "metadata": {},
     "output_type": "display_data"
    }
   ],
   "source": [
    "#The diameter of G is the value of the greatest eccentricity.\n",
    "nx.diameter(G_nx)\n",
    "#max(eccentricity.values())"
   ]
  },
  {
   "cell_type": "code",
   "execution_count": null,
   "metadata": {},
   "outputs": [
    {
     "data": {
      "text/plain": [
       "0.0035665294924554186"
      ]
     },
     "metadata": {},
     "output_type": "display_data"
    }
   ],
   "source": [
    "#reciprocity is a measure of the likelihood of vertices in a directed network to be mutually \n",
    "# linked\n",
    "overall_reciprocity=nx.overall_reciprocity(G_directed)\n",
    "overall_reciprocity\n",
    "\n",
    "# 0 -> non ci sono scambi di retweet?"
   ]
  },
  {
   "cell_type": "markdown",
   "metadata": {},
   "source": [
    "##### Degree Analysis (HUBS & Spamm Users)"
   ]
  },
  {
   "cell_type": "code",
   "execution_count": null,
   "metadata": {},
   "outputs": [],
   "source": [
    "#DEGREE\n",
    "#Degree is a simple centrality measure that counts how many neighbors a node has. \n",
    "# If the network is directed, we have two versions of the measure: \n",
    "# in-degree is the number of in-coming links, or the number of predecessor nodes; \n",
    "# out-degree is the number of out-going links, or the number of successor nodes."
   ]
  },
  {
   "cell_type": "markdown",
   "metadata": {},
   "source": [
    "Spam Users"
   ]
  },
  {
   "cell_type": "code",
   "execution_count": 26,
   "metadata": {},
   "outputs": [
    {
     "data": {
      "text/html": [
       "<div>\n",
       "<style scoped>\n",
       "    .dataframe tbody tr th:only-of-type {\n",
       "        vertical-align: middle;\n",
       "    }\n",
       "\n",
       "    .dataframe tbody tr th {\n",
       "        vertical-align: top;\n",
       "    }\n",
       "\n",
       "    .dataframe thead th {\n",
       "        text-align: right;\n",
       "    }\n",
       "</style>\n",
       "<table border=\"1\" class=\"dataframe\">\n",
       "  <thead>\n",
       "    <tr style=\"text-align: right;\">\n",
       "      <th></th>\n",
       "      <th>id_utente</th>\n",
       "      <th>rt_fatti</th>\n",
       "      <th>Label</th>\n",
       "      <th>hashtags</th>\n",
       "      <th>Giant_Component</th>\n",
       "    </tr>\n",
       "  </thead>\n",
       "  <tbody>\n",
       "    <tr>\n",
       "      <th>0</th>\n",
       "      <td>366660837</td>\n",
       "      <td>38</td>\n",
       "      <td>_fiorucci</td>\n",
       "      <td>@matteosalvinimi</td>\n",
       "      <td>1</td>\n",
       "    </tr>\n",
       "    <tr>\n",
       "      <th>1</th>\n",
       "      <td>810235254870937600</td>\n",
       "      <td>32</td>\n",
       "      <td>ferillo2</td>\n",
       "      <td>@matteosalvinimi</td>\n",
       "      <td>1</td>\n",
       "    </tr>\n",
       "    <tr>\n",
       "      <th>2</th>\n",
       "      <td>1174780873075544069</td>\n",
       "      <td>26</td>\n",
       "      <td>rosaroccaforte</td>\n",
       "      <td>@matteosalvinimi</td>\n",
       "      <td>1</td>\n",
       "    </tr>\n",
       "    <tr>\n",
       "      <th>3</th>\n",
       "      <td>1042691054</td>\n",
       "      <td>26</td>\n",
       "      <td>MastroRadu</td>\n",
       "      <td>@matteosalvinimi</td>\n",
       "      <td>1</td>\n",
       "    </tr>\n",
       "    <tr>\n",
       "      <th>4</th>\n",
       "      <td>2535751839</td>\n",
       "      <td>24</td>\n",
       "      <td>MarySpes</td>\n",
       "      <td>@matteosalvinimi</td>\n",
       "      <td>1</td>\n",
       "    </tr>\n",
       "    <tr>\n",
       "      <th>5</th>\n",
       "      <td>358626243</td>\n",
       "      <td>24</td>\n",
       "      <td>robymark1</td>\n",
       "      <td>@matteosalvinimi</td>\n",
       "      <td>1</td>\n",
       "    </tr>\n",
       "    <tr>\n",
       "      <th>6</th>\n",
       "      <td>1382258084567998469</td>\n",
       "      <td>20</td>\n",
       "      <td>Olindo35055898</td>\n",
       "      <td>@CasaPoundItalia</td>\n",
       "      <td>1</td>\n",
       "    </tr>\n",
       "    <tr>\n",
       "      <th>7</th>\n",
       "      <td>354778269</td>\n",
       "      <td>19</td>\n",
       "      <td>katakhon</td>\n",
       "      <td>@matteosalvinimi</td>\n",
       "      <td>1</td>\n",
       "    </tr>\n",
       "    <tr>\n",
       "      <th>8</th>\n",
       "      <td>1310209976</td>\n",
       "      <td>17</td>\n",
       "      <td>Ecatetriformis</td>\n",
       "      <td>@EnricoLetta</td>\n",
       "      <td>1</td>\n",
       "    </tr>\n",
       "    <tr>\n",
       "      <th>9</th>\n",
       "      <td>1409830264977645570</td>\n",
       "      <td>14</td>\n",
       "      <td>Luckyma89652325</td>\n",
       "      <td>@matteosalvinimi</td>\n",
       "      <td>1</td>\n",
       "    </tr>\n",
       "    <tr>\n",
       "      <th>10</th>\n",
       "      <td>1451569038048518144</td>\n",
       "      <td>14</td>\n",
       "      <td>Daniela00973472</td>\n",
       "      <td>@matteosalvinimi</td>\n",
       "      <td>1</td>\n",
       "    </tr>\n",
       "    <tr>\n",
       "      <th>11</th>\n",
       "      <td>1468933392326610954</td>\n",
       "      <td>13</td>\n",
       "      <td>Laura45770337</td>\n",
       "      <td>@matteosalvinimi</td>\n",
       "      <td>1</td>\n",
       "    </tr>\n",
       "    <tr>\n",
       "      <th>12</th>\n",
       "      <td>1315234951927869441</td>\n",
       "      <td>13</td>\n",
       "      <td>Esterin62237731</td>\n",
       "      <td>@matteosalvinimi</td>\n",
       "      <td>1</td>\n",
       "    </tr>\n",
       "    <tr>\n",
       "      <th>13</th>\n",
       "      <td>1448170445212164096</td>\n",
       "      <td>13</td>\n",
       "      <td>Amarant91507041</td>\n",
       "      <td>@matteosalvinimi</td>\n",
       "      <td>1</td>\n",
       "    </tr>\n",
       "    <tr>\n",
       "      <th>14</th>\n",
       "      <td>2360365059</td>\n",
       "      <td>12</td>\n",
       "      <td>v3rd3acqua</td>\n",
       "      <td>@matteosalvinimi</td>\n",
       "      <td>1</td>\n",
       "    </tr>\n",
       "    <tr>\n",
       "      <th>15</th>\n",
       "      <td>1111179646538842112</td>\n",
       "      <td>12</td>\n",
       "      <td>marialetiziama9</td>\n",
       "      <td>@matteosalvinimi</td>\n",
       "      <td>1</td>\n",
       "    </tr>\n",
       "    <tr>\n",
       "      <th>16</th>\n",
       "      <td>71593119</td>\n",
       "      <td>12</td>\n",
       "      <td>DossierTibet</td>\n",
       "      <td>#NoGreenPass</td>\n",
       "      <td>1</td>\n",
       "    </tr>\n",
       "    <tr>\n",
       "      <th>17</th>\n",
       "      <td>1471060933778849795</td>\n",
       "      <td>12</td>\n",
       "      <td>JeanMartin72</td>\n",
       "      <td>@matteosalvinimi</td>\n",
       "      <td>1</td>\n",
       "    </tr>\n",
       "    <tr>\n",
       "      <th>18</th>\n",
       "      <td>1446922910308917248</td>\n",
       "      <td>12</td>\n",
       "      <td>Maipi02646817</td>\n",
       "      <td>@matteosalvinimi</td>\n",
       "      <td>1</td>\n",
       "    </tr>\n",
       "    <tr>\n",
       "      <th>19</th>\n",
       "      <td>546654601</td>\n",
       "      <td>12</td>\n",
       "      <td>mariolinocalcin</td>\n",
       "      <td>@matteosalvinimi</td>\n",
       "      <td>1</td>\n",
       "    </tr>\n",
       "  </tbody>\n",
       "</table>\n",
       "</div>"
      ],
      "text/plain": [
       "              id_utente  rt_fatti            Label          hashtags  \\\n",
       "0             366660837        38        _fiorucci  @matteosalvinimi   \n",
       "1    810235254870937600        32         ferillo2  @matteosalvinimi   \n",
       "2   1174780873075544069        26   rosaroccaforte  @matteosalvinimi   \n",
       "3            1042691054        26       MastroRadu  @matteosalvinimi   \n",
       "4            2535751839        24         MarySpes  @matteosalvinimi   \n",
       "5             358626243        24        robymark1  @matteosalvinimi   \n",
       "6   1382258084567998469        20   Olindo35055898  @CasaPoundItalia   \n",
       "7             354778269        19         katakhon  @matteosalvinimi   \n",
       "8            1310209976        17   Ecatetriformis      @EnricoLetta   \n",
       "9   1409830264977645570        14  Luckyma89652325  @matteosalvinimi   \n",
       "10  1451569038048518144        14  Daniela00973472  @matteosalvinimi   \n",
       "11  1468933392326610954        13    Laura45770337  @matteosalvinimi   \n",
       "12  1315234951927869441        13  Esterin62237731  @matteosalvinimi   \n",
       "13  1448170445212164096        13  Amarant91507041  @matteosalvinimi   \n",
       "14           2360365059        12       v3rd3acqua  @matteosalvinimi   \n",
       "15  1111179646538842112        12  marialetiziama9  @matteosalvinimi   \n",
       "16             71593119        12     DossierTibet      #NoGreenPass   \n",
       "17  1471060933778849795        12     JeanMartin72  @matteosalvinimi   \n",
       "18  1446922910308917248        12    Maipi02646817  @matteosalvinimi   \n",
       "19            546654601        12  mariolinocalcin  @matteosalvinimi   \n",
       "\n",
       "    Giant_Component  \n",
       "0                 1  \n",
       "1                 1  \n",
       "2                 1  \n",
       "3                 1  \n",
       "4                 1  \n",
       "5                 1  \n",
       "6                 1  \n",
       "7                 1  \n",
       "8                 1  \n",
       "9                 1  \n",
       "10                1  \n",
       "11                1  \n",
       "12                1  \n",
       "13                1  \n",
       "14                1  \n",
       "15                1  \n",
       "16                1  \n",
       "17                1  \n",
       "18                1  \n",
       "19                1  "
      ]
     },
     "execution_count": 26,
     "metadata": {},
     "output_type": "execute_result"
    }
   ],
   "source": [
    "out_degrees=dict(G_directed.out_degree())\n",
    "out_degrees_sort=dict(sorted(out_degrees.items(), key=lambda item: item[1], reverse= True))\n",
    "twitters=pd.DataFrame(list(out_degrees_sort.items()),columns=(\"id_utente\",\"rt_fatti\"))\n",
    "twitters=pd.merge(twitters,nodes[[\"Id\",\"Label\",\"hashtags\",\"Giant_Component\"]],left_on=\"id_utente\",right_on=\"Id\",how=\"left\")\n",
    "twitters.drop(\"Id\",axis=1,inplace=True)\n",
    "twitters.head(20)\n",
    "#possiamo notare che gli utenti più attivi siano quasi tutti appartenenti all'hashtag @matteosalvinimi"
   ]
  },
  {
   "cell_type": "code",
   "execution_count": 27,
   "metadata": {},
   "outputs": [],
   "source": [
    "#twitters.to_csv(\"twitters.csv\",index=False)"
   ]
  },
  {
   "cell_type": "code",
   "execution_count": null,
   "metadata": {},
   "outputs": [
    {
     "data": {
      "text/plain": [
       "0.9780346820809248"
      ]
     },
     "metadata": {},
     "output_type": "display_data"
    }
   ],
   "source": [
    "#percentuale di utenti che hanno effettuato retweet<=5\n",
    "twitters[twitters[\"rt_fatti\"]<=5][\"rt_fatti\"].count()/len(twitters)"
   ]
  },
  {
   "cell_type": "code",
   "execution_count": null,
   "metadata": {},
   "outputs": [
    {
     "data": {
      "text/plain": [
       "hashtags\n",
       "#NoGreenPass        0.303191\n",
       "#vaccinatevi        0.237392\n",
       "@CasaPoundItalia    0.057920\n",
       "@EnricoLetta        0.187746\n",
       "@matteosalvinimi    0.213751\n",
       "Name: rt_fatti, dtype: float64"
      ]
     },
     "metadata": {},
     "output_type": "display_data"
    }
   ],
   "source": [
    "#percentuale di appartenenza degli utenti che hanno effettuato ritweet <=5\n",
    "twitters[twitters[\"rt_fatti\"]<=5].groupby(\"hashtags\")[\"rt_fatti\"].count()/twitters[twitters[\"rt_fatti\"]<=5][\"rt_fatti\"].count()"
   ]
  },
  {
   "cell_type": "code",
   "execution_count": 28,
   "metadata": {},
   "outputs": [
    {
     "data": {
      "image/png": "[encoded data removed]",
      "text/plain": [
       "<Figure size 432x216 with 1 Axes>"
      ]
     },
     "metadata": {
      "needs_background": "light"
     },
     "output_type": "display_data"
    }
   ],
   "source": [
    "bins=np.arange(0, 40, 5)\n",
    "g = sns.FacetGrid(twitters[twitters[\"rt_fatti\"]>5], col=\"Giant_Component\", hue=\"hashtags\", palette=\"Set1\", col_wrap=2)\n",
    "g.map(plt.hist, 'rt_fatti', bins=bins, ec=\"k\")\n",
    "plt.xlabel(\"Ritweet fatti\")\n",
    "g.axes[-1].legend()\n",
    "plt.xticks(np.arange(0, 40, 5))\n",
    "\n",
    "plt.show()"
   ]
  },
  {
   "cell_type": "code",
   "execution_count": 31,
   "metadata": {},
   "outputs": [
    {
     "data": {
      "text/html": [
       "<div>\n",
       "<style scoped>\n",
       "    .dataframe tbody tr th:only-of-type {\n",
       "        vertical-align: middle;\n",
       "    }\n",
       "\n",
       "    .dataframe tbody tr th {\n",
       "        vertical-align: top;\n",
       "    }\n",
       "\n",
       "    .dataframe thead th {\n",
       "        text-align: right;\n",
       "    }\n",
       "</style>\n",
       "<table border=\"1\" class=\"dataframe\">\n",
       "  <thead>\n",
       "    <tr style=\"text-align: right;\">\n",
       "      <th></th>\n",
       "      <th>id_utente</th>\n",
       "      <th>rt_fatti</th>\n",
       "      <th>Label</th>\n",
       "      <th>hashtags</th>\n",
       "      <th>Giant_Component</th>\n",
       "    </tr>\n",
       "  </thead>\n",
       "  <tbody>\n",
       "    <tr>\n",
       "      <th>0</th>\n",
       "      <td>366660837</td>\n",
       "      <td>38</td>\n",
       "      <td>_fiorucci</td>\n",
       "      <td>@matteosalvinimi</td>\n",
       "      <td>1</td>\n",
       "    </tr>\n",
       "    <tr>\n",
       "      <th>1</th>\n",
       "      <td>810235254870937600</td>\n",
       "      <td>32</td>\n",
       "      <td>ferillo2</td>\n",
       "      <td>@matteosalvinimi</td>\n",
       "      <td>1</td>\n",
       "    </tr>\n",
       "    <tr>\n",
       "      <th>2</th>\n",
       "      <td>1174780873075544069</td>\n",
       "      <td>26</td>\n",
       "      <td>rosaroccaforte</td>\n",
       "      <td>@matteosalvinimi</td>\n",
       "      <td>1</td>\n",
       "    </tr>\n",
       "    <tr>\n",
       "      <th>3</th>\n",
       "      <td>1042691054</td>\n",
       "      <td>26</td>\n",
       "      <td>MastroRadu</td>\n",
       "      <td>@matteosalvinimi</td>\n",
       "      <td>1</td>\n",
       "    </tr>\n",
       "    <tr>\n",
       "      <th>4</th>\n",
       "      <td>2535751839</td>\n",
       "      <td>24</td>\n",
       "      <td>MarySpes</td>\n",
       "      <td>@matteosalvinimi</td>\n",
       "      <td>1</td>\n",
       "    </tr>\n",
       "    <tr>\n",
       "      <th>5</th>\n",
       "      <td>358626243</td>\n",
       "      <td>24</td>\n",
       "      <td>robymark1</td>\n",
       "      <td>@matteosalvinimi</td>\n",
       "      <td>1</td>\n",
       "    </tr>\n",
       "    <tr>\n",
       "      <th>6</th>\n",
       "      <td>1382258084567998469</td>\n",
       "      <td>20</td>\n",
       "      <td>Olindo35055898</td>\n",
       "      <td>@CasaPoundItalia</td>\n",
       "      <td>1</td>\n",
       "    </tr>\n",
       "    <tr>\n",
       "      <th>7</th>\n",
       "      <td>354778269</td>\n",
       "      <td>19</td>\n",
       "      <td>katakhon</td>\n",
       "      <td>@matteosalvinimi</td>\n",
       "      <td>1</td>\n",
       "    </tr>\n",
       "    <tr>\n",
       "      <th>8</th>\n",
       "      <td>1310209976</td>\n",
       "      <td>17</td>\n",
       "      <td>Ecatetriformis</td>\n",
       "      <td>@EnricoLetta</td>\n",
       "      <td>1</td>\n",
       "    </tr>\n",
       "    <tr>\n",
       "      <th>9</th>\n",
       "      <td>1409830264977645570</td>\n",
       "      <td>14</td>\n",
       "      <td>Luckyma89652325</td>\n",
       "      <td>@matteosalvinimi</td>\n",
       "      <td>1</td>\n",
       "    </tr>\n",
       "    <tr>\n",
       "      <th>10</th>\n",
       "      <td>1451569038048518144</td>\n",
       "      <td>14</td>\n",
       "      <td>Daniela00973472</td>\n",
       "      <td>@matteosalvinimi</td>\n",
       "      <td>1</td>\n",
       "    </tr>\n",
       "    <tr>\n",
       "      <th>11</th>\n",
       "      <td>1468933392326610954</td>\n",
       "      <td>13</td>\n",
       "      <td>Laura45770337</td>\n",
       "      <td>@matteosalvinimi</td>\n",
       "      <td>1</td>\n",
       "    </tr>\n",
       "    <tr>\n",
       "      <th>12</th>\n",
       "      <td>1315234951927869441</td>\n",
       "      <td>13</td>\n",
       "      <td>Esterin62237731</td>\n",
       "      <td>@matteosalvinimi</td>\n",
       "      <td>1</td>\n",
       "    </tr>\n",
       "    <tr>\n",
       "      <th>13</th>\n",
       "      <td>1448170445212164096</td>\n",
       "      <td>13</td>\n",
       "      <td>Amarant91507041</td>\n",
       "      <td>@matteosalvinimi</td>\n",
       "      <td>1</td>\n",
       "    </tr>\n",
       "    <tr>\n",
       "      <th>14</th>\n",
       "      <td>2360365059</td>\n",
       "      <td>12</td>\n",
       "      <td>v3rd3acqua</td>\n",
       "      <td>@matteosalvinimi</td>\n",
       "      <td>1</td>\n",
       "    </tr>\n",
       "    <tr>\n",
       "      <th>15</th>\n",
       "      <td>1111179646538842112</td>\n",
       "      <td>12</td>\n",
       "      <td>marialetiziama9</td>\n",
       "      <td>@matteosalvinimi</td>\n",
       "      <td>1</td>\n",
       "    </tr>\n",
       "    <tr>\n",
       "      <th>16</th>\n",
       "      <td>71593119</td>\n",
       "      <td>12</td>\n",
       "      <td>DossierTibet</td>\n",
       "      <td>#NoGreenPass</td>\n",
       "      <td>1</td>\n",
       "    </tr>\n",
       "    <tr>\n",
       "      <th>17</th>\n",
       "      <td>1471060933778849795</td>\n",
       "      <td>12</td>\n",
       "      <td>JeanMartin72</td>\n",
       "      <td>@matteosalvinimi</td>\n",
       "      <td>1</td>\n",
       "    </tr>\n",
       "    <tr>\n",
       "      <th>18</th>\n",
       "      <td>1446922910308917248</td>\n",
       "      <td>12</td>\n",
       "      <td>Maipi02646817</td>\n",
       "      <td>@matteosalvinimi</td>\n",
       "      <td>1</td>\n",
       "    </tr>\n",
       "    <tr>\n",
       "      <th>19</th>\n",
       "      <td>546654601</td>\n",
       "      <td>12</td>\n",
       "      <td>mariolinocalcin</td>\n",
       "      <td>@matteosalvinimi</td>\n",
       "      <td>1</td>\n",
       "    </tr>\n",
       "    <tr>\n",
       "      <th>20</th>\n",
       "      <td>209249028</td>\n",
       "      <td>11</td>\n",
       "      <td>SF_RL_Featuring</td>\n",
       "      <td>@matteosalvinimi</td>\n",
       "      <td>1</td>\n",
       "    </tr>\n",
       "    <tr>\n",
       "      <th>21</th>\n",
       "      <td>1036611673</td>\n",
       "      <td>11</td>\n",
       "      <td>GiancarloChimie</td>\n",
       "      <td>@matteosalvinimi</td>\n",
       "      <td>1</td>\n",
       "    </tr>\n",
       "    <tr>\n",
       "      <th>22</th>\n",
       "      <td>1302616789348691968</td>\n",
       "      <td>11</td>\n",
       "      <td>OrtigiaP</td>\n",
       "      <td>@matteosalvinimi</td>\n",
       "      <td>1</td>\n",
       "    </tr>\n",
       "    <tr>\n",
       "      <th>23</th>\n",
       "      <td>4192961459</td>\n",
       "      <td>11</td>\n",
       "      <td>Net2Ayurveda</td>\n",
       "      <td>#NoGreenPass</td>\n",
       "      <td>1</td>\n",
       "    </tr>\n",
       "    <tr>\n",
       "      <th>24</th>\n",
       "      <td>1055380681</td>\n",
       "      <td>11</td>\n",
       "      <td>jobwithinternet</td>\n",
       "      <td>@matteosalvinimi</td>\n",
       "      <td>1</td>\n",
       "    </tr>\n",
       "    <tr>\n",
       "      <th>25</th>\n",
       "      <td>1223954414807011328</td>\n",
       "      <td>10</td>\n",
       "      <td>Sakurauchi_Hime</td>\n",
       "      <td>#NoGreenPass</td>\n",
       "      <td>1</td>\n",
       "    </tr>\n",
       "    <tr>\n",
       "      <th>26</th>\n",
       "      <td>319322393</td>\n",
       "      <td>10</td>\n",
       "      <td>mimma42</td>\n",
       "      <td>@matteosalvinimi</td>\n",
       "      <td>1</td>\n",
       "    </tr>\n",
       "    <tr>\n",
       "      <th>27</th>\n",
       "      <td>57358236</td>\n",
       "      <td>10</td>\n",
       "      <td>lucabattanta</td>\n",
       "      <td>@matteosalvinimi</td>\n",
       "      <td>1</td>\n",
       "    </tr>\n",
       "    <tr>\n",
       "      <th>28</th>\n",
       "      <td>431793661</td>\n",
       "      <td>10</td>\n",
       "      <td>GiancarloGarci6</td>\n",
       "      <td>@EnricoLetta</td>\n",
       "      <td>1</td>\n",
       "    </tr>\n",
       "    <tr>\n",
       "      <th>29</th>\n",
       "      <td>1077644550</td>\n",
       "      <td>10</td>\n",
       "      <td>annarigel</td>\n",
       "      <td>@matteosalvinimi</td>\n",
       "      <td>1</td>\n",
       "    </tr>\n",
       "  </tbody>\n",
       "</table>\n",
       "</div>"
      ],
      "text/plain": [
       "              id_utente  rt_fatti            Label          hashtags  \\\n",
       "0             366660837        38        _fiorucci  @matteosalvinimi   \n",
       "1    810235254870937600        32         ferillo2  @matteosalvinimi   \n",
       "2   1174780873075544069        26   rosaroccaforte  @matteosalvinimi   \n",
       "3            1042691054        26       MastroRadu  @matteosalvinimi   \n",
       "4            2535751839        24         MarySpes  @matteosalvinimi   \n",
       "5             358626243        24        robymark1  @matteosalvinimi   \n",
       "6   1382258084567998469        20   Olindo35055898  @CasaPoundItalia   \n",
       "7             354778269        19         katakhon  @matteosalvinimi   \n",
       "8            1310209976        17   Ecatetriformis      @EnricoLetta   \n",
       "9   1409830264977645570        14  Luckyma89652325  @matteosalvinimi   \n",
       "10  1451569038048518144        14  Daniela00973472  @matteosalvinimi   \n",
       "11  1468933392326610954        13    Laura45770337  @matteosalvinimi   \n",
       "12  1315234951927869441        13  Esterin62237731  @matteosalvinimi   \n",
       "13  1448170445212164096        13  Amarant91507041  @matteosalvinimi   \n",
       "14           2360365059        12       v3rd3acqua  @matteosalvinimi   \n",
       "15  1111179646538842112        12  marialetiziama9  @matteosalvinimi   \n",
       "16             71593119        12     DossierTibet      #NoGreenPass   \n",
       "17  1471060933778849795        12     JeanMartin72  @matteosalvinimi   \n",
       "18  1446922910308917248        12    Maipi02646817  @matteosalvinimi   \n",
       "19            546654601        12  mariolinocalcin  @matteosalvinimi   \n",
       "20            209249028        11  SF_RL_Featuring  @matteosalvinimi   \n",
       "21           1036611673        11  GiancarloChimie  @matteosalvinimi   \n",
       "22  1302616789348691968        11         OrtigiaP  @matteosalvinimi   \n",
       "23           4192961459        11     Net2Ayurveda      #NoGreenPass   \n",
       "24           1055380681        11  jobwithinternet  @matteosalvinimi   \n",
       "25  1223954414807011328        10  Sakurauchi_Hime      #NoGreenPass   \n",
       "26            319322393        10          mimma42  @matteosalvinimi   \n",
       "27             57358236        10     lucabattanta  @matteosalvinimi   \n",
       "28            431793661        10  GiancarloGarci6      @EnricoLetta   \n",
       "29           1077644550        10        annarigel  @matteosalvinimi   \n",
       "\n",
       "    Giant_Component  \n",
       "0                 1  \n",
       "1                 1  \n",
       "2                 1  \n",
       "3                 1  \n",
       "4                 1  \n",
       "5                 1  \n",
       "6                 1  \n",
       "7                 1  \n",
       "8                 1  \n",
       "9                 1  \n",
       "10                1  \n",
       "11                1  \n",
       "12                1  \n",
       "13                1  \n",
       "14                1  \n",
       "15                1  \n",
       "16                1  \n",
       "17                1  \n",
       "18                1  \n",
       "19                1  \n",
       "20                1  \n",
       "21                1  \n",
       "22                1  \n",
       "23                1  \n",
       "24                1  \n",
       "25                1  \n",
       "26                1  \n",
       "27                1  \n",
       "28                1  \n",
       "29                1  "
      ]
     },
     "execution_count": 31,
     "metadata": {},
     "output_type": "execute_result"
    }
   ],
   "source": [
    "twitters.head(30)"
   ]
  },
  {
   "cell_type": "code",
   "execution_count": 30,
   "metadata": {},
   "outputs": [
    {
     "data": {
      "text/plain": [
       "hashtags\n",
       "#NoGreenPass        0.100000\n",
       "@CasaPoundItalia    0.033333\n",
       "@EnricoLetta        0.066667\n",
       "@matteosalvinimi    0.800000\n",
       "Name: rt_fatti, dtype: float64"
      ]
     },
     "execution_count": 30,
     "metadata": {},
     "output_type": "execute_result"
    }
   ],
   "source": [
    "#percentuale di appartenenza dei top30 utenti più attivi\n",
    "twitters.head(30).groupby(\"hashtags\")[\"rt_fatti\"].count()/twitters.head(30)[\"rt_fatti\"].count()"
   ]
  },
  {
   "cell_type": "code",
   "execution_count": null,
   "metadata": {},
   "outputs": [
    {
     "data": {
      "text/plain": [
       "0.0925"
      ]
     },
     "metadata": {},
     "output_type": "display_data"
    }
   ],
   "source": [
    "#df dei gradi uscenti di ciascun nodo\n",
    "df_gradi_out=pd.DataFrame(out_degrees.items(),columns=[\"nodi\",\"grado\"])\n",
    "round(df_gradi_out[df_gradi_out[\"grado\"]==0][\"grado\"].count()/df_gradi_out[\"grado\"].count(),4)"
   ]
  },
  {
   "cell_type": "markdown",
   "metadata": {},
   "source": [
    "HUBS"
   ]
  },
  {
   "cell_type": "code",
   "execution_count": 14,
   "metadata": {},
   "outputs": [
    {
     "data": {
      "image/png": "[encoded data removed]",
      "text/plain": [
       "<Figure size 800x480 with 1 Axes>"
      ]
     },
     "metadata": {
      "needs_background": "light"
     },
     "output_type": "display_data"
    }
   ],
   "source": [
    "#distribuzione numero del numero dei retweet ricevuti in un range tra 5 e 100\n",
    "def plot_in_degree_dist(G):\n",
    "    bins=np.arange(16,1100,5)  \n",
    "    degrees = sorted([G.in_degree(n) for n in G.nodes()])\n",
    "    plt.hist(degrees, bins, color='green')\n",
    "    plt.ylabel('')\n",
    "    plt.xlabel('retweet ricevuti (range:16-100)')\n",
    "    plt.title('Distribuzione degli utenti per retweet ricevuti')\n",
    "    plt.show()\n",
    "\n",
    "from matplotlib.pyplot import figure\n",
    "figure(figsize=(10, 6), dpi=80)\n",
    "plot_in_degree_dist(G_directed)\n",
    "\n",
    "# da questo plot possiamo farci un idea della distribuzione degli hub \n",
    "# (nodi con un numero di archi entranti anomalo rispetto al resto della rete )"
   ]
  },
  {
   "cell_type": "code",
   "execution_count": 17,
   "metadata": {},
   "outputs": [
    {
     "data": {
      "text/html": [
       "<div>\n",
       "<style scoped>\n",
       "    .dataframe tbody tr th:only-of-type {\n",
       "        vertical-align: middle;\n",
       "    }\n",
       "\n",
       "    .dataframe tbody tr th {\n",
       "        vertical-align: top;\n",
       "    }\n",
       "\n",
       "    .dataframe thead th {\n",
       "        text-align: right;\n",
       "    }\n",
       "</style>\n",
       "<table border=\"1\" class=\"dataframe\">\n",
       "  <thead>\n",
       "    <tr style=\"text-align: right;\">\n",
       "      <th></th>\n",
       "      <th>id_utente</th>\n",
       "      <th>rt_ricevuti</th>\n",
       "      <th>Label</th>\n",
       "      <th>hashtags</th>\n",
       "    </tr>\n",
       "  </thead>\n",
       "  <tbody>\n",
       "    <tr>\n",
       "      <th>0</th>\n",
       "      <td>1364298062919794688</td>\n",
       "      <td>1080</td>\n",
       "      <td>Lorenzo62752880</td>\n",
       "      <td>#NoGreenPass</td>\n",
       "    </tr>\n",
       "    <tr>\n",
       "      <th>1</th>\n",
       "      <td>22038676</td>\n",
       "      <td>579</td>\n",
       "      <td>mariannaaprile</td>\n",
       "      <td>#vaccinatevi</td>\n",
       "    </tr>\n",
       "    <tr>\n",
       "      <th>2</th>\n",
       "      <td>231902290</td>\n",
       "      <td>415</td>\n",
       "      <td>Cartabellotta</td>\n",
       "      <td>#vaccinatevi</td>\n",
       "    </tr>\n",
       "    <tr>\n",
       "      <th>3</th>\n",
       "      <td>270839361</td>\n",
       "      <td>332</td>\n",
       "      <td>matteosalvinimi</td>\n",
       "      <td>@matteosalvinimi</td>\n",
       "    </tr>\n",
       "    <tr>\n",
       "      <th>4</th>\n",
       "      <td>215699843</td>\n",
       "      <td>245</td>\n",
       "      <td>CasaPoundItalia</td>\n",
       "      <td>@CasaPoundItalia</td>\n",
       "    </tr>\n",
       "    <tr>\n",
       "      <th>5</th>\n",
       "      <td>1238800491632607232</td>\n",
       "      <td>207</td>\n",
       "      <td>gianluca826</td>\n",
       "      <td>@matteosalvinimi</td>\n",
       "    </tr>\n",
       "  </tbody>\n",
       "</table>\n",
       "</div>"
      ],
      "text/plain": [
       "             id_utente  rt_ricevuti            Label          hashtags\n",
       "0  1364298062919794688         1080  Lorenzo62752880      #NoGreenPass\n",
       "1             22038676          579   mariannaaprile      #vaccinatevi\n",
       "2            231902290          415    Cartabellotta      #vaccinatevi\n",
       "3            270839361          332  matteosalvinimi  @matteosalvinimi\n",
       "4            215699843          245  CasaPoundItalia  @CasaPoundItalia\n",
       "5  1238800491632607232          207      gianluca826  @matteosalvinimi"
      ]
     },
     "execution_count": 17,
     "metadata": {},
     "output_type": "execute_result"
    }
   ],
   "source": [
    "in_degrees=dict(G_directed.in_degree())\n",
    "in_degrees_sort=dict(sorted(in_degrees.items(), key=lambda item: item[1], reverse= True))\n",
    "HUBS=pd.DataFrame(list(in_degrees_sort.items()),columns=(\"id_utente\",\"rt_ricevuti\"))\n",
    "HUBS=pd.merge(HUBS,nodes[[\"Id\",\"Label\",\"hashtags\"]],left_on=\"id_utente\",right_on=\"Id\",how=\"left\")\n",
    "HUBS.drop(\"Id\",axis=1,inplace=True)\n",
    "HUBS.head(6)"
   ]
  },
  {
   "cell_type": "code",
   "execution_count": null,
   "metadata": {},
   "outputs": [
    {
     "name": "stdout",
     "output_type": "stream",
     "text": [
      "0\n",
      "1080\n"
     ]
    }
   ],
   "source": [
    "print(min(in_degrees_sort.values()))\n",
    "print(max(in_degrees_sort.values()))"
   ]
  },
  {
   "cell_type": "code",
   "execution_count": 7,
   "metadata": {},
   "outputs": [
    {
     "data": {
      "text/plain": [
       "0.8609"
      ]
     },
     "execution_count": 7,
     "metadata": {},
     "output_type": "execute_result"
    }
   ],
   "source": [
    "#df dei gradi entranti di ciascun nodo\n",
    "df_gradi_in=pd.DataFrame(in_degrees.items(),columns=[\"nodi\",\"grado\"])\n",
    "#distribuzione dei nodi per i 5 gradi più ricorrenti\n",
    "df_gradi_in.groupby(\"grado\").count().head()\n",
    "#percentuale di nodi con grado=0 (nessun retweet ricevuto)\n",
    "round(df_gradi_in[df_gradi_in[\"grado\"]==0][\"grado\"].count()/df_gradi_in[\"grado\"].count(),4)"
   ]
  },
  {
   "cell_type": "code",
   "execution_count": 8,
   "metadata": {},
   "outputs": [
    {
     "data": {
      "text/plain": [
       "0.0118"
      ]
     },
     "execution_count": 8,
     "metadata": {},
     "output_type": "execute_result"
    }
   ],
   "source": [
    "round(df_gradi_in[df_gradi_in[\"grado\"]>15][\"grado\"].count()/df_gradi_in[\"grado\"].count(),4)"
   ]
  },
  {
   "cell_type": "markdown",
   "metadata": {},
   "source": [
    "##### Centrality"
   ]
  },
  {
   "cell_type": "code",
   "execution_count": null,
   "metadata": {},
   "outputs": [],
   "source": [
    "in_degrees=dict(G_directed.in_degree())\n",
    "in_degrees_sort=dict(sorted(in_degrees.items(), key=lambda item: item[1], reverse= True))\n",
    "HUBS=pd.DataFrame(list(in_degrees_sort.items()),columns=(\"id_utente\",\"rt_ricevuti\"))\n",
    "HUBS=pd.merge(HUBS,nodes[[\"Id\",\"Label\",\"hashtags\"]],left_on=\"id_utente\",right_on=\"Id\",how=\"left\")\n",
    "HUBS.drop(\"Id\",axis=1,inplace=True)\n",
    "HUBS.head(6)"
   ]
  },
  {
   "cell_type": "code",
   "execution_count": 14,
   "metadata": {},
   "outputs": [
    {
     "data": {
      "text/html": [
       "<div>\n",
       "<style scoped>\n",
       "    .dataframe tbody tr th:only-of-type {\n",
       "        vertical-align: middle;\n",
       "    }\n",
       "\n",
       "    .dataframe tbody tr th {\n",
       "        vertical-align: top;\n",
       "    }\n",
       "\n",
       "    .dataframe thead th {\n",
       "        text-align: right;\n",
       "    }\n",
       "</style>\n",
       "<table border=\"1\" class=\"dataframe\">\n",
       "  <thead>\n",
       "    <tr style=\"text-align: right;\">\n",
       "      <th></th>\n",
       "      <th>id_utente</th>\n",
       "      <th>in_degree_centrality</th>\n",
       "      <th>Label</th>\n",
       "      <th>hashtags</th>\n",
       "    </tr>\n",
       "  </thead>\n",
       "  <tbody>\n",
       "    <tr>\n",
       "      <th>0</th>\n",
       "      <td>1364298062919794688</td>\n",
       "      <td>0.208133</td>\n",
       "      <td>Lorenzo62752880</td>\n",
       "      <td>#NoGreenPass</td>\n",
       "    </tr>\n",
       "    <tr>\n",
       "      <th>1</th>\n",
       "      <td>22038676</td>\n",
       "      <td>0.111582</td>\n",
       "      <td>mariannaaprile</td>\n",
       "      <td>#vaccinatevi</td>\n",
       "    </tr>\n",
       "    <tr>\n",
       "      <th>2</th>\n",
       "      <td>231902290</td>\n",
       "      <td>0.079977</td>\n",
       "      <td>Cartabellotta</td>\n",
       "      <td>#vaccinatevi</td>\n",
       "    </tr>\n",
       "    <tr>\n",
       "      <th>3</th>\n",
       "      <td>270839361</td>\n",
       "      <td>0.063981</td>\n",
       "      <td>matteosalvinimi</td>\n",
       "      <td>@matteosalvinimi</td>\n",
       "    </tr>\n",
       "    <tr>\n",
       "      <th>4</th>\n",
       "      <td>215699843</td>\n",
       "      <td>0.047215</td>\n",
       "      <td>CasaPoundItalia</td>\n",
       "      <td>@CasaPoundItalia</td>\n",
       "    </tr>\n",
       "    <tr>\n",
       "      <th>5</th>\n",
       "      <td>1238800491632607232</td>\n",
       "      <td>0.039892</td>\n",
       "      <td>gianluca826</td>\n",
       "      <td>@matteosalvinimi</td>\n",
       "    </tr>\n",
       "  </tbody>\n",
       "</table>\n",
       "</div>"
      ],
      "text/plain": [
       "             id_utente  in_degree_centrality            Label  \\\n",
       "0  1364298062919794688              0.208133  Lorenzo62752880   \n",
       "1             22038676              0.111582   mariannaaprile   \n",
       "2            231902290              0.079977    Cartabellotta   \n",
       "3            270839361              0.063981  matteosalvinimi   \n",
       "4            215699843              0.047215  CasaPoundItalia   \n",
       "5  1238800491632607232              0.039892      gianluca826   \n",
       "\n",
       "           hashtags  \n",
       "0      #NoGreenPass  \n",
       "1      #vaccinatevi  \n",
       "2      #vaccinatevi  \n",
       "3  @matteosalvinimi  \n",
       "4  @CasaPoundItalia  \n",
       "5  @matteosalvinimi  "
      ]
     },
     "execution_count": 14,
     "metadata": {},
     "output_type": "execute_result"
    }
   ],
   "source": [
    "#The in-degree centrality for a node v is the fraction of nodes its incoming edges are connected to\n",
    "#top10 dei nodi con il maggior numero di archi entranti (i più retwettati)--> HUBS\n",
    "in_degree_centrality=nx.in_degree_centrality(G_directed)\n",
    "in_degree_centrality_sort=dict(sorted(in_degree_centrality.items(), key=lambda item: item[1], reverse= True))\n",
    "IN_Centrality=pd.DataFrame(list(in_degree_centrality_sort.items()),columns=(\"id_utente\",\"in_degree_centrality\"))\n",
    "IN_Centrality=pd.merge(IN_Centrality,nodes[[\"Id\",\"Label\",\"hashtags\"]],left_on=\"id_utente\",right_on=\"Id\",how=\"left\")\n",
    "IN_Centrality.drop(\"Id\",axis=1,inplace=True)\n",
    "IN_Centrality.head(6)"
   ]
  },
  {
   "cell_type": "code",
   "execution_count": 15,
   "metadata": {},
   "outputs": [
    {
     "data": {
      "text/html": [
       "<div>\n",
       "<style scoped>\n",
       "    .dataframe tbody tr th:only-of-type {\n",
       "        vertical-align: middle;\n",
       "    }\n",
       "\n",
       "    .dataframe tbody tr th {\n",
       "        vertical-align: top;\n",
       "    }\n",
       "\n",
       "    .dataframe thead th {\n",
       "        text-align: right;\n",
       "    }\n",
       "</style>\n",
       "<table border=\"1\" class=\"dataframe\">\n",
       "  <thead>\n",
       "    <tr style=\"text-align: right;\">\n",
       "      <th></th>\n",
       "      <th>id_utente</th>\n",
       "      <th>out_degree_centrality</th>\n",
       "      <th>Label</th>\n",
       "      <th>hashtags</th>\n",
       "    </tr>\n",
       "  </thead>\n",
       "  <tbody>\n",
       "    <tr>\n",
       "      <th>0</th>\n",
       "      <td>366660837</td>\n",
       "      <td>0.007323</td>\n",
       "      <td>_fiorucci</td>\n",
       "      <td>@matteosalvinimi</td>\n",
       "    </tr>\n",
       "    <tr>\n",
       "      <th>1</th>\n",
       "      <td>810235254870937600</td>\n",
       "      <td>0.006167</td>\n",
       "      <td>ferillo2</td>\n",
       "      <td>@matteosalvinimi</td>\n",
       "    </tr>\n",
       "    <tr>\n",
       "      <th>2</th>\n",
       "      <td>1174780873075544069</td>\n",
       "      <td>0.005011</td>\n",
       "      <td>rosaroccaforte</td>\n",
       "      <td>@matteosalvinimi</td>\n",
       "    </tr>\n",
       "    <tr>\n",
       "      <th>3</th>\n",
       "      <td>1042691054</td>\n",
       "      <td>0.005011</td>\n",
       "      <td>MastroRadu</td>\n",
       "      <td>@matteosalvinimi</td>\n",
       "    </tr>\n",
       "    <tr>\n",
       "      <th>4</th>\n",
       "      <td>2535751839</td>\n",
       "      <td>0.004625</td>\n",
       "      <td>MarySpes</td>\n",
       "      <td>@matteosalvinimi</td>\n",
       "    </tr>\n",
       "    <tr>\n",
       "      <th>5</th>\n",
       "      <td>358626243</td>\n",
       "      <td>0.004625</td>\n",
       "      <td>robymark1</td>\n",
       "      <td>@matteosalvinimi</td>\n",
       "    </tr>\n",
       "  </tbody>\n",
       "</table>\n",
       "</div>"
      ],
      "text/plain": [
       "             id_utente  out_degree_centrality           Label  \\\n",
       "0            366660837               0.007323       _fiorucci   \n",
       "1   810235254870937600               0.006167        ferillo2   \n",
       "2  1174780873075544069               0.005011  rosaroccaforte   \n",
       "3           1042691054               0.005011      MastroRadu   \n",
       "4           2535751839               0.004625        MarySpes   \n",
       "5            358626243               0.004625       robymark1   \n",
       "\n",
       "           hashtags  \n",
       "0  @matteosalvinimi  \n",
       "1  @matteosalvinimi  \n",
       "2  @matteosalvinimi  \n",
       "3  @matteosalvinimi  \n",
       "4  @matteosalvinimi  \n",
       "5  @matteosalvinimi  "
      ]
     },
     "execution_count": 15,
     "metadata": {},
     "output_type": "execute_result"
    }
   ],
   "source": [
    "#The out-degree centrality for a node v is the fraction of nodes its outcoming edges are connected to\n",
    "#top10 dei nodi con il maggior numero di archi uscenti (chi ha retwittato di più)\n",
    "out_degree_centrality=nx.out_degree_centrality(G_directed)\n",
    "out_degree_centrality_sort=dict(sorted(out_degree_centrality.items(), key=lambda item: item[1], reverse= True))\n",
    "OUT_Centrality=pd.DataFrame(list(out_degree_centrality_sort.items()),columns=(\"id_utente\",\"out_degree_centrality\"))\n",
    "OUT_Centrality=pd.merge(OUT_Centrality,nodes[[\"Id\",\"Label\",\"hashtags\"]],left_on=\"id_utente\",right_on=\"Id\",how=\"left\")\n",
    "OUT_Centrality.drop(\"Id\",axis=1,inplace=True)\n",
    "OUT_Centrality.head(6)"
   ]
  },
  {
   "cell_type": "code",
   "execution_count": 5,
   "metadata": {},
   "outputs": [],
   "source": [
    "#CLOSENESS CENTRALITY\n",
    "# of a node is a measure of centrality in a network, \n",
    "# calculated as the reciprocal of the sum of the length of the shortest paths between the node \n",
    "# and all other nodes in the graph. Thus, the more central a node is, the closer it is to all \n",
    "# other nodes.\n",
    "closeness_centrality=nx.closeness_centrality(G_directed)"
   ]
  },
  {
   "cell_type": "code",
   "execution_count": 6,
   "metadata": {},
   "outputs": [
    {
     "data": {
      "text/html": [
       "<div>\n",
       "<style scoped>\n",
       "    .dataframe tbody tr th:only-of-type {\n",
       "        vertical-align: middle;\n",
       "    }\n",
       "\n",
       "    .dataframe tbody tr th {\n",
       "        vertical-align: top;\n",
       "    }\n",
       "\n",
       "    .dataframe thead th {\n",
       "        text-align: right;\n",
       "    }\n",
       "</style>\n",
       "<table border=\"1\" class=\"dataframe\">\n",
       "  <thead>\n",
       "    <tr style=\"text-align: right;\">\n",
       "      <th></th>\n",
       "      <th>id_utente</th>\n",
       "      <th>closeness centrality</th>\n",
       "      <th>Label</th>\n",
       "      <th>hashtags</th>\n",
       "    </tr>\n",
       "  </thead>\n",
       "  <tbody>\n",
       "    <tr>\n",
       "      <th>0</th>\n",
       "      <td>1364298062919794688</td>\n",
       "      <td>0.199657</td>\n",
       "      <td>Lorenzo62752880</td>\n",
       "      <td>#NoGreenPass</td>\n",
       "    </tr>\n",
       "    <tr>\n",
       "      <th>1</th>\n",
       "      <td>22038676</td>\n",
       "      <td>0.135710</td>\n",
       "      <td>mariannaaprile</td>\n",
       "      <td>#vaccinatevi</td>\n",
       "    </tr>\n",
       "    <tr>\n",
       "      <th>2</th>\n",
       "      <td>231902290</td>\n",
       "      <td>0.080743</td>\n",
       "      <td>Cartabellotta</td>\n",
       "      <td>#vaccinatevi</td>\n",
       "    </tr>\n",
       "    <tr>\n",
       "      <th>3</th>\n",
       "      <td>4882542093</td>\n",
       "      <td>0.057145</td>\n",
       "      <td>lordfed3</td>\n",
       "      <td>#NoGreenPass</td>\n",
       "    </tr>\n",
       "    <tr>\n",
       "      <th>4</th>\n",
       "      <td>215699843</td>\n",
       "      <td>0.049076</td>\n",
       "      <td>CasaPoundItalia</td>\n",
       "      <td>@CasaPoundItalia</td>\n",
       "    </tr>\n",
       "  </tbody>\n",
       "</table>\n",
       "</div>"
      ],
      "text/plain": [
       "             id_utente  closeness centrality            Label  \\\n",
       "0  1364298062919794688              0.199657  Lorenzo62752880   \n",
       "1             22038676              0.135710   mariannaaprile   \n",
       "2            231902290              0.080743    Cartabellotta   \n",
       "3           4882542093              0.057145         lordfed3   \n",
       "4            215699843              0.049076  CasaPoundItalia   \n",
       "\n",
       "           hashtags  \n",
       "0      #NoGreenPass  \n",
       "1      #vaccinatevi  \n",
       "2      #vaccinatevi  \n",
       "3      #NoGreenPass  \n",
       "4  @CasaPoundItalia  "
      ]
     },
     "execution_count": 6,
     "metadata": {},
     "output_type": "execute_result"
    }
   ],
   "source": [
    "#trovo i top5 utenti per closeness_centrality\n",
    "closeness_centrality_sort=dict(sorted(closeness_centrality.items(), key=lambda item: item[1], reverse= True))\n",
    "CC=pd.DataFrame(list(closeness_centrality_sort.items()),columns=(\"id_utente\",\"closeness centrality\"))\n",
    "CC=pd.merge(CC,nodes[[\"Id\",\"Label\",\"hashtags\"]],left_on=\"id_utente\",right_on=\"Id\",how=\"left\")\n",
    "CC.drop(\"Id\",axis=1,inplace=True)\n",
    "CC.head(5)"
   ]
  },
  {
   "cell_type": "code",
   "execution_count": 19,
   "metadata": {},
   "outputs": [],
   "source": [
    "#BETWEENNESS CENTRALITY\n",
    "#betweenness centrality is a measure of centrality in a graph based on shortest paths. \n",
    "#Centrality misura l’importanza di un nodo nelle «comunicazioni» con gli altri nodi e\n",
    "#quindi l’ influenza all'interno di una rete in virtù del «controllo sulle informazioni» che passano,\n",
    "#pertanto si riferisce a quanto un nodo sia di passaggio \n",
    "betweenness_centrality=nx.betweenness_centrality(G_directed)"
   ]
  },
  {
   "cell_type": "code",
   "execution_count": 21,
   "metadata": {},
   "outputs": [
    {
     "data": {
      "text/html": [
       "<div>\n",
       "<style scoped>\n",
       "    .dataframe tbody tr th:only-of-type {\n",
       "        vertical-align: middle;\n",
       "    }\n",
       "\n",
       "    .dataframe tbody tr th {\n",
       "        vertical-align: top;\n",
       "    }\n",
       "\n",
       "    .dataframe thead th {\n",
       "        text-align: right;\n",
       "    }\n",
       "</style>\n",
       "<table border=\"1\" class=\"dataframe\">\n",
       "  <thead>\n",
       "    <tr style=\"text-align: right;\">\n",
       "      <th></th>\n",
       "      <th>id_utente</th>\n",
       "      <th>betweenness centrality</th>\n",
       "      <th>Label</th>\n",
       "      <th>hashtags</th>\n",
       "    </tr>\n",
       "  </thead>\n",
       "  <tbody>\n",
       "    <tr>\n",
       "      <th>0</th>\n",
       "      <td>1302616789348691968</td>\n",
       "      <td>0.000103</td>\n",
       "      <td>OrtigiaP</td>\n",
       "      <td>@matteosalvinimi</td>\n",
       "    </tr>\n",
       "    <tr>\n",
       "      <th>1</th>\n",
       "      <td>448335186</td>\n",
       "      <td>0.000070</td>\n",
       "      <td>giangoSGV</td>\n",
       "      <td>@matteosalvinimi</td>\n",
       "    </tr>\n",
       "    <tr>\n",
       "      <th>2</th>\n",
       "      <td>1468933392326610954</td>\n",
       "      <td>0.000061</td>\n",
       "      <td>Laura45770337</td>\n",
       "      <td>@matteosalvinimi</td>\n",
       "    </tr>\n",
       "    <tr>\n",
       "      <th>3</th>\n",
       "      <td>141509471</td>\n",
       "      <td>0.000049</td>\n",
       "      <td>giulianol</td>\n",
       "      <td>@matteosalvinimi</td>\n",
       "    </tr>\n",
       "    <tr>\n",
       "      <th>4</th>\n",
       "      <td>57358236</td>\n",
       "      <td>0.000039</td>\n",
       "      <td>lucabattanta</td>\n",
       "      <td>@matteosalvinimi</td>\n",
       "    </tr>\n",
       "    <tr>\n",
       "      <th>5</th>\n",
       "      <td>1435369757969092618</td>\n",
       "      <td>0.000034</td>\n",
       "      <td>steganiania</td>\n",
       "      <td>@matteosalvinimi</td>\n",
       "    </tr>\n",
       "    <tr>\n",
       "      <th>6</th>\n",
       "      <td>424084271</td>\n",
       "      <td>0.000024</td>\n",
       "      <td>SoniaLaVera</td>\n",
       "      <td>@matteosalvinimi</td>\n",
       "    </tr>\n",
       "    <tr>\n",
       "      <th>7</th>\n",
       "      <td>472905491</td>\n",
       "      <td>0.000017</td>\n",
       "      <td>gabelmanu</td>\n",
       "      <td>@EnricoLetta</td>\n",
       "    </tr>\n",
       "    <tr>\n",
       "      <th>8</th>\n",
       "      <td>1238800491632607232</td>\n",
       "      <td>0.000016</td>\n",
       "      <td>gianluca826</td>\n",
       "      <td>@matteosalvinimi</td>\n",
       "    </tr>\n",
       "    <tr>\n",
       "      <th>9</th>\n",
       "      <td>231902290</td>\n",
       "      <td>0.000015</td>\n",
       "      <td>Cartabellotta</td>\n",
       "      <td>#vaccinatevi</td>\n",
       "    </tr>\n",
       "  </tbody>\n",
       "</table>\n",
       "</div>"
      ],
      "text/plain": [
       "             id_utente  betweenness centrality          Label  \\\n",
       "0  1302616789348691968                0.000103       OrtigiaP   \n",
       "1            448335186                0.000070      giangoSGV   \n",
       "2  1468933392326610954                0.000061  Laura45770337   \n",
       "3            141509471                0.000049      giulianol   \n",
       "4             57358236                0.000039   lucabattanta   \n",
       "5  1435369757969092618                0.000034    steganiania   \n",
       "6            424084271                0.000024    SoniaLaVera   \n",
       "7            472905491                0.000017      gabelmanu   \n",
       "8  1238800491632607232                0.000016    gianluca826   \n",
       "9            231902290                0.000015  Cartabellotta   \n",
       "\n",
       "           hashtags  \n",
       "0  @matteosalvinimi  \n",
       "1  @matteosalvinimi  \n",
       "2  @matteosalvinimi  \n",
       "3  @matteosalvinimi  \n",
       "4  @matteosalvinimi  \n",
       "5  @matteosalvinimi  \n",
       "6  @matteosalvinimi  \n",
       "7      @EnricoLetta  \n",
       "8  @matteosalvinimi  \n",
       "9      #vaccinatevi  "
      ]
     },
     "execution_count": 21,
     "metadata": {},
     "output_type": "execute_result"
    }
   ],
   "source": [
    "#trovo i top5 utenti per betweenness_centrality\n",
    "betweenness_centrality_sort=dict(sorted(betweenness_centrality.items(), key=lambda item: item[1], reverse= True))\n",
    "BC=pd.DataFrame(list(betweenness_centrality_sort.items()),columns=(\"id_utente\",\"betweenness centrality\"))\n",
    "BC=pd.merge(BC,nodes[[\"Id\",\"Label\",\"hashtags\"]],left_on=\"id_utente\",right_on=\"Id\",how=\"left\")\n",
    "BC.drop(\"Id\",axis=1,inplace=True)\n",
    "BC.head(10)"
   ]
  }
 ],
 "metadata": {
  "interpreter": {
   "hash": "b3ba2566441a7c06988d0923437866b63cedc61552a5af99d1f4fb67d367b25f"
  },
  "kernelspec": {
   "display_name": "Python 3.8.5 64-bit ('base': conda)",
   "language": "python",
   "name": "python3"
  },
  "language_info": {
   "codemirror_mode": {
    "name": "ipython",
    "version": 3
   },
   "file_extension": ".py",
   "mimetype": "text/x-python",
   "name": "python",
   "nbconvert_exporter": "python",
   "pygments_lexer": "ipython3",
   "version": "3.8.5"
  },
  "orig_nbformat": 4
 },
 "nbformat": 4,
 "nbformat_minor": 2
}
