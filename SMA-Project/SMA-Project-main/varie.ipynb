{
 "cells": [
  {
   "cell_type": "markdown",
   "metadata": {},
   "source": [
    "##### Comandi utili con tweepy"
   ]
  },
  {
   "cell_type": "code",
   "execution_count": null,
   "metadata": {},
   "outputs": [],
   "source": [
    "#Mostra i miei follower\n",
    "for user in tweepy.Cursor(api.get_followers, screen_name=\"davide_pstars\").items():\n",
    "  print('follower: ' + user.screen_name)\n",
    "\n",
    "#Mostra chi seguo (amici)\n",
    "#Nel metodo items si può inserire un numero intero, a signifcare il numero di risultati da restituire.\n",
    "for user in tweepy.Cursor(api.get_friends, screen_name=\"@davide_pstars\").items():\n",
    "  print('friend: ' + user.screen_name)\n",
    "  \n",
    "# Mostro la mia timeline \n",
    "stuff = api.user_timeline(screen_name = '@davide_pstars', count = 10)"
   ]
  },
  {
   "cell_type": "markdown",
   "metadata": {},
   "source": [
    "##### Usare SQL in python"
   ]
  },
  {
   "cell_type": "code",
   "execution_count": null,
   "metadata": {},
   "outputs": [],
   "source": [
    "#Open the terminal and run-   pip install U pandasql\n",
    "#Open your Jupyter Notebook and in any cell run-    !pip install -U pandasql\n",
    "import pandasql as ps\n",
    "q1 = \"\"\"SELECT id FROM df \"\"\"\n",
    "print(ps.sqldf(q1, locals()))\n",
    "\n",
    "#oppure\n",
    "import sqlite3\n",
    "conn = sqlite3.connect('test_database') \n",
    "c = conn.cursor()\n",
    "c.execute('''\n",
    "          SELECT*\n",
    "          FROM products\n",
    "          ''')\n",
    "\n",
    "df = pd.DataFrame(c.fetchall(), columns = ['product_id', 'product_name', 'price'])\n",
    "print (df)"
   ]
  },
  {
   "cell_type": "markdown",
   "metadata": {},
   "source": [
    "##### Vado a vedere quali sono i tweet più retwittati e quante volte sono stati ritwittati (SQL)"
   ]
  },
  {
   "cell_type": "code",
   "execution_count": null,
   "metadata": {},
   "outputs": [
    {
     "name": "stdout",
     "output_type": "stream",
     "text": [
      "                      id  like  n_rt           author  count()\n",
      "0    1472593787633426432  2318  1315  cristian_paroli        1\n",
      "1    1446891133762785285  2685  1153   Giorgiolaporta        1\n",
      "2    1457815379045060608  3035  1106  strange_days_82        1\n",
      "3    1463423354187169797  2211  1000  strange_days_82        1\n",
      "4    1434976371336433667  1935   797       EmeiMarkus        1\n",
      "..                   ...   ...   ...              ...      ...\n",
      "555  1469704725314609152     1     1       Gia_Felino        1\n",
      "556  1467093215627124736     3     1  pecorefannobooh        1\n",
      "557  1460279676635516928     5     1       MarcoAlici        1\n",
      "558  1457362046643748867     0     1       angheran70        1\n",
      "559  1476051357090074624     3     0        Serena589        1\n",
      "\n",
      "[560 rows x 5 columns]\n"
     ]
    }
   ],
   "source": [
    "#Open the terminal and run-   pip install U pandasql\n",
    "#Open your Jupyter Notebook and in any cell run-    !pip install -U pandasql\n",
    "import pandasql as ps\n",
    "q1 = \"\"\"SELECT id,like,n_rt, author,count() FROM retweetted group by id order by n_rt desc\"\"\"\n",
    "print(ps.sqldf(q1, locals()))"
   ]
  },
  {
   "cell_type": "code",
   "execution_count": null,
   "metadata": {},
   "outputs": [],
   "source": [
    "#aggiungiamo a nodes gli hashtag\n",
    "hashtags=[]\n",
    "for index,row in nodes.iterrows():\n",
    "    if row['Colour']==\"#b00b69\":\n",
    "        hashtags.append(\"@EnricoLetta\")\n",
    "    if row['Colour']==\"#fb1239\":\n",
    "        hashtags.append(\"#NoGreenPass\")\n",
    "    if row['Colour']==\"#99cccc\":\n",
    "        hashtags.append(\"@matteosalvinimi\")\n",
    "    if row['Colour']==\"#042069\":\n",
    "        hashtags.append(\"@CasaPoundItalia\")\n",
    "    if row['Colour']==\"#007474\":\n",
    "        hashtags.append(\"#vaccinatevi\")\n",
    "\n",
    "nodes['hashtags']=hashtags"
   ]
  },
  {
   "cell_type": "code",
   "execution_count": null,
   "metadata": {},
   "outputs": [],
   "source": [
    "#associo a 1 gli hashtag ritenuti antivax, associo a 2 quelli ritenuti pro vaccino\n",
    "gruppo=[]\n",
    "\n",
    "for index,row in nodes.iterrows():\n",
    "    if row['hashtags']==\"#NoGreenPass\":\n",
    "        gruppo.append(1)\n",
    "    if row['hashtags']==\"#vaccinatevi\":\n",
    "        gruppo.append(2)\n",
    "    if row['hashtags']==\"@CasaPoundItalia\":\n",
    "        gruppo.append(1)\n",
    "    if row['hashtags']==\"@matteosalvinimi\":\n",
    "        gruppo.append(1)\n",
    "    if row['hashtags']==\"@EnricoLetta\":\n",
    "        gruppo.append(2)\n",
    "\n",
    "nodes['gruppo']=gruppo"
   ]
  }
 ],
 "metadata": {
  "language_info": {
   "name": "python"
  },
  "orig_nbformat": 4
 },
 "nbformat": 4,
 "nbformat_minor": 2
}
